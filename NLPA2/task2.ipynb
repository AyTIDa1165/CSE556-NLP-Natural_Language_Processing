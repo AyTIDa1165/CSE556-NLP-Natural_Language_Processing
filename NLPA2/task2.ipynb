{
 "cells": [
  {
   "cell_type": "code",
   "execution_count": 38,
   "metadata": {},
   "outputs": [],
   "source": [
    "import json"
   ]
  },
  {
   "cell_type": "code",
   "execution_count": 39,
   "metadata": {},
   "outputs": [],
   "source": [
    "def get_token_index(tokens, start):\n",
    "    char_index = 0\n",
    "    \n",
    "    for i, token in enumerate(tokens):\n",
    "        token_start = char_index\n",
    "        token_end = char_index + len(token)\n",
    "        \n",
    "        if token_start <= start and start <= token_end:\n",
    "            return i\n",
    "        \n",
    "        char_index = token_end + 1\n",
    "    \n",
    "    return -1"
   ]
  },
  {
   "cell_type": "code",
   "execution_count": 40,
   "metadata": {},
   "outputs": [],
   "source": [
    "def preprocessing(input_file, output_file):  \n",
    "    with open(input_file, 'r', encoding='utf-8') as file:\n",
    "        data = json.load(file)\n",
    "\n",
    "    preprocessed_data = []\n",
    "\n",
    "    for item in data:\n",
    "        sentence = item['sentence']\n",
    "        tokens = sentence.split()\n",
    "        aspect_terms = item['aspect_terms']\n",
    "\n",
    "        for aspect_term in aspect_terms:\n",
    "            start = int(aspect_term['from'])\n",
    "            end = int(aspect_term['to'])\n",
    "            index = get_token_index(tokens, start)\n",
    "\n",
    "            preprocessed_item = {\n",
    "                'tokens': tokens,\n",
    "                'polarity': aspect_term['polarity'],\n",
    "                'aspect_term': [aspect_term['term']],\n",
    "                'index': index\n",
    "            }\n",
    "            preprocessed_data.append(preprocessed_item)\n",
    "\n",
    "    with open(output_file, 'w', encoding='utf-8') as out_file:\n",
    "        json.dump(preprocessed_data, out_file, indent=4, ensure_ascii=False)"
   ]
  },
  {
   "cell_type": "code",
   "execution_count": 41,
   "metadata": {},
   "outputs": [],
   "source": [
    "preprocessing('train.json', 'train_task_2.json')\n",
    "preprocessing('val.json', 'val_task_2.json')"
   ]
  }
 ],
 "metadata": {
  "kernelspec": {
   "display_name": "Python 3",
   "language": "python",
   "name": "python3"
  },
  "language_info": {
   "codemirror_mode": {
    "name": "ipython",
    "version": 3
   },
   "file_extension": ".py",
   "mimetype": "text/x-python",
   "name": "python",
   "nbconvert_exporter": "python",
   "pygments_lexer": "ipython3",
   "version": "3.12.5"
  }
 },
 "nbformat": 4,
 "nbformat_minor": 2
}
