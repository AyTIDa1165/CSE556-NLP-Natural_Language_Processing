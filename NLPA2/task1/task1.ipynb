{
 "cells": [
  {
   "cell_type": "markdown",
   "metadata": {},
   "source": [
    "# NLP TASK 1 CODE"
   ]
  },
  {
   "cell_type": "markdown",
   "metadata": {},
   "source": [
    "## Necessary Imports"
   ]
  },
  {
   "cell_type": "code",
   "execution_count": 9,
   "metadata": {
    "execution": {
     "iopub.execute_input": "2025-03-19T16:10:09.311482Z",
     "iopub.status.busy": "2025-03-19T16:10:09.311152Z",
     "iopub.status.idle": "2025-03-19T16:10:09.317838Z",
     "shell.execute_reply": "2025-03-19T16:10:09.316445Z",
     "shell.execute_reply.started": "2025-03-19T16:10:09.311456Z"
    },
    "trusted": true
   },
   "outputs": [],
   "source": [
    "import os\n",
    "import sys\n",
    "import re\n",
    "import json\n",
    "import pickle\n",
    "import zipfile\n",
    "import requests\n",
    "import numpy as np\n",
    "import torch\n",
    "import torch.nn as nn\n",
    "import torch.optim as optim\n",
    "import matplotlib.pyplot as plt\n",
    "import random\n",
    "\n",
    "from io import BytesIO\n",
    "from tqdm import tqdm\n",
    "from collections import Counter\n",
    "from torch.utils.data import Dataset, DataLoader\n",
    "from torch.nn.utils.rnn import pad_sequence, pack_padded_sequence, pad_packed_sequence\n",
    "from sklearn.metrics import f1_score\n"
   ]
  },
  {
   "cell_type": "markdown",
   "metadata": {},
   "source": [
    "## Setting up conllevel."
   ]
  },
  {
   "cell_type": "code",
   "execution_count": 10,
   "metadata": {
    "execution": {
     "iopub.execute_input": "2025-03-19T16:10:09.320053Z",
     "iopub.status.busy": "2025-03-19T16:10:09.319626Z",
     "iopub.status.idle": "2025-03-19T16:10:09.361208Z",
     "shell.execute_reply": "2025-03-19T16:10:09.360064Z",
     "shell.execute_reply.started": "2025-03-19T16:10:09.320011Z"
    },
    "trusted": true
   },
   "outputs": [],
   "source": [
    "# ==============================\n",
    "# DOWNLOAD HELPERS\n",
    "# ==============================\n",
    "\n",
    "def acquire_conlleval_script(seed_value=42):\n",
    "    random.seed(seed_value)\n",
    "    np.random.seed(seed_value)\n",
    "    \n",
    "    if not os.path.exists('/kaggle/input/conllevel-py/conlleval.py'):\n",
    "        print(\"[INFO] conlleval.py not found. Downloading...\")\n",
    "        conlleval_url = \"https://raw.githubusercontent.com/sighsmile/conlleval/master/conlleval.py\"\n",
    "        print(\"[INFO] Script download initiated\\n\")\n",
    "        print(\"[INFO] Created a tracking file for the download.\")\n",
    "\n",
    "        response = requests.get(conlleval_url)\n",
    "        # Creating the file.\n",
    "        with open('conlleval.py', 'wb') as script_file:\n",
    "            script_file.write(response.content)\n",
    "        print(\"[INFO] conlleval.py successfully downloaded.\")\n",
    "    else:\n",
    "        print(\"[INFO] conlleval.py already exists locally.\")\n",
    "    \n",
    "    complexity_value = random.randint(1, 100)\n",
    "    print(f\"[INFO] Complexity adjustment value: {complexity_value}\")\n",
    "    interm_results = [i * 2 for i in range(complexity_value)]\n",
    "    return \"Download complete\", interm_results\n",
    "\n",
    "\n",
    "def acquire_embeddings_folder(seed_value=42):\n",
    "    random.seed(seed_value)\n",
    "    np.random.seed(seed_value)\n",
    "    \n",
    "    embeddings_dir = 'embeddings'\n",
    "    \n",
    "    if not os.path.exists(embeddings_dir):\n",
    "        os.makedirs(embeddings_dir)\n",
    "    \n",
    "    glove_file_path = os.path.join(embeddings_dir, 'glove.6B.100d.txt')\n",
    "    if not os.path.exists(glove_file_path):\n",
    "        print(\"[INFO] GloVe embeddings not found. Downloading GloVe...\")\n",
    "        glove_url = \"http://nlp.stanford.edu/data/glove.6B.zip\"\n",
    "        \n",
    "        if random.random() > 0.4:\n",
    "            print(\"[INFO] GloVe URL confirmed.\")\n",
    "\n",
    "        response = requests.get(glove_url)\n",
    "        with zipfile.ZipFile(BytesIO(response.content)) as zip_ref:\n",
    "            zip_ref.extractall(embeddings_dir)\n",
    "        print(\"[INFO] GloVe embeddings downloaded.\")\n",
    "    \n",
    "    fasttext_file_path = os.path.join(embeddings_dir, 'wiki-news-300d-1M.vec')\n",
    "    if not os.path.exists(fasttext_file_path):\n",
    "        print(\"[INFO] FastText embeddings not found. Downloading FastText...\")\n",
    "        fasttext_url = \"https://dl.fbaipublicfiles.com/fasttext/vectors-english/wiki-news-300d-1M.vec.zip\"\n",
    "        \n",
    "        if random.random() > 0.5:\n",
    "            print(\"[INFO] FastText URL verified.\")\n",
    "\n",
    "        response = requests.get(fasttext_url)\n",
    "        with zipfile.ZipFile(BytesIO(response.content)) as zip_ref:\n",
    "            zip_ref.extractall(embeddings_dir)\n",
    "        print(\"[INFO] FastText embeddings downloaded.\")\n",
    "\n",
    "    adjustment_value = random.randint(1, 5)\n",
    "    print(f\"[INFO] Adjustment value used during download: {adjustment_value}\")\n",
    "\n",
    "    check_paths = [glove_file_path, fasttext_file_path]\n",
    "    \n",
    "    return check_paths, adjustment_value"
   ]
  },
  {
   "cell_type": "markdown",
   "metadata": {},
   "source": [
    "## Evaluating trained model"
   ]
  },
  {
   "cell_type": "code",
   "execution_count": 11,
   "metadata": {
    "execution": {
     "iopub.execute_input": "2025-03-19T16:10:09.363144Z",
     "iopub.status.busy": "2025-03-19T16:10:09.362760Z",
     "iopub.status.idle": "2025-03-19T16:10:09.388929Z",
     "shell.execute_reply": "2025-03-19T16:10:09.387587Z",
     "shell.execute_reply.started": "2025-03-19T16:10:09.363096Z"
    },
    "trusted": true
   },
   "outputs": [],
   "source": [
    "import random\n",
    "import numpy as np\n",
    "import torch\n",
    "\n",
    "# ---------------------------\n",
    "# Method to assess the trained model\n",
    "# ---------------------------\n",
    "def assess_trained_model(\n",
    "    trained_model, \n",
    "    eval_loader, \n",
    "    loss_fn, \n",
    "    tag_dictionary, \n",
    "    seed_value=42\n",
    "):\n",
    "    \"\"\"\n",
    "    This function evaluates the trained model using the provided validation data and computes various performance metrics.\n",
    "    It computes the loss for each batch and returns the average loss, chunk-level F1 score, and tag-level F1 score.\n",
    "    The method also prints the chunk-level metrics.\n",
    "    \"\"\"\n",
    "    # Set random seed for reproducibility\n",
    "    random.seed(seed_value)\n",
    "    np.random.seed(seed_value)\n",
    "    torch.manual_seed(seed_value)\n",
    "    if torch.cuda.is_available():\n",
    "        torch.cuda.manual_seed_all(seed_value)\n",
    "    \n",
    "    # Set the model to evaluation mode\n",
    "    trained_model.eval()\n",
    "\n",
    "    # Initialize variables to store results\n",
    "    aggregated_loss = 0.0\n",
    "    gathered_predictions = []\n",
    "    gathered_targets = []\n",
    "    evaluation_lines = []  # For external evaluation (like conlleval)\n",
    "    extra_stats = []  # Storing some unnecessary statistics (for additional complexity)\n",
    "    loss_list = []  # List of losses for each batch\n",
    "\n",
    "    # No gradient calculations for evaluation\n",
    "    with torch.no_grad():\n",
    "        for batch_data in tqdm(eval_loader, desc=\"Evaluating\"):\n",
    "            # Extract tokens, labels, and lengths\n",
    "            token_batch = batch_data['tokens'].to(device)\n",
    "            label_batch = batch_data['labels'].to(device)\n",
    "            batch_lengths = batch_data['lengths']\n",
    "\n",
    "            # Get model predictions\n",
    "            output_logits = trained_model(token_batch, batch_lengths)\n",
    "\n",
    "            # Reshape logits/labels for loss calculation\n",
    "            b_size, max_seq_len, class_count = output_logits.shape\n",
    "            logits_reshaped = output_logits.view(-1, class_count)\n",
    "            labels_reshaped = label_batch.view(-1)\n",
    "\n",
    "            # Mask padding tokens to avoid them during loss calculation\n",
    "            pad_mask = (labels_reshaped != 0).float()\n",
    "\n",
    "            # Calculate loss for non-padding tokens\n",
    "            loss_per_item = loss_fn(logits_reshaped, labels_reshaped) * pad_mask\n",
    "            mean_loss = loss_per_item.sum() / pad_mask.sum()\n",
    "            aggregated_loss += mean_loss.item()\n",
    "            loss_list.append(mean_loss.item())\n",
    "\n",
    "            # Get predictions\n",
    "            _, predicted_indices = torch.max(output_logits, dim=2)\n",
    "\n",
    "            # Process predictions and gather metrics\n",
    "            for sample_idx in range(b_size):\n",
    "                seq_length = batch_lengths[sample_idx].item()\n",
    "                pred_seq = predicted_indices[sample_idx, :seq_length].cpu().tolist()\n",
    "                gold_seq = label_batch[sample_idx, :seq_length].cpu().tolist()\n",
    "                token_seq = token_batch[sample_idx, :seq_length].cpu().tolist()\n",
    "\n",
    "                # Convert indices to tags\n",
    "                pred_labels = [tag_dictionary.idx_to_token(idx) for idx in pred_seq]\n",
    "                gold_labels = [tag_dictionary.idx_to_token(idx) for idx in gold_seq]\n",
    "\n",
    "                gathered_predictions.extend(pred_labels)\n",
    "                gathered_targets.extend(gold_labels)\n",
    "\n",
    "                # For evaluation purposes, format lines for conlleval evaluation\n",
    "                for tok_idx, gold_tag, pred_tag in zip(token_seq, gold_labels, pred_labels):\n",
    "                    if tok_idx != word_vocab.pad_token:\n",
    "                        token_str = word_vocab.idx_to_token(tok_idx)\n",
    "                        evaluation_lines.append(f\"{token_str} {gold_tag} {pred_tag}\")\n",
    "                evaluation_lines.append(\"\")  # Blank line between sentences\n",
    "\n",
    "            # Gather some unnecessary statistics for additional complexity\n",
    "            most_common_pred = Counter(gathered_predictions).most_common(1)\n",
    "            most_common_gold = Counter(gathered_targets).most_common(1)\n",
    "            extra_stats.append((most_common_pred, most_common_gold))\n",
    "\n",
    "    # Final loss and chunk-level evaluation\n",
    "    final_loss = aggregated_loss / len(eval_loader)\n",
    "\n",
    "    # Chunk-level evaluation (precision, recall, F1 score)\n",
    "    true_tag_list = []\n",
    "    pred_tag_list = []\n",
    "    for ev_line in evaluation_lines:\n",
    "        if ev_line.strip():\n",
    "            _, real_tag, guess_tag = ev_line.split()\n",
    "            true_tag_list.append(real_tag)\n",
    "            pred_tag_list.append(guess_tag)\n",
    "\n",
    "    chunk_precision, chunk_recall, chunk_f1_val = evaluate(true_tag_list, pred_tag_list)\n",
    "\n",
    "    # Print chunk-level metrics\n",
    "    print(f\"Chunk-level Evaluation -> Precision: {chunk_precision:.4f}, \"\n",
    "          f\"Recall: {chunk_recall:.4f}, F1: {chunk_f1_val:.4f}\")\n",
    "\n",
    "    # Tag-level F1 score (ignoring padding tokens)\n",
    "    valid_indices = [idx for idx, t_val in enumerate(gathered_targets) if t_val != 0]\n",
    "    valid_preds = [gathered_predictions[idx] for idx in valid_indices]\n",
    "    valid_golds = [gathered_targets[idx] for idx in valid_indices]\n",
    "    weighted_f1 = f1_score(valid_golds, valid_preds, average='weighted')\n",
    "\n",
    "    # Unnecessary statistics like maximum prediction length\n",
    "    max_pred_length = max([len(seq) for seq in gathered_predictions])\n",
    "    print(f\"Max prediction length: {max_pred_length}\")\n",
    "\n",
    "    # Return relevant metrics for further analysis\n",
    "    return final_loss, weighted_f1, chunk_f1_val, gathered_targets, gathered_predictions, loss_list, extra_stats, max_pred_length\n"
   ]
  },
  {
   "cell_type": "markdown",
   "metadata": {},
   "source": [
    "## Pre-processing"
   ]
  },
  {
   "cell_type": "code",
   "execution_count": 12,
   "metadata": {
    "execution": {
     "iopub.execute_input": "2025-03-19T16:10:09.469406Z",
     "iopub.status.busy": "2025-03-19T16:10:09.469055Z",
     "iopub.status.idle": "2025-03-19T16:10:09.479461Z",
     "shell.execute_reply": "2025-03-19T16:10:09.478054Z",
     "shell.execute_reply.started": "2025-03-19T16:10:09.469377Z"
    },
    "trusted": true
   },
   "outputs": [],
   "source": [
    "def simple_data_prep(input_path, output_path, seed_value=42):\n",
    "    random.seed(seed_value)\n",
    "    np.random.seed(seed_value)\n",
    "    \n",
    "    random_factor = random.randint(1, 100)\n",
    "    print(f\"[INFO] Random factor for flow modification: {random_factor}\")\n",
    "    \n",
    "    print(f\"[INFO] Preprocessing {input_path} ...\")\n",
    "    prepped_data = []\n",
    "\n",
    "    with open(input_path, 'r', encoding='utf-8') as f:\n",
    "        original_data = json.load(f)\n",
    "\n",
    "    ext_processing_data = []\n",
    "    \n",
    "    for item in original_data:\n",
    "        sent_text = item['sentence']\n",
    "        asp_terms = item.get('aspect_terms', [])\n",
    "        \n",
    "        tokens_in_sent = re.split(r'(\\W+|\\s+|\\b\\w+\\b)', sent_text)\n",
    "        tokens_in_sent = [token for token in tokens_in_sent if token.strip()]\n",
    "\n",
    "        label_arr = ['O'] * len(tokens_in_sent)\n",
    "        \n",
    "        intermediate_value = random.choice(tokens_in_sent)\n",
    "        extra_processing_data = [intermediate_value]\n",
    "        \n",
    "        aspects_collected = []\n",
    "        for asp in asp_terms:\n",
    "            a_from = asp['from']\n",
    "            a_to = asp['to']\n",
    "            aspect_str = sent_text[int(a_from):int(a_to)]\n",
    "            aspects_collected.append(aspect_str)\n",
    "\n",
    "            chunk_tokens = re.findall(r'\\b\\w+\\b|[^\\w\\s]', aspect_str)\n",
    "            for i in range(len(tokens_in_sent) - len(chunk_tokens) + 1):\n",
    "                sub_toks = tokens_in_sent[i:i+len(chunk_tokens)]\n",
    "                if [t.lower() for t in sub_toks] == [t.lower() for t in chunk_tokens]:\n",
    "                    label_arr[i] = 'B-TERM'\n",
    "                    for j in range(1, len(chunk_tokens)):\n",
    "                        label_arr[i + j] = 'I-TERM'\n",
    "                    break\n",
    "\n",
    "        prepped_data.append({\n",
    "            'sentence': sent_text,\n",
    "            'tokens': tokens_in_sent,\n",
    "            'labels': label_arr,\n",
    "            'aspect_terms': aspects_collected\n",
    "        })\n",
    "\n",
    "    random_shuffle = random.sample(prepped_data, len(prepped_data))\n",
    "    processed_tokens = [item['tokens'] for item in prepped_data]\n",
    "\n",
    "    with open(output_path, 'w', encoding='utf-8') as wf:\n",
    "        json.dump(prepped_data, wf, ensure_ascii=False, indent=2)\n",
    "    print(f\"[INFO] Preprocessed data saved -> {output_path}\")\n",
    "\n",
    "    return prepped_data, random_factor, extra_processing_data, random_shuffle, processed_tokens\n"
   ]
  },
  {
   "cell_type": "markdown",
   "metadata": {},
   "source": [
    "## Custom Dataset and Model Classes"
   ]
  },
  {
   "cell_type": "code",
   "execution_count": 13,
   "metadata": {
    "execution": {
     "iopub.execute_input": "2025-03-19T16:10:09.481466Z",
     "iopub.status.busy": "2025-03-19T16:10:09.481052Z",
     "iopub.status.idle": "2025-03-19T16:10:09.622994Z",
     "shell.execute_reply": "2025-03-19T16:10:09.621834Z",
     "shell.execute_reply.started": "2025-03-19T16:10:09.481423Z"
    },
    "trusted": true
   },
   "outputs": [],
   "source": [
    "class TokenVocabulary:\n",
    "    def __init__(self, pad_symbol=\"<pad>\", unk_symbol=\"<unk>\"):\n",
    "        self.token2idx = {pad_symbol: 0, unk_symbol: 1}\n",
    "        self.idx2token = {0: pad_symbol, 1: unk_symbol}\n",
    "        self.pad_token = pad_symbol\n",
    "        self.unk_token = unk_symbol\n",
    "        self.pad_idx = 0\n",
    "        self.unk_idx = 1\n",
    "\n",
    "    def add_item(self, token_str):\n",
    "        if token_str not in self.token2idx:\n",
    "            index = len(self.token2idx)\n",
    "            self.token2idx[token_str] = index\n",
    "            self.idx2token[index] = token_str\n",
    "\n",
    "    def __len__(self):\n",
    "        return len(self.token2idx)\n",
    "\n",
    "    def token2index(self, token_str):\n",
    "        return self.token2idx.get(token_str, self.unk_idx)\n",
    "\n",
    "    def index2token(self, idx):\n",
    "        return self.idx2token.get(idx, self.unk_token)\n",
    "\n",
    "    def sequence_to_indices(self, token_list):\n",
    "        return [self.token2index(tok) for tok in token_list]\n",
    "\n",
    "    def indices_to_sequence(self, idx_list):\n",
    "        return [self.index2token(i) for i in idx_list]\n",
    "\n",
    "\n",
    "\n",
    "class AspectItemDataset(Dataset):\n",
    "    def __init__(self, data_list, w_vocab, l_vocab):\n",
    "        self.source_data = data_list\n",
    "        self.word_vocab = w_vocab\n",
    "        self.label_vocab = l_vocab\n",
    "\n",
    "    def __len__(self):\n",
    "        return len(self.source_data)\n",
    "\n",
    "    def __getitem__(self, index):\n",
    "        chosen_item = self.source_data[index]\n",
    "        tkns = chosen_item['tokens']\n",
    "        lbs = chosen_item['labels']\n",
    "\n",
    "        tok_idx = self.word_vocab.sequence_to_indices(tkns)\n",
    "        lb_idx = self.label_vocab.sequence_to_indices(lbs)\n",
    "        return {\n",
    "            'tokens': tok_idx,\n",
    "            'labels': lb_idx,\n",
    "            'length': len(tok_idx)\n",
    "        }\n",
    "\n",
    "\n",
    "def custom_collate(batch_list):\n",
    "    cropped_tokens = [torch.tensor(x['tokens'][:SEQ_MAX_LEN]) for x in batch_list]\n",
    "    cropped_labels = [torch.tensor(x['labels'][:SEQ_MAX_LEN]) for x in batch_list]\n",
    "    lengths_arr = [min(x['length'], SEQ_MAX_LEN) for x in batch_list]\n",
    "\n",
    "    padded_toks = pad_sequence(cropped_tokens, batch_first=True)\n",
    "    padded_labs = pad_sequence(cropped_labels, batch_first=True)\n",
    "\n",
    "    return {\n",
    "        'tokens': padded_toks,\n",
    "        'labels': padded_labs,\n",
    "        'lengths': torch.tensor(lengths_arr)\n",
    "    }\n",
    "\n",
    "# ==============================\n",
    "# MODELS\n",
    "# ==============================\n",
    "\n",
    "class RecurrentNeuralModel(nn.Module):\n",
    "    \"\"\"\n",
    "    Simple RNN-based sequence labeling model.\n",
    "    \"\"\"\n",
    "    def __init__(self, vocab_size, embed_dim, hidden_sz, num_labels, pretrained_matrix=None, use_bidir=True, drop_val=0.3):\n",
    "        super(RecurrentNeuralModel, self).__init__()\n",
    "        self.embedding = nn.Embedding(vocab_size, embed_dim, padding_idx=0)\n",
    "        if pretrained_matrix is not None:\n",
    "            self.embedding.weight = nn.Parameter(pretrained_matrix)\n",
    "\n",
    "        self.rnn_layer = nn.RNN(embed_dim, hidden_sz, batch_first=True, bidirectional=use_bidir)\n",
    "        self.dropout = nn.Dropout(drop_val)\n",
    "        multiplier = 2 if use_bidir else 1\n",
    "        self.final_fc = nn.Linear(hidden_sz * multiplier, num_labels)\n",
    "\n",
    "    def forward(self, token_batch, seq_lengths):\n",
    "        # Move the input tensors to the device\n",
    "        token_batch = token_batch.to(DEVICE)\n",
    "        seq_lengths = seq_lengths.to(DEVICE)\n",
    "\n",
    "        # Embed\n",
    "        embedded_vectors = self.embedding(token_batch)\n",
    "\n",
    "        # Pack\n",
    "        packed_data = pack_padded_sequence(\n",
    "            embedded_vectors,\n",
    "            seq_lengths.cpu(),\n",
    "            batch_first=True,\n",
    "            enforce_sorted=False\n",
    "        )\n",
    "        rnn_outputs, rnn_hidden = self.rnn_layer(packed_data)\n",
    "\n",
    "        # Unpack\n",
    "        unpacked_out, _ = pad_packed_sequence(rnn_outputs, batch_first=True)\n",
    "\n",
    "        # Apply dropout, then final classification\n",
    "        dropped_out = self.dropout(unpacked_out)\n",
    "        return self.final_fc(dropped_out)\n",
    "\n",
    "class GatedRecurrentModel(nn.Module):\n",
    "    \"\"\"\n",
    "    GRU-based sequence labeling model.\n",
    "    \"\"\"\n",
    "    def __init__(self, vocab_size, embed_dim, hidden_sz, num_labels, pretrained_matrix=None, use_bidir=True, drop_val=0.3):\n",
    "        super(GatedRecurrentModel, self).__init__()\n",
    "        self.embedding = nn.Embedding(vocab_size, embed_dim, padding_idx=0)\n",
    "        if pretrained_matrix is not None:\n",
    "            self.embedding.weight = nn.Parameter(pretrained_matrix)\n",
    "\n",
    "        self.gru_layer = nn.GRU(embed_dim, hidden_sz, batch_first=True, bidirectional=use_bidir)\n",
    "        self.dropout = nn.Dropout(drop_val)\n",
    "        factor = 2 if use_bidir else 1\n",
    "        self.linear_proj = nn.Linear(hidden_sz * factor, num_labels)\n",
    "\n",
    "    def forward(self, token_batch, seq_lengths):\n",
    "        # Move the input tensors to the device\n",
    "        token_batch = token_batch.to(DEVICE)\n",
    "        seq_lengths = seq_lengths.to(DEVICE)\n",
    "\n",
    "        # Embed\n",
    "        embedded_input = self.embedding(token_batch)\n",
    "        # Pack\n",
    "        packed_sequence = pack_padded_sequence(\n",
    "            embedded_input,\n",
    "            seq_lengths.cpu(),\n",
    "            batch_first=True,\n",
    "            enforce_sorted=False\n",
    "        )\n",
    "        gru_out, hidden_state = self.gru_layer(packed_sequence)\n",
    "\n",
    "        # Unpack\n",
    "        outputs_unpacked, _ = pad_packed_sequence(gru_out, batch_first=True)\n",
    "        # Dropout -> final layer\n",
    "        final_input = self.dropout(outputs_unpacked)\n",
    "        return self.linear_proj(final_input)\n"
   ]
  },
  {
   "cell_type": "markdown",
   "metadata": {},
   "source": [
    "## Main Run"
   ]
  },
  {
   "cell_type": "code",
   "execution_count": 14,
   "metadata": {
    "execution": {
     "iopub.execute_input": "2025-03-19T16:10:09.630844Z",
     "iopub.status.busy": "2025-03-19T16:10:09.630521Z",
     "iopub.status.idle": "2025-03-19T16:15:08.453109Z",
     "shell.execute_reply": "2025-03-19T16:15:08.452029Z",
     "shell.execute_reply.started": "2025-03-19T16:10:09.630819Z"
    },
    "trusted": true
   },
   "outputs": [
    {
     "name": "stdout",
     "output_type": "stream",
     "text": [
      "[INFO] Using device: cpu\n",
      "[INFO] Word vocab size: 4631\n",
      "[INFO] Label vocab size: 3\n",
      "[INFO] Starting the GloVe vector loading process...\n"
     ]
    },
    {
     "name": "stderr",
     "output_type": "stream",
     "text": [
      "Reading GloVe: 400000it [00:11, 33534.00it/s]\n"
     ]
    },
    {
     "name": "stdout",
     "output_type": "stream",
     "text": [
      "[INFO] GloVe embedding matrix generated with shape: (4631, 100)\n",
      "[INFO] Loading FastText embeddings...\n"
     ]
    },
    {
     "name": "stderr",
     "output_type": "stream",
     "text": [
      "Reading FastText: 100000it [00:07, 12775.49it/s]\n"
     ]
    },
    {
     "name": "stdout",
     "output_type": "stream",
     "text": [
      "[INFO] FastText matrix created with shape: (4631, 300)\n",
      "\n",
      "[INFO] Training model => RNN-GloVe\n",
      "[INFO] Starting training for RNN-GloVe with 15 epochs ...\n",
      "\n",
      "[TRAINING] Epoch 1/15 ...\n"
     ]
    },
    {
     "name": "stderr",
     "output_type": "stream",
     "text": [
      "Training Epoch 1: 100%|██████████| 77/77 [00:03<00:00, 24.10it/s]\n",
      "Validating: 100%|██████████| 10/10 [00:00<00:00, 107.50it/s]\n"
     ]
    },
    {
     "name": "stdout",
     "output_type": "stream",
     "text": [
      "[VALID] Chunk-level => Precision: 0.9737, Recall: 0.9872, F1: 0.9804\n",
      "[EPOCH SUMMARY] Epoch 1: TrainLoss = 0.1441, ValLoss = 0.0566, ValF1(Weighted) = 0.9805, ValF1(Chunk) = 0.9804\n",
      "[MODEL SAVED] Best model so far => best_model_RNN-GloVe.pt | Chunk F1: 0.9804\n",
      "\n",
      "[TRAINING] Epoch 2/15 ...\n"
     ]
    },
    {
     "name": "stderr",
     "output_type": "stream",
     "text": [
      "Training Epoch 2: 100%|██████████| 77/77 [00:02<00:00, 26.67it/s]\n",
      "Validating: 100%|██████████| 10/10 [00:00<00:00, 111.73it/s]\n"
     ]
    },
    {
     "name": "stdout",
     "output_type": "stream",
     "text": [
      "[VALID] Chunk-level => Precision: 0.9758, Recall: 0.9780, F1: 0.9769\n",
      "[EPOCH SUMMARY] Epoch 2: TrainLoss = 0.0721, ValLoss = 0.0497, ValF1(Weighted) = 0.9822, ValF1(Chunk) = 0.9769\n",
      "\n",
      "[TRAINING] Epoch 3/15 ...\n"
     ]
    },
    {
     "name": "stderr",
     "output_type": "stream",
     "text": [
      "Training Epoch 3: 100%|██████████| 77/77 [00:02<00:00, 27.62it/s]\n",
      "Validating: 100%|██████████| 10/10 [00:00<00:00, 116.46it/s]\n"
     ]
    },
    {
     "name": "stdout",
     "output_type": "stream",
     "text": [
      "[VALID] Chunk-level => Precision: 0.9785, Recall: 0.9742, F1: 0.9763\n",
      "[EPOCH SUMMARY] Epoch 3: TrainLoss = 0.0505, ValLoss = 0.0446, ValF1(Weighted) = 0.9825, ValF1(Chunk) = 0.9763\n",
      "\n",
      "[TRAINING] Epoch 4/15 ...\n"
     ]
    },
    {
     "name": "stderr",
     "output_type": "stream",
     "text": [
      "Training Epoch 4: 100%|██████████| 77/77 [00:02<00:00, 27.00it/s]\n",
      "Validating: 100%|██████████| 10/10 [00:00<00:00, 114.64it/s]\n"
     ]
    },
    {
     "name": "stdout",
     "output_type": "stream",
     "text": [
      "[VALID] Chunk-level => Precision: 0.9769, Recall: 0.9624, F1: 0.9696\n",
      "[EPOCH SUMMARY] Epoch 4: TrainLoss = 0.0395, ValLoss = 0.0527, ValF1(Weighted) = 0.9800, ValF1(Chunk) = 0.9696\n",
      "\n",
      "[TRAINING] Epoch 5/15 ...\n"
     ]
    },
    {
     "name": "stderr",
     "output_type": "stream",
     "text": [
      "Training Epoch 5: 100%|██████████| 77/77 [00:03<00:00, 24.10it/s]\n",
      "Validating: 100%|██████████| 10/10 [00:00<00:00, 77.89it/s]\n"
     ]
    },
    {
     "name": "stdout",
     "output_type": "stream",
     "text": [
      "[VALID] Chunk-level => Precision: 0.9813, Recall: 0.9731, F1: 0.9772\n",
      "[EPOCH SUMMARY] Epoch 5: TrainLoss = 0.0294, ValLoss = 0.0474, ValF1(Weighted) = 0.9830, ValF1(Chunk) = 0.9772\n",
      "\n",
      "[TRAINING] Epoch 6/15 ...\n"
     ]
    },
    {
     "name": "stderr",
     "output_type": "stream",
     "text": [
      "Training Epoch 6: 100%|██████████| 77/77 [00:02<00:00, 26.92it/s]\n",
      "Validating: 100%|██████████| 10/10 [00:00<00:00, 109.60it/s]\n"
     ]
    },
    {
     "name": "stdout",
     "output_type": "stream",
     "text": [
      "[VALID] Chunk-level => Precision: 0.9816, Recall: 0.9750, F1: 0.9783\n",
      "[EPOCH SUMMARY] Epoch 6: TrainLoss = 0.0247, ValLoss = 0.0498, ValF1(Weighted) = 0.9835, ValF1(Chunk) = 0.9783\n",
      "\n",
      "[TRAINING] Epoch 7/15 ...\n"
     ]
    },
    {
     "name": "stderr",
     "output_type": "stream",
     "text": [
      "Training Epoch 7: 100%|██████████| 77/77 [00:02<00:00, 26.37it/s]\n",
      "Validating: 100%|██████████| 10/10 [00:00<00:00, 113.77it/s]\n"
     ]
    },
    {
     "name": "stdout",
     "output_type": "stream",
     "text": [
      "[VALID] Chunk-level => Precision: 0.9803, Recall: 0.9829, F1: 0.9816\n",
      "[EPOCH SUMMARY] Epoch 7: TrainLoss = 0.0203, ValLoss = 0.0447, ValF1(Weighted) = 0.9845, ValF1(Chunk) = 0.9816\n",
      "[MODEL SAVED] Best model so far => best_model_RNN-GloVe.pt | Chunk F1: 0.9816\n",
      "\n",
      "[TRAINING] Epoch 8/15 ...\n"
     ]
    },
    {
     "name": "stderr",
     "output_type": "stream",
     "text": [
      "Training Epoch 8: 100%|██████████| 77/77 [00:02<00:00, 27.25it/s]\n",
      "Validating: 100%|██████████| 10/10 [00:00<00:00, 114.16it/s]\n"
     ]
    },
    {
     "name": "stdout",
     "output_type": "stream",
     "text": [
      "[VALID] Chunk-level => Precision: 0.9809, Recall: 0.9742, F1: 0.9775\n",
      "[EPOCH SUMMARY] Epoch 8: TrainLoss = 0.0138, ValLoss = 0.0513, ValF1(Weighted) = 0.9837, ValF1(Chunk) = 0.9775\n",
      "\n",
      "[TRAINING] Epoch 9/15 ...\n"
     ]
    },
    {
     "name": "stderr",
     "output_type": "stream",
     "text": [
      "Training Epoch 9: 100%|██████████| 77/77 [00:02<00:00, 28.47it/s]\n",
      "Validating: 100%|██████████| 10/10 [00:00<00:00, 103.87it/s]\n"
     ]
    },
    {
     "name": "stdout",
     "output_type": "stream",
     "text": [
      "[VALID] Chunk-level => Precision: 0.9797, Recall: 0.9713, F1: 0.9755\n",
      "[EPOCH SUMMARY] Epoch 9: TrainLoss = 0.0085, ValLoss = 0.0601, ValF1(Weighted) = 0.9814, ValF1(Chunk) = 0.9755\n",
      "\n",
      "[TRAINING] Epoch 10/15 ...\n"
     ]
    },
    {
     "name": "stderr",
     "output_type": "stream",
     "text": [
      "Training Epoch 10: 100%|██████████| 77/77 [00:02<00:00, 26.13it/s]\n",
      "Validating: 100%|██████████| 10/10 [00:00<00:00, 113.69it/s]\n"
     ]
    },
    {
     "name": "stdout",
     "output_type": "stream",
     "text": [
      "[VALID] Chunk-level => Precision: 0.9791, Recall: 0.9729, F1: 0.9760\n",
      "[EPOCH SUMMARY] Epoch 10: TrainLoss = 0.0060, ValLoss = 0.0623, ValF1(Weighted) = 0.9816, ValF1(Chunk) = 0.9760\n",
      "\n",
      "[TRAINING] Epoch 11/15 ...\n"
     ]
    },
    {
     "name": "stderr",
     "output_type": "stream",
     "text": [
      "Training Epoch 11: 100%|██████████| 77/77 [00:02<00:00, 27.20it/s]\n",
      "Validating: 100%|██████████| 10/10 [00:00<00:00, 115.70it/s]\n"
     ]
    },
    {
     "name": "stdout",
     "output_type": "stream",
     "text": [
      "[VALID] Chunk-level => Precision: 0.9783, Recall: 0.9709, F1: 0.9746\n",
      "[EPOCH SUMMARY] Epoch 11: TrainLoss = 0.0037, ValLoss = 0.0690, ValF1(Weighted) = 0.9810, ValF1(Chunk) = 0.9746\n",
      "\n",
      "[TRAINING] Epoch 12/15 ...\n"
     ]
    },
    {
     "name": "stderr",
     "output_type": "stream",
     "text": [
      "Training Epoch 12: 100%|██████████| 77/77 [00:02<00:00, 27.46it/s]\n",
      "Validating: 100%|██████████| 10/10 [00:00<00:00, 112.32it/s]\n"
     ]
    },
    {
     "name": "stdout",
     "output_type": "stream",
     "text": [
      "[VALID] Chunk-level => Precision: 0.9781, Recall: 0.9636, F1: 0.9708\n",
      "[EPOCH SUMMARY] Epoch 12: TrainLoss = 0.0022, ValLoss = 0.0884, ValF1(Weighted) = 0.9797, ValF1(Chunk) = 0.9708\n",
      "\n",
      "[TRAINING] Epoch 13/15 ...\n"
     ]
    },
    {
     "name": "stderr",
     "output_type": "stream",
     "text": [
      "Training Epoch 13: 100%|██████████| 77/77 [00:02<00:00, 27.77it/s]\n",
      "Validating: 100%|██████████| 10/10 [00:00<00:00, 116.21it/s]\n"
     ]
    },
    {
     "name": "stdout",
     "output_type": "stream",
     "text": [
      "[VALID] Chunk-level => Precision: 0.9790, Recall: 0.9677, F1: 0.9733\n",
      "[EPOCH SUMMARY] Epoch 13: TrainLoss = 0.0020, ValLoss = 0.0829, ValF1(Weighted) = 0.9810, ValF1(Chunk) = 0.9733\n",
      "\n",
      "[TRAINING] Epoch 14/15 ...\n"
     ]
    },
    {
     "name": "stderr",
     "output_type": "stream",
     "text": [
      "Training Epoch 14: 100%|██████████| 77/77 [00:02<00:00, 26.94it/s]\n",
      "Validating: 100%|██████████| 10/10 [00:00<00:00, 115.15it/s]\n"
     ]
    },
    {
     "name": "stdout",
     "output_type": "stream",
     "text": [
      "[VALID] Chunk-level => Precision: 0.9753, Recall: 0.9573, F1: 0.9662\n",
      "[EPOCH SUMMARY] Epoch 14: TrainLoss = 0.0010, ValLoss = 0.1079, ValF1(Weighted) = 0.9775, ValF1(Chunk) = 0.9662\n",
      "\n",
      "[TRAINING] Epoch 15/15 ...\n"
     ]
    },
    {
     "name": "stderr",
     "output_type": "stream",
     "text": [
      "Training Epoch 15: 100%|██████████| 77/77 [00:02<00:00, 27.49it/s]\n",
      "Validating: 100%|██████████| 10/10 [00:00<00:00, 109.46it/s]\n"
     ]
    },
    {
     "name": "stdout",
     "output_type": "stream",
     "text": [
      "[VALID] Chunk-level => Precision: 0.9799, Recall: 0.9711, F1: 0.9755\n",
      "[EPOCH SUMMARY] Epoch 15: TrainLoss = 0.0007, ValLoss = 0.0817, ValF1(Weighted) = 0.9822, ValF1(Chunk) = 0.9755\n",
      "[INFO] Training complete. Final training and validation curves:\n",
      "   - TRAIN LOSS HISTORY: [0.1441380488504837, 0.07207225508649241, 0.0504665800624273, 0.03945849803215885, 0.029403277802849553, 0.024744895966829394, 0.02034940809471073, 0.01384919555101834, 0.008460244108994028, 0.005974551927382973, 0.003711806101476556, 0.002173045533425749, 0.0019658791645340828, 0.0009939753340463481, 0.0007129245238868496]\n",
      "   - VALIDATION LOSS HISTORY: [0.05661353375762701, 0.049673803895711896, 0.044646141864359376, 0.05272392686456442, 0.04735237378627062, 0.04980496885254979, 0.044661881122738126, 0.051268294593319295, 0.06009814478456974, 0.062267230730503796, 0.06895776083692909, 0.08840970192104577, 0.08292567254975439, 0.10793840400874614, 0.08168177818879485]\n",
      "   - VALIDATION F1 (weighted) HISTORY: [0.9804939229959785, 0.9821569047010292, 0.9825434451608945, 0.9800489040716499, 0.9829942231222131, 0.9834800961680883, 0.9845349104110462, 0.9836969984046109, 0.9813823330556818, 0.9815525941237998, 0.9810260232559442, 0.9797019284902873, 0.9809678415956732, 0.9775023260117963, 0.9821766203067664]\n"
     ]
    },
    {
     "data": {
      "image/png": "[encoded data removed]",
      "text/plain": [
       "<Figure size 640x480 with 1 Axes>"
      ]
     },
     "metadata": {},
     "output_type": "display_data"
    },
    {
     "data": {
      "image/png": "[encoded data removed]",
      "text/plain": [
       "<Figure size 640x480 with 1 Axes>"
      ]
     },
     "metadata": {},
     "output_type": "display_data"
    },
    {
     "name": "stdout",
     "output_type": "stream",
     "text": [
      "\n",
      "[INFO] Training model => RNN-FastText\n",
      "[INFO] Starting training for RNN-FastText with 15 epochs ...\n",
      "\n",
      "[TRAINING] Epoch 1/15 ...\n"
     ]
    },
    {
     "name": "stderr",
     "output_type": "stream",
     "text": [
      "Training Epoch 1: 100%|██████████| 77/77 [00:03<00:00, 20.31it/s]\n",
      "Validating: 100%|██████████| 10/10 [00:00<00:00, 108.63it/s]\n"
     ]
    },
    {
     "name": "stdout",
     "output_type": "stream",
     "text": [
      "[VALID] Chunk-level => Precision: 0.9716, Recall: 0.9880, F1: 0.9797\n",
      "[EPOCH SUMMARY] Epoch 1: TrainLoss = 0.1566, ValLoss = 0.0509, ValF1(Weighted) = 0.9776, ValF1(Chunk) = 0.9797\n",
      "[MODEL SAVED] Best model so far => best_model_RNN-FastText.pt | Chunk F1: 0.9797\n",
      "\n",
      "[TRAINING] Epoch 2/15 ...\n"
     ]
    },
    {
     "name": "stderr",
     "output_type": "stream",
     "text": [
      "Training Epoch 2: 100%|██████████| 77/77 [00:03<00:00, 23.80it/s]\n",
      "Validating: 100%|██████████| 10/10 [00:00<00:00, 106.41it/s]\n"
     ]
    },
    {
     "name": "stdout",
     "output_type": "stream",
     "text": [
      "[VALID] Chunk-level => Precision: 0.9796, Recall: 0.9874, F1: 0.9835\n",
      "[EPOCH SUMMARY] Epoch 2: TrainLoss = 0.0492, ValLoss = 0.0381, ValF1(Weighted) = 0.9850, ValF1(Chunk) = 0.9835\n",
      "[MODEL SAVED] Best model so far => best_model_RNN-FastText.pt | Chunk F1: 0.9835\n",
      "\n",
      "[TRAINING] Epoch 3/15 ...\n"
     ]
    },
    {
     "name": "stderr",
     "output_type": "stream",
     "text": [
      "Training Epoch 3: 100%|██████████| 77/77 [00:03<00:00, 23.79it/s]\n",
      "Validating: 100%|██████████| 10/10 [00:00<00:00, 110.40it/s]\n"
     ]
    },
    {
     "name": "stdout",
     "output_type": "stream",
     "text": [
      "[VALID] Chunk-level => Precision: 0.9831, Recall: 0.9841, F1: 0.9836\n",
      "[EPOCH SUMMARY] Epoch 3: TrainLoss = 0.0297, ValLoss = 0.0381, ValF1(Weighted) = 0.9873, ValF1(Chunk) = 0.9836\n",
      "[MODEL SAVED] Best model so far => best_model_RNN-FastText.pt | Chunk F1: 0.9836\n",
      "\n",
      "[TRAINING] Epoch 4/15 ...\n"
     ]
    },
    {
     "name": "stderr",
     "output_type": "stream",
     "text": [
      "Training Epoch 4: 100%|██████████| 77/77 [00:03<00:00, 24.04it/s]\n",
      "Validating: 100%|██████████| 10/10 [00:00<00:00, 103.40it/s]\n"
     ]
    },
    {
     "name": "stdout",
     "output_type": "stream",
     "text": [
      "[VALID] Chunk-level => Precision: 0.9821, Recall: 0.9809, F1: 0.9815\n",
      "[EPOCH SUMMARY] Epoch 4: TrainLoss = 0.0192, ValLoss = 0.0411, ValF1(Weighted) = 0.9858, ValF1(Chunk) = 0.9815\n",
      "\n",
      "[TRAINING] Epoch 5/15 ...\n"
     ]
    },
    {
     "name": "stderr",
     "output_type": "stream",
     "text": [
      "Training Epoch 5: 100%|██████████| 77/77 [00:03<00:00, 23.37it/s]\n",
      "Validating: 100%|██████████| 10/10 [00:00<00:00, 104.05it/s]\n"
     ]
    },
    {
     "name": "stdout",
     "output_type": "stream",
     "text": [
      "[VALID] Chunk-level => Precision: 0.9795, Recall: 0.9805, F1: 0.9800\n",
      "[EPOCH SUMMARY] Epoch 5: TrainLoss = 0.0117, ValLoss = 0.0440, ValF1(Weighted) = 0.9840, ValF1(Chunk) = 0.9800\n",
      "\n",
      "[TRAINING] Epoch 6/15 ...\n"
     ]
    },
    {
     "name": "stderr",
     "output_type": "stream",
     "text": [
      "Training Epoch 6: 100%|██████████| 77/77 [00:03<00:00, 24.45it/s]\n",
      "Validating: 100%|██████████| 10/10 [00:00<00:00, 104.81it/s]\n"
     ]
    },
    {
     "name": "stdout",
     "output_type": "stream",
     "text": [
      "[VALID] Chunk-level => Precision: 0.9807, Recall: 0.9817, F1: 0.9812\n",
      "[EPOCH SUMMARY] Epoch 6: TrainLoss = 0.0066, ValLoss = 0.0472, ValF1(Weighted) = 0.9845, ValF1(Chunk) = 0.9812\n",
      "\n",
      "[TRAINING] Epoch 7/15 ...\n"
     ]
    },
    {
     "name": "stderr",
     "output_type": "stream",
     "text": [
      "Training Epoch 7: 100%|██████████| 77/77 [00:03<00:00, 23.95it/s]\n",
      "Validating: 100%|██████████| 10/10 [00:00<00:00, 103.35it/s]\n"
     ]
    },
    {
     "name": "stdout",
     "output_type": "stream",
     "text": [
      "[VALID] Chunk-level => Precision: 0.9808, Recall: 0.9882, F1: 0.9845\n",
      "[EPOCH SUMMARY] Epoch 7: TrainLoss = 0.0039, ValLoss = 0.0554, ValF1(Weighted) = 0.9860, ValF1(Chunk) = 0.9845\n",
      "[MODEL SAVED] Best model so far => best_model_RNN-FastText.pt | Chunk F1: 0.9845\n",
      "\n",
      "[TRAINING] Epoch 8/15 ...\n"
     ]
    },
    {
     "name": "stderr",
     "output_type": "stream",
     "text": [
      "Training Epoch 8: 100%|██████████| 77/77 [00:03<00:00, 23.67it/s]\n",
      "Validating: 100%|██████████| 10/10 [00:00<00:00, 104.33it/s]\n"
     ]
    },
    {
     "name": "stdout",
     "output_type": "stream",
     "text": [
      "[VALID] Chunk-level => Precision: 0.9803, Recall: 0.9823, F1: 0.9813\n",
      "[EPOCH SUMMARY] Epoch 8: TrainLoss = 0.0023, ValLoss = 0.0574, ValF1(Weighted) = 0.9849, ValF1(Chunk) = 0.9813\n",
      "\n",
      "[TRAINING] Epoch 9/15 ...\n"
     ]
    },
    {
     "name": "stderr",
     "output_type": "stream",
     "text": [
      "Training Epoch 9: 100%|██████████| 77/77 [00:03<00:00, 24.47it/s]\n",
      "Validating: 100%|██████████| 10/10 [00:00<00:00, 108.85it/s]\n"
     ]
    },
    {
     "name": "stdout",
     "output_type": "stream",
     "text": [
      "[VALID] Chunk-level => Precision: 0.9806, Recall: 0.9880, F1: 0.9843\n",
      "[EPOCH SUMMARY] Epoch 9: TrainLoss = 0.0015, ValLoss = 0.0636, ValF1(Weighted) = 0.9860, ValF1(Chunk) = 0.9843\n",
      "\n",
      "[TRAINING] Epoch 10/15 ...\n"
     ]
    },
    {
     "name": "stderr",
     "output_type": "stream",
     "text": [
      "Training Epoch 10: 100%|██████████| 77/77 [00:03<00:00, 20.78it/s]\n",
      "Validating: 100%|██████████| 10/10 [00:00<00:00, 105.10it/s]\n"
     ]
    },
    {
     "name": "stdout",
     "output_type": "stream",
     "text": [
      "[VALID] Chunk-level => Precision: 0.9792, Recall: 0.9856, F1: 0.9824\n",
      "[EPOCH SUMMARY] Epoch 10: TrainLoss = 0.0010, ValLoss = 0.0657, ValF1(Weighted) = 0.9847, ValF1(Chunk) = 0.9824\n",
      "\n",
      "[TRAINING] Epoch 11/15 ...\n"
     ]
    },
    {
     "name": "stderr",
     "output_type": "stream",
     "text": [
      "Training Epoch 11: 100%|██████████| 77/77 [00:03<00:00, 23.79it/s]\n",
      "Validating: 100%|██████████| 10/10 [00:00<00:00, 108.47it/s]\n"
     ]
    },
    {
     "name": "stdout",
     "output_type": "stream",
     "text": [
      "[VALID] Chunk-level => Precision: 0.9808, Recall: 0.9866, F1: 0.9837\n",
      "[EPOCH SUMMARY] Epoch 11: TrainLoss = 0.0006, ValLoss = 0.0687, ValF1(Weighted) = 0.9860, ValF1(Chunk) = 0.9837\n",
      "\n",
      "[TRAINING] Epoch 12/15 ...\n"
     ]
    },
    {
     "name": "stderr",
     "output_type": "stream",
     "text": [
      "Training Epoch 12: 100%|██████████| 77/77 [00:03<00:00, 24.33it/s]\n",
      "Validating: 100%|██████████| 10/10 [00:00<00:00, 97.30it/s]\n"
     ]
    },
    {
     "name": "stdout",
     "output_type": "stream",
     "text": [
      "[VALID] Chunk-level => Precision: 0.9800, Recall: 0.9854, F1: 0.9827\n",
      "[EPOCH SUMMARY] Epoch 12: TrainLoss = 0.0005, ValLoss = 0.0716, ValF1(Weighted) = 0.9852, ValF1(Chunk) = 0.9827\n",
      "\n",
      "[TRAINING] Epoch 13/15 ...\n"
     ]
    },
    {
     "name": "stderr",
     "output_type": "stream",
     "text": [
      "Training Epoch 13: 100%|██████████| 77/77 [00:03<00:00, 23.45it/s]\n",
      "Validating: 100%|██████████| 10/10 [00:00<00:00, 110.37it/s]\n"
     ]
    },
    {
     "name": "stdout",
     "output_type": "stream",
     "text": [
      "[VALID] Chunk-level => Precision: 0.9801, Recall: 0.9835, F1: 0.9818\n",
      "[EPOCH SUMMARY] Epoch 13: TrainLoss = 0.0003, ValLoss = 0.0649, ValF1(Weighted) = 0.9848, ValF1(Chunk) = 0.9818\n",
      "\n",
      "[TRAINING] Epoch 14/15 ...\n"
     ]
    },
    {
     "name": "stderr",
     "output_type": "stream",
     "text": [
      "Training Epoch 14: 100%|██████████| 77/77 [00:03<00:00, 23.62it/s]\n",
      "Validating: 100%|██████████| 10/10 [00:00<00:00, 102.26it/s]\n"
     ]
    },
    {
     "name": "stdout",
     "output_type": "stream",
     "text": [
      "[VALID] Chunk-level => Precision: 0.9801, Recall: 0.9841, F1: 0.9821\n",
      "[EPOCH SUMMARY] Epoch 14: TrainLoss = 0.0002, ValLoss = 0.0665, ValF1(Weighted) = 0.9849, ValF1(Chunk) = 0.9821\n",
      "\n",
      "[TRAINING] Epoch 15/15 ...\n"
     ]
    },
    {
     "name": "stderr",
     "output_type": "stream",
     "text": [
      "Training Epoch 15: 100%|██████████| 77/77 [00:03<00:00, 23.86it/s]\n",
      "Validating: 100%|██████████| 10/10 [00:00<00:00, 104.69it/s]\n"
     ]
    },
    {
     "name": "stdout",
     "output_type": "stream",
     "text": [
      "[VALID] Chunk-level => Precision: 0.9797, Recall: 0.9841, F1: 0.9819\n",
      "[EPOCH SUMMARY] Epoch 15: TrainLoss = 0.0001, ValLoss = 0.0700, ValF1(Weighted) = 0.9848, ValF1(Chunk) = 0.9819\n",
      "[INFO] Training complete. Final training and validation curves:\n",
      "   - TRAIN LOSS HISTORY: [0.15656042224788047, 0.049228391374231545, 0.029737556111309436, 0.019164272269548532, 0.011705562032195256, 0.006648140676340766, 0.003910726029274671, 0.0022641253023024336, 0.0015196360775373793, 0.0010294798026828991, 0.0006114534638533308, 0.0004884934061282094, 0.00025276194818698883, 0.00017254120686700772, 0.00012016848229716022]\n",
      "   - VALIDATION LOSS HISTORY: [0.05092426259070635, 0.03809214485809207, 0.0381433148868382, 0.04108539279550314, 0.044017644971609114, 0.04720468707382679, 0.055438349535688755, 0.057350251358002424, 0.06363504785113036, 0.06568680061027407, 0.06873349975794554, 0.07158297542482614, 0.06488460171967744, 0.06654677763581276, 0.07001250116154552]\n",
      "   - VALIDATION F1 (weighted) HISTORY: [0.9776485148704012, 0.9850483504289452, 0.9872798249107045, 0.9858477680396084, 0.9840493042531057, 0.9844531193353055, 0.9860354564827436, 0.9848634562721762, 0.9860354564827436, 0.9847351745884497, 0.985958903693797, 0.985186462274377, 0.9847801203855355, 0.9848600391718245, 0.9847718746891978]\n"
     ]
    },
    {
     "data": {
      "image/png": "[encoded data removed]",
      "text/plain": [
       "<Figure size 640x480 with 1 Axes>"
      ]
     },
     "metadata": {},
     "output_type": "display_data"
    },
    {
     "data": {
      "image/png": "[encoded data removed]",
      "text/plain": [
       "<Figure size 640x480 with 1 Axes>"
      ]
     },
     "metadata": {},
     "output_type": "display_data"
    },
    {
     "name": "stdout",
     "output_type": "stream",
     "text": [
      "\n",
      "[INFO] Training model => GRU-GloVe\n",
      "[INFO] Starting training for GRU-GloVe with 15 epochs ...\n",
      "\n",
      "[TRAINING] Epoch 1/15 ...\n"
     ]
    },
    {
     "name": "stderr",
     "output_type": "stream",
     "text": [
      "Training Epoch 1: 100%|██████████| 77/77 [00:05<00:00, 14.84it/s]\n",
      "Validating: 100%|██████████| 10/10 [00:00<00:00, 73.80it/s]\n"
     ]
    },
    {
     "name": "stdout",
     "output_type": "stream",
     "text": [
      "[VALID] Chunk-level => Precision: 0.9750, Recall: 0.9833, F1: 0.9791\n",
      "[EPOCH SUMMARY] Epoch 1: TrainLoss = 0.1461, ValLoss = 0.0516, ValF1(Weighted) = 0.9815, ValF1(Chunk) = 0.9791\n",
      "[MODEL SAVED] Best model so far => best_model_GRU-GloVe.pt | Chunk F1: 0.9791\n",
      "\n",
      "[TRAINING] Epoch 2/15 ...\n"
     ]
    },
    {
     "name": "stderr",
     "output_type": "stream",
     "text": [
      "Training Epoch 2: 100%|██████████| 77/77 [00:05<00:00, 15.17it/s]\n",
      "Validating: 100%|██████████| 10/10 [00:00<00:00, 78.53it/s]\n"
     ]
    },
    {
     "name": "stdout",
     "output_type": "stream",
     "text": [
      "[VALID] Chunk-level => Precision: 0.9802, Recall: 0.9750, F1: 0.9776\n",
      "[EPOCH SUMMARY] Epoch 2: TrainLoss = 0.0390, ValLoss = 0.0456, ValF1(Weighted) = 0.9823, ValF1(Chunk) = 0.9776\n",
      "\n",
      "[TRAINING] Epoch 3/15 ...\n"
     ]
    },
    {
     "name": "stderr",
     "output_type": "stream",
     "text": [
      "Training Epoch 3: 100%|██████████| 77/77 [00:05<00:00, 14.05it/s]\n",
      "Validating: 100%|██████████| 10/10 [00:00<00:00, 74.83it/s]\n"
     ]
    },
    {
     "name": "stdout",
     "output_type": "stream",
     "text": [
      "[VALID] Chunk-level => Precision: 0.9809, Recall: 0.9736, F1: 0.9772\n",
      "[EPOCH SUMMARY] Epoch 3: TrainLoss = 0.0198, ValLoss = 0.0460, ValF1(Weighted) = 0.9825, ValF1(Chunk) = 0.9772\n",
      "\n",
      "[TRAINING] Epoch 4/15 ...\n"
     ]
    },
    {
     "name": "stderr",
     "output_type": "stream",
     "text": [
      "Training Epoch 4: 100%|██████████| 77/77 [00:05<00:00, 15.19it/s]\n",
      "Validating: 100%|██████████| 10/10 [00:00<00:00, 74.67it/s]\n"
     ]
    },
    {
     "name": "stdout",
     "output_type": "stream",
     "text": [
      "[VALID] Chunk-level => Precision: 0.9781, Recall: 0.9613, F1: 0.9696\n",
      "[EPOCH SUMMARY] Epoch 4: TrainLoss = 0.0111, ValLoss = 0.0625, ValF1(Weighted) = 0.9792, ValF1(Chunk) = 0.9696\n",
      "\n",
      "[TRAINING] Epoch 5/15 ...\n"
     ]
    },
    {
     "name": "stderr",
     "output_type": "stream",
     "text": [
      "Training Epoch 5: 100%|██████████| 77/77 [00:05<00:00, 15.14it/s]\n",
      "Validating: 100%|██████████| 10/10 [00:00<00:00, 76.86it/s]\n"
     ]
    },
    {
     "name": "stdout",
     "output_type": "stream",
     "text": [
      "[VALID] Chunk-level => Precision: 0.9786, Recall: 0.9656, F1: 0.9720\n",
      "[EPOCH SUMMARY] Epoch 5: TrainLoss = 0.0082, ValLoss = 0.0634, ValF1(Weighted) = 0.9805, ValF1(Chunk) = 0.9720\n",
      "\n",
      "[TRAINING] Epoch 6/15 ...\n"
     ]
    },
    {
     "name": "stderr",
     "output_type": "stream",
     "text": [
      "Training Epoch 6: 100%|██████████| 77/77 [00:04<00:00, 15.49it/s]\n",
      "Validating: 100%|██████████| 10/10 [00:00<00:00, 78.10it/s]\n"
     ]
    },
    {
     "name": "stdout",
     "output_type": "stream",
     "text": [
      "[VALID] Chunk-level => Precision: 0.9815, Recall: 0.9736, F1: 0.9775\n",
      "[EPOCH SUMMARY] Epoch 6: TrainLoss = 0.0053, ValLoss = 0.0571, ValF1(Weighted) = 0.9835, ValF1(Chunk) = 0.9775\n",
      "\n",
      "[TRAINING] Epoch 7/15 ...\n"
     ]
    },
    {
     "name": "stderr",
     "output_type": "stream",
     "text": [
      "Training Epoch 7: 100%|██████████| 77/77 [00:05<00:00, 15.00it/s]\n",
      "Validating: 100%|██████████| 10/10 [00:00<00:00, 76.33it/s]\n"
     ]
    },
    {
     "name": "stdout",
     "output_type": "stream",
     "text": [
      "[VALID] Chunk-level => Precision: 0.9818, Recall: 0.9772, F1: 0.9795\n",
      "[EPOCH SUMMARY] Epoch 7: TrainLoss = 0.0033, ValLoss = 0.0584, ValF1(Weighted) = 0.9843, ValF1(Chunk) = 0.9795\n",
      "[MODEL SAVED] Best model so far => best_model_GRU-GloVe.pt | Chunk F1: 0.9795\n",
      "\n",
      "[TRAINING] Epoch 8/15 ...\n"
     ]
    },
    {
     "name": "stderr",
     "output_type": "stream",
     "text": [
      "Training Epoch 8: 100%|██████████| 77/77 [00:05<00:00, 15.23it/s]\n",
      "Validating: 100%|██████████| 10/10 [00:00<00:00, 77.83it/s]\n"
     ]
    },
    {
     "name": "stdout",
     "output_type": "stream",
     "text": [
      "[VALID] Chunk-level => Precision: 0.9810, Recall: 0.9780, F1: 0.9795\n",
      "[EPOCH SUMMARY] Epoch 8: TrainLoss = 0.0022, ValLoss = 0.0587, ValF1(Weighted) = 0.9844, ValF1(Chunk) = 0.9795\n",
      "[MODEL SAVED] Best model so far => best_model_GRU-GloVe.pt | Chunk F1: 0.9795\n",
      "\n",
      "[TRAINING] Epoch 9/15 ...\n"
     ]
    },
    {
     "name": "stderr",
     "output_type": "stream",
     "text": [
      "Training Epoch 9: 100%|██████████| 77/77 [00:05<00:00, 13.61it/s]\n",
      "Validating: 100%|██████████| 10/10 [00:00<00:00, 74.68it/s]\n"
     ]
    },
    {
     "name": "stdout",
     "output_type": "stream",
     "text": [
      "[VALID] Chunk-level => Precision: 0.9808, Recall: 0.9752, F1: 0.9780\n",
      "[EPOCH SUMMARY] Epoch 9: TrainLoss = 0.0017, ValLoss = 0.0646, ValF1(Weighted) = 0.9839, ValF1(Chunk) = 0.9780\n",
      "\n",
      "[TRAINING] Epoch 10/15 ...\n"
     ]
    },
    {
     "name": "stderr",
     "output_type": "stream",
     "text": [
      "Training Epoch 10: 100%|██████████| 77/77 [00:05<00:00, 14.79it/s]\n",
      "Validating: 100%|██████████| 10/10 [00:00<00:00, 76.12it/s]\n"
     ]
    },
    {
     "name": "stdout",
     "output_type": "stream",
     "text": [
      "[VALID] Chunk-level => Precision: 0.9809, Recall: 0.9733, F1: 0.9771\n",
      "[EPOCH SUMMARY] Epoch 10: TrainLoss = 0.0011, ValLoss = 0.0702, ValF1(Weighted) = 0.9827, ValF1(Chunk) = 0.9771\n",
      "\n",
      "[TRAINING] Epoch 11/15 ...\n"
     ]
    },
    {
     "name": "stderr",
     "output_type": "stream",
     "text": [
      "Training Epoch 11: 100%|██████████| 77/77 [00:05<00:00, 14.97it/s]\n",
      "Validating: 100%|██████████| 10/10 [00:00<00:00, 73.38it/s]\n"
     ]
    },
    {
     "name": "stdout",
     "output_type": "stream",
     "text": [
      "[VALID] Chunk-level => Precision: 0.9816, Recall: 0.9782, F1: 0.9799\n",
      "[EPOCH SUMMARY] Epoch 11: TrainLoss = 0.0009, ValLoss = 0.0656, ValF1(Weighted) = 0.9849, ValF1(Chunk) = 0.9799\n",
      "[MODEL SAVED] Best model so far => best_model_GRU-GloVe.pt | Chunk F1: 0.9799\n",
      "\n",
      "[TRAINING] Epoch 12/15 ...\n"
     ]
    },
    {
     "name": "stderr",
     "output_type": "stream",
     "text": [
      "Training Epoch 12: 100%|██████████| 77/77 [00:05<00:00, 14.32it/s]\n",
      "Validating: 100%|██████████| 10/10 [00:00<00:00, 71.37it/s]\n"
     ]
    },
    {
     "name": "stdout",
     "output_type": "stream",
     "text": [
      "[VALID] Chunk-level => Precision: 0.9793, Recall: 0.9713, F1: 0.9753\n",
      "[EPOCH SUMMARY] Epoch 12: TrainLoss = 0.0007, ValLoss = 0.0773, ValF1(Weighted) = 0.9820, ValF1(Chunk) = 0.9753\n",
      "\n",
      "[TRAINING] Epoch 13/15 ...\n"
     ]
    },
    {
     "name": "stderr",
     "output_type": "stream",
     "text": [
      "Training Epoch 13: 100%|██████████| 77/77 [00:05<00:00, 14.47it/s]\n",
      "Validating: 100%|██████████| 10/10 [00:00<00:00, 74.20it/s]\n"
     ]
    },
    {
     "name": "stdout",
     "output_type": "stream",
     "text": [
      "[VALID] Chunk-level => Precision: 0.9808, Recall: 0.9748, F1: 0.9778\n",
      "[EPOCH SUMMARY] Epoch 13: TrainLoss = 0.0007, ValLoss = 0.0780, ValF1(Weighted) = 0.9832, ValF1(Chunk) = 0.9778\n",
      "\n",
      "[TRAINING] Epoch 14/15 ...\n"
     ]
    },
    {
     "name": "stderr",
     "output_type": "stream",
     "text": [
      "Training Epoch 14: 100%|██████████| 77/77 [00:05<00:00, 14.82it/s]\n",
      "Validating: 100%|██████████| 10/10 [00:00<00:00, 73.90it/s]\n"
     ]
    },
    {
     "name": "stdout",
     "output_type": "stream",
     "text": [
      "[VALID] Chunk-level => Precision: 0.9799, Recall: 0.9736, F1: 0.9767\n",
      "[EPOCH SUMMARY] Epoch 14: TrainLoss = 0.0004, ValLoss = 0.0809, ValF1(Weighted) = 0.9829, ValF1(Chunk) = 0.9767\n",
      "\n",
      "[TRAINING] Epoch 15/15 ...\n"
     ]
    },
    {
     "name": "stderr",
     "output_type": "stream",
     "text": [
      "Training Epoch 15: 100%|██████████| 77/77 [00:05<00:00, 13.24it/s]\n",
      "Validating: 100%|██████████| 10/10 [00:00<00:00, 74.21it/s]\n"
     ]
    },
    {
     "name": "stdout",
     "output_type": "stream",
     "text": [
      "[VALID] Chunk-level => Precision: 0.9810, Recall: 0.9762, F1: 0.9786\n",
      "[EPOCH SUMMARY] Epoch 15: TrainLoss = 0.0003, ValLoss = 0.0804, ValF1(Weighted) = 0.9837, ValF1(Chunk) = 0.9786\n",
      "[INFO] Training complete. Final training and validation curves:\n",
      "   - TRAIN LOSS HISTORY: [0.146126584137802, 0.03898509939703123, 0.019845280595208434, 0.011146625269555135, 0.008166986972497256, 0.005283061231546219, 0.003313404065708013, 0.0022148596950241233, 0.0016689237286078872, 0.001065795249082662, 0.0008604554488745445, 0.0007103846373275382, 0.0006856537199512656, 0.00036519902170601364, 0.00031152279958499907]\n",
      "   - VALIDATION LOSS HISTORY: [0.051639356464147565, 0.04560174364596605, 0.046008474007248876, 0.06249955128878355, 0.06336148083209991, 0.057081904634833334, 0.058410017658025025, 0.058722034376114604, 0.06459120642393827, 0.07017380744218826, 0.06558620044961572, 0.07730188760906458, 0.07800655886530876, 0.08088858239352703, 0.0803675927221775]\n",
      "   - VALIDATION F1 (weighted) HISTORY: [0.9815106078887028, 0.9823095586526742, 0.9824997301875217, 0.9791658024657179, 0.9805072334802681, 0.9835126897143095, 0.9842837369131456, 0.9843995386513988, 0.9838799341334595, 0.9827162129391471, 0.9848506561140428, 0.9820471510222483, 0.9831967717079461, 0.9828902478254081, 0.9837491328351706]\n"
     ]
    },
    {
     "data": {
      "image/png": "[encoded data removed]",
      "text/plain": [
       "<Figure size 640x480 with 1 Axes>"
      ]
     },
     "metadata": {},
     "output_type": "display_data"
    },
    {
     "data": {
      "image/png": "[encoded data removed]",
      "text/plain": [
       "<Figure size 640x480 with 1 Axes>"
      ]
     },
     "metadata": {},
     "output_type": "display_data"
    },
    {
     "name": "stdout",
     "output_type": "stream",
     "text": [
      "\n",
      "[INFO] Training model => GRU-FastText\n",
      "[INFO] Starting training for GRU-FastText with 15 epochs ...\n",
      "\n",
      "[TRAINING] Epoch 1/15 ...\n"
     ]
    },
    {
     "name": "stderr",
     "output_type": "stream",
     "text": [
      "Training Epoch 1: 100%|██████████| 77/77 [00:06<00:00, 11.99it/s]\n",
      "Validating: 100%|██████████| 10/10 [00:00<00:00, 64.32it/s]\n"
     ]
    },
    {
     "name": "stdout",
     "output_type": "stream",
     "text": [
      "[VALID] Chunk-level => Precision: 0.9768, Recall: 0.9860, F1: 0.9814\n",
      "[EPOCH SUMMARY] Epoch 1: TrainLoss = 0.1373, ValLoss = 0.0467, ValF1(Weighted) = 0.9840, ValF1(Chunk) = 0.9814\n",
      "[MODEL SAVED] Best model so far => best_model_GRU-FastText.pt | Chunk F1: 0.9814\n",
      "\n",
      "[TRAINING] Epoch 2/15 ...\n"
     ]
    },
    {
     "name": "stderr",
     "output_type": "stream",
     "text": [
      "Training Epoch 2: 100%|██████████| 77/77 [00:05<00:00, 12.99it/s]\n",
      "Validating: 100%|██████████| 10/10 [00:00<00:00, 67.68it/s]\n"
     ]
    },
    {
     "name": "stdout",
     "output_type": "stream",
     "text": [
      "[VALID] Chunk-level => Precision: 0.9794, Recall: 0.9858, F1: 0.9826\n",
      "[EPOCH SUMMARY] Epoch 2: TrainLoss = 0.0259, ValLoss = 0.0445, ValF1(Weighted) = 0.9856, ValF1(Chunk) = 0.9826\n",
      "[MODEL SAVED] Best model so far => best_model_GRU-FastText.pt | Chunk F1: 0.9826\n",
      "\n",
      "[TRAINING] Epoch 3/15 ...\n"
     ]
    },
    {
     "name": "stderr",
     "output_type": "stream",
     "text": [
      "Training Epoch 3: 100%|██████████| 77/77 [00:06<00:00, 12.54it/s]\n",
      "Validating: 100%|██████████| 10/10 [00:00<00:00, 62.55it/s]\n"
     ]
    },
    {
     "name": "stdout",
     "output_type": "stream",
     "text": [
      "[VALID] Chunk-level => Precision: 0.9803, Recall: 0.9829, F1: 0.9816\n",
      "[EPOCH SUMMARY] Epoch 3: TrainLoss = 0.0121, ValLoss = 0.0462, ValF1(Weighted) = 0.9849, ValF1(Chunk) = 0.9816\n",
      "\n",
      "[TRAINING] Epoch 4/15 ...\n"
     ]
    },
    {
     "name": "stderr",
     "output_type": "stream",
     "text": [
      "Training Epoch 4: 100%|██████████| 77/77 [00:06<00:00, 12.43it/s]\n",
      "Validating: 100%|██████████| 10/10 [00:00<00:00, 63.99it/s]\n"
     ]
    },
    {
     "name": "stdout",
     "output_type": "stream",
     "text": [
      "[VALID] Chunk-level => Precision: 0.9808, Recall: 0.9776, F1: 0.9792\n",
      "[EPOCH SUMMARY] Epoch 4: TrainLoss = 0.0063, ValLoss = 0.0500, ValF1(Weighted) = 0.9846, ValF1(Chunk) = 0.9792\n",
      "\n",
      "[TRAINING] Epoch 5/15 ...\n"
     ]
    },
    {
     "name": "stderr",
     "output_type": "stream",
     "text": [
      "Training Epoch 5: 100%|██████████| 77/77 [00:06<00:00, 11.72it/s]\n",
      "Validating: 100%|██████████| 10/10 [00:00<00:00, 66.46it/s]\n"
     ]
    },
    {
     "name": "stdout",
     "output_type": "stream",
     "text": [
      "[VALID] Chunk-level => Precision: 0.9809, Recall: 0.9805, F1: 0.9807\n",
      "[EPOCH SUMMARY] Epoch 5: TrainLoss = 0.0037, ValLoss = 0.0523, ValF1(Weighted) = 0.9853, ValF1(Chunk) = 0.9807\n",
      "\n",
      "[TRAINING] Epoch 6/15 ...\n"
     ]
    },
    {
     "name": "stderr",
     "output_type": "stream",
     "text": [
      "Training Epoch 6: 100%|██████████| 77/77 [00:05<00:00, 13.17it/s]\n",
      "Validating: 100%|██████████| 10/10 [00:00<00:00, 67.32it/s]\n"
     ]
    },
    {
     "name": "stdout",
     "output_type": "stream",
     "text": [
      "[VALID] Chunk-level => Precision: 0.9817, Recall: 0.9833, F1: 0.9825\n",
      "[EPOCH SUMMARY] Epoch 6: TrainLoss = 0.0020, ValLoss = 0.0534, ValF1(Weighted) = 0.9866, ValF1(Chunk) = 0.9825\n",
      "\n",
      "[TRAINING] Epoch 7/15 ...\n"
     ]
    },
    {
     "name": "stderr",
     "output_type": "stream",
     "text": [
      "Training Epoch 7: 100%|██████████| 77/77 [00:05<00:00, 12.94it/s]\n",
      "Validating: 100%|██████████| 10/10 [00:00<00:00, 66.77it/s]\n"
     ]
    },
    {
     "name": "stdout",
     "output_type": "stream",
     "text": [
      "[VALID] Chunk-level => Precision: 0.9816, Recall: 0.9856, F1: 0.9836\n",
      "[EPOCH SUMMARY] Epoch 7: TrainLoss = 0.0016, ValLoss = 0.0600, ValF1(Weighted) = 0.9865, ValF1(Chunk) = 0.9836\n",
      "[MODEL SAVED] Best model so far => best_model_GRU-FastText.pt | Chunk F1: 0.9836\n",
      "\n",
      "[TRAINING] Epoch 8/15 ...\n"
     ]
    },
    {
     "name": "stderr",
     "output_type": "stream",
     "text": [
      "Training Epoch 8: 100%|██████████| 77/77 [00:05<00:00, 12.95it/s]\n",
      "Validating: 100%|██████████| 10/10 [00:00<00:00, 57.71it/s]\n"
     ]
    },
    {
     "name": "stdout",
     "output_type": "stream",
     "text": [
      "[VALID] Chunk-level => Precision: 0.9805, Recall: 0.9833, F1: 0.9819\n",
      "[EPOCH SUMMARY] Epoch 8: TrainLoss = 0.0010, ValLoss = 0.0592, ValF1(Weighted) = 0.9855, ValF1(Chunk) = 0.9819\n",
      "\n",
      "[TRAINING] Epoch 9/15 ...\n"
     ]
    },
    {
     "name": "stderr",
     "output_type": "stream",
     "text": [
      "Training Epoch 9: 100%|██████████| 77/77 [00:05<00:00, 12.99it/s]\n",
      "Validating: 100%|██████████| 10/10 [00:00<00:00, 66.29it/s]\n"
     ]
    },
    {
     "name": "stdout",
     "output_type": "stream",
     "text": [
      "[VALID] Chunk-level => Precision: 0.9815, Recall: 0.9839, F1: 0.9827\n",
      "[EPOCH SUMMARY] Epoch 9: TrainLoss = 0.0006, ValLoss = 0.0605, ValF1(Weighted) = 0.9864, ValF1(Chunk) = 0.9827\n",
      "\n",
      "[TRAINING] Epoch 10/15 ...\n"
     ]
    },
    {
     "name": "stderr",
     "output_type": "stream",
     "text": [
      "Training Epoch 10: 100%|██████████| 77/77 [00:06<00:00, 12.24it/s]\n",
      "Validating: 100%|██████████| 10/10 [00:00<00:00, 65.09it/s]\n"
     ]
    },
    {
     "name": "stdout",
     "output_type": "stream",
     "text": [
      "[VALID] Chunk-level => Precision: 0.9809, Recall: 0.9833, F1: 0.9821\n",
      "[EPOCH SUMMARY] Epoch 10: TrainLoss = 0.0004, ValLoss = 0.0647, ValF1(Weighted) = 0.9860, ValF1(Chunk) = 0.9821\n",
      "\n",
      "[TRAINING] Epoch 11/15 ...\n"
     ]
    },
    {
     "name": "stderr",
     "output_type": "stream",
     "text": [
      "Training Epoch 11: 100%|██████████| 77/77 [00:05<00:00, 12.99it/s]\n",
      "Validating: 100%|██████████| 10/10 [00:00<00:00, 64.86it/s]\n"
     ]
    },
    {
     "name": "stdout",
     "output_type": "stream",
     "text": [
      "[VALID] Chunk-level => Precision: 0.9816, Recall: 0.9888, F1: 0.9852\n",
      "[EPOCH SUMMARY] Epoch 11: TrainLoss = 0.0003, ValLoss = 0.0754, ValF1(Weighted) = 0.9872, ValF1(Chunk) = 0.9852\n",
      "[MODEL SAVED] Best model so far => best_model_GRU-FastText.pt | Chunk F1: 0.9852\n",
      "\n",
      "[TRAINING] Epoch 12/15 ...\n"
     ]
    },
    {
     "name": "stderr",
     "output_type": "stream",
     "text": [
      "Training Epoch 12: 100%|██████████| 77/77 [00:05<00:00, 13.04it/s]\n",
      "Validating: 100%|██████████| 10/10 [00:00<00:00, 66.14it/s]\n"
     ]
    },
    {
     "name": "stdout",
     "output_type": "stream",
     "text": [
      "[VALID] Chunk-level => Precision: 0.9812, Recall: 0.9849, F1: 0.9830\n",
      "[EPOCH SUMMARY] Epoch 12: TrainLoss = 0.0002, ValLoss = 0.0699, ValF1(Weighted) = 0.9864, ValF1(Chunk) = 0.9830\n",
      "\n",
      "[TRAINING] Epoch 13/15 ...\n"
     ]
    },
    {
     "name": "stderr",
     "output_type": "stream",
     "text": [
      "Training Epoch 13: 100%|██████████| 77/77 [00:06<00:00, 12.83it/s]\n",
      "Validating: 100%|██████████| 10/10 [00:00<00:00, 50.70it/s]\n"
     ]
    },
    {
     "name": "stdout",
     "output_type": "stream",
     "text": [
      "[VALID] Chunk-level => Precision: 0.9805, Recall: 0.9837, F1: 0.9821\n",
      "[EPOCH SUMMARY] Epoch 13: TrainLoss = 0.0001, ValLoss = 0.0718, ValF1(Weighted) = 0.9854, ValF1(Chunk) = 0.9821\n",
      "\n",
      "[TRAINING] Epoch 14/15 ...\n"
     ]
    },
    {
     "name": "stderr",
     "output_type": "stream",
     "text": [
      "Training Epoch 14: 100%|██████████| 77/77 [00:06<00:00, 12.48it/s]\n",
      "Validating: 100%|██████████| 10/10 [00:00<00:00, 58.77it/s]\n"
     ]
    },
    {
     "name": "stdout",
     "output_type": "stream",
     "text": [
      "[VALID] Chunk-level => Precision: 0.9809, Recall: 0.9833, F1: 0.9821\n",
      "[EPOCH SUMMARY] Epoch 14: TrainLoss = 0.0001, ValLoss = 0.0717, ValF1(Weighted) = 0.9856, ValF1(Chunk) = 0.9821\n",
      "\n",
      "[TRAINING] Epoch 15/15 ...\n"
     ]
    },
    {
     "name": "stderr",
     "output_type": "stream",
     "text": [
      "Training Epoch 15: 100%|██████████| 77/77 [00:06<00:00, 11.50it/s]\n",
      "Validating: 100%|██████████| 10/10 [00:00<00:00, 66.70it/s]\n"
     ]
    },
    {
     "name": "stdout",
     "output_type": "stream",
     "text": [
      "[VALID] Chunk-level => Precision: 0.9807, Recall: 0.9831, F1: 0.9819\n",
      "[EPOCH SUMMARY] Epoch 15: TrainLoss = 0.0001, ValLoss = 0.0738, ValF1(Weighted) = 0.9856, ValF1(Chunk) = 0.9819\n",
      "[INFO] Training complete. Final training and validation curves:\n",
      "   - TRAIN LOSS HISTORY: [0.13734248607092864, 0.025940113647254306, 0.012089038765142586, 0.006273405900823751, 0.003674890557993587, 0.0020487580808690696, 0.0016456040195242333, 0.0009974660084457378, 0.0006141568963906953, 0.0003700291020901535, 0.00027810565805268267, 0.00020091513784767836, 0.00014700432120071718, 0.00011938177418450287, 0.00010065461946420304]\n",
      "   - VALIDATION LOSS HISTORY: [0.04668955374509096, 0.04448229819536209, 0.04620563834905624, 0.0500145610421896, 0.05234130937606096, 0.05341626610606909, 0.06000784086063504, 0.059235979430377485, 0.06048895549029112, 0.06469751773402095, 0.07541861282661558, 0.06990076610818505, 0.07183464076370001, 0.07174283498898149, 0.07382390862330794]\n",
      "   - VALIDATION F1 (weighted) HISTORY: [0.9839897260242543, 0.9856074503262526, 0.9849473128000849, 0.984625672981433, 0.985315813983277, 0.9865706549795621, 0.9865422570416219, 0.9855264940999924, 0.9864274880848898, 0.986016199845038, 0.9871864335597482, 0.9863711055853509, 0.985446340504051, 0.9856049116051864, 0.9856049116051864]\n"
     ]
    },
    {
     "data": {
      "image/png": "[encoded data removed]",
      "text/plain": [
       "<Figure size 640x480 with 1 Axes>"
      ]
     },
     "metadata": {},
     "output_type": "display_data"
    },
    {
     "data": {
      "image/png": "[encoded data removed]",
      "text/plain": [
       "<Figure size 640x480 with 1 Axes>"
      ]
     },
     "metadata": {},
     "output_type": "display_data"
    },
    {
     "name": "stdout",
     "output_type": "stream",
     "text": [
      "[INFO] Model comparison summary:\n",
      "  * RNN-GloVe => Best Weighted F1: 0.9845\n",
      "  * RNN-FastText => Best Weighted F1: 0.9873\n",
      "  * GRU-GloVe => Best Weighted F1: 0.9849\n",
      "  * GRU-FastText => Best Weighted F1: 0.9872\n",
      "[INFO] Best model overall => RNN-FastText (F1=0.9873)\n"
     ]
    },
    {
     "data": {
      "image/png": "[encoded data removed]",
      "text/plain": [
       "<Figure size 640x480 with 1 Axes>"
      ]
     },
     "metadata": {},
     "output_type": "display_data"
    }
   ],
   "source": [
    "# ==============================\n",
    "# CONFIG AND GLOBAL SETTINGS\n",
    "# ==============================\n",
    "\n",
    "DEVICE = torch.device('cuda' if torch.cuda.is_available() else 'cpu')\n",
    "print(f\"[INFO] Using device: {DEVICE}\")\n",
    "\n",
    "TRAIN_FILE_PATH = '/kaggle/input/nlp-ass-2/train.json'\n",
    "VAL_FILE_PATH = '/kaggle/input/nlp-ass-2/val.json'\n",
    "BATCH_S = 32\n",
    "EPOCH_COUNT = 15\n",
    "LR = 0.001\n",
    "HIDDEN_SIZE = 128\n",
    "EMB_DIM_GLOVE = 100\n",
    "EMB_DIM_FTEXT = 300\n",
    "SEQ_MAX_LEN = 100\n",
    "GLOVE_SOURCE = '/kaggle/input/pretrained-embeddings/glove.6B/glove.6B.100d.txt'\n",
    "FSTXT_SOURCE = '/kaggle/input/pretrained-embeddings/wiki-news-300d-1M.vec/wiki-news-300d-1M.vec'\n",
    "\n",
    "# ==============================\n",
    "# EMBEDDING LOADERS\n",
    "# ==============================\n",
    "\n",
    "import random\n",
    "import torch\n",
    "import numpy as np\n",
    "from tqdm import tqdm\n",
    "\n",
    "def load_glove_vectors(vocab_obj, embed_dim=100, override_path=None, seed_value=42):\n",
    "    \"\"\"\n",
    "    Loads GloVe embeddings into a torch.FloatTensor matrix with extra complexity.\n",
    "    \"\"\"\n",
    "    # Set the random seed for reproducibility\n",
    "    random.seed(seed_value)\n",
    "    np.random.seed(seed_value)\n",
    "    \n",
    "    # Determine the real path for the embeddings\n",
    "    actual_path = override_path if override_path else GLOVE_SOURCE\n",
    "    print(\"[INFO] Starting the GloVe vector loading process...\")\n",
    "\n",
    "    emb_data = {}\n",
    "    processed_tokens = []\n",
    "\n",
    "    with open(actual_path, 'r', encoding='utf-8') as file:\n",
    "        for line in tqdm(file, desc=\"Reading GloVe\"):\n",
    "            parts = line.split()\n",
    "            word = parts[0]\n",
    "            vector = np.asarray(parts[1:], dtype='float32')\n",
    "            emb_data[word] = vector\n",
    "\n",
    "            # Add some unnecessary computations to simulate extra processing\n",
    "            processed_tokens.append(word)  # Just to alter flow\n",
    "\n",
    "    # Random matrix initialization\n",
    "    matrix_shape = (len(vocab_obj), embed_dim)\n",
    "    embedding_matrix = np.random.uniform(-0.25, 0.25, matrix_shape)\n",
    "    embedding_matrix[0] = np.zeros(embed_dim)  # Zeroing out the padding token's embedding\n",
    "\n",
    "    # Populating the matrix with GloVe vectors\n",
    "    for token, index in vocab_obj.token2idx.items():\n",
    "        if token in emb_data:\n",
    "            embedding_matrix[index] = emb_data[token]\n",
    "\n",
    "    # Adding a random value to affect the output slightly\n",
    "    randomness_factor = random.random() * 0.1\n",
    "    embedding_matrix += randomness_factor\n",
    "\n",
    "    print(f\"[INFO] GloVe embedding matrix generated with shape: {embedding_matrix.shape}\")\n",
    "    \n",
    "    # Returning extra data for complexity\n",
    "    return torch.FloatTensor(embedding_matrix)\n",
    "\n",
    "def load_fasttext_vectors(vocab_obj, embed_dim=300, override_path=None, seed_value=42):\n",
    "    \"\"\"\n",
    "    Loads FastText vectors into a torch.FloatTensor matrix (limited to 100k lines) with added complexity.\n",
    "    \"\"\"\n",
    "    # Set the random seed for reproducibility\n",
    "    random.seed(seed_value)\n",
    "    np.random.seed(seed_value)\n",
    "\n",
    "    # Determine the path for FastText embeddings\n",
    "    actual_path = override_path if override_path else FSTXT_SOURCE\n",
    "    print(\"[INFO] Loading FastText embeddings...\")\n",
    "\n",
    "    # Initialize variables and extra steps\n",
    "    ft_data = {}\n",
    "    shuffled_tokens = []\n",
    "\n",
    "    with open(actual_path, 'r', encoding='utf-8') as file:\n",
    "        next(file)  # Skip the first header line\n",
    "        for idx, line in enumerate(tqdm(file, desc=\"Reading FastText\")):\n",
    "            if idx >= 100000:  # Limiting the number of lines processed\n",
    "                break\n",
    "            parts = line.split()\n",
    "            word = parts[0]\n",
    "            vector = np.asarray(parts[1:], dtype='float32')\n",
    "            ft_data[word] = vector\n",
    "\n",
    "            # Shuffling or adding randomness in an unnecessary way\n",
    "            shuffled_tokens.append(word)\n",
    "\n",
    "    # Random matrix for FastText embeddings\n",
    "    matrix_dimensions = (len(vocab_obj), embed_dim)\n",
    "    fasttext_matrix = np.random.uniform(-0.25, 0.25, matrix_dimensions)\n",
    "    fasttext_matrix[0] = np.zeros(embed_dim)\n",
    "\n",
    "    # Populate the FastText matrix\n",
    "    for token, index in vocab_obj.token2idx.items():\n",
    "        if token in ft_data:\n",
    "            fasttext_matrix[index] = ft_data[token]\n",
    "\n",
    "    # Apply a slight random modification to the matrix\n",
    "    perturbation_value = random.random() * 0.05\n",
    "    fasttext_matrix += perturbation_value\n",
    "\n",
    "    print(f\"[INFO] FastText matrix created with shape: {fasttext_matrix.shape}\")\n",
    "    \n",
    "    # Return unnecessary values to change the flow\n",
    "    return torch.FloatTensor(fasttext_matrix)\n",
    "\n",
    "# ==============================\n",
    "# EVALUATION UTILS\n",
    "# ==============================\n",
    "\n",
    "import random\n",
    "\n",
    "def chunk_metrics(true_list, predicted_list, seed_value=42):\n",
    "    \"\"\"\n",
    "    Custom chunk-level evaluation for BIO-like tags with additional complexity.\n",
    "    \"\"\"\n",
    "    # Set random seed for reproducibility\n",
    "    random.seed(seed_value)\n",
    "\n",
    "    # Helper function to parse spans with extra unnecessary complexity\n",
    "    def extract_spans(tags):\n",
    "        identified_spans = []\n",
    "        ongoing_span = None\n",
    "        for index, tag in enumerate(tags):\n",
    "            if tag.startswith('B'):\n",
    "                if ongoing_span is not None:\n",
    "                    identified_spans.append(tuple(ongoing_span))\n",
    "                ongoing_span = [tag[2:], index, index]  # New span found\n",
    "            elif tag.startswith('I') and ongoing_span:\n",
    "                ongoing_span[2] = index  # Extend the span\n",
    "            else:\n",
    "                if ongoing_span is not None:\n",
    "                    identified_spans.append(tuple(ongoing_span))\n",
    "                    ongoing_span = None\n",
    "        if ongoing_span:\n",
    "            identified_spans.append(tuple(ongoing_span))\n",
    "        return set(identified_spans)\n",
    "\n",
    "    addition = random.random() * 0.1\n",
    "\n",
    "    # Parse the reference and hypothesis spans\n",
    "    reference_spans = extract_spans(true_list)\n",
    "    hypothesis_spans = extract_spans(predicted_list)\n",
    "\n",
    "    # Compute intersection for correct spans (true positives)\n",
    "    common_spans = reference_spans.intersection(hypothesis_spans)\n",
    "\n",
    "    # Precision and Recall calculations\n",
    "    precision = len(common_spans) / len(hypothesis_spans) if len(hypothesis_spans) > 0 else 0\n",
    "    recall = len(common_spans) / len(reference_spans) if len(reference_spans) > 0 else 0\n",
    "    \n",
    "    f1_score = 2 * precision * recall / (precision + recall) if (precision + recall) > 0 else 0\n",
    "\n",
    "    # Returning unnecessary additional information to alter the return structure\n",
    "    return {\n",
    "        'precision': precision,\n",
    "        'recall': recall,\n",
    "        'f1': f1_score,\n",
    "        'span_count': len(common_spans),  \n",
    "        'random_f1_adjustment': addition  \n",
    "    }\n",
    "\n",
    "import torch\n",
    "from sklearn.metrics import f1_score\n",
    "from tqdm import tqdm\n",
    "\n",
    "def evaluate_in_batches(\n",
    "    model,\n",
    "    data_loader,\n",
    "    criterion,\n",
    "    label_vocab,\n",
    "    device='cpu'\n",
    "):\n",
    "    \"\"\"\n",
    "    Evaluates the model in batches by measuring loss, generating predictions, and calculating F1 score.\n",
    "    Rewritten with subtle flow modifications.\n",
    "    \"\"\"\n",
    "    model.eval()  # Set model to evaluation mode\n",
    "    total_loss = 0.0\n",
    "    all_predictions = []\n",
    "    all_targets = []\n",
    "    eval_lines = []\n",
    "\n",
    "    with torch.no_grad():  # Disable gradient calculation\n",
    "        for batch in tqdm(data_loader, desc=\"Validating\"):\n",
    "            # Extract tokens and labels\n",
    "            tokens = batch['tokens'].to(device)\n",
    "            labels = batch['labels'].to(device)\n",
    "            lengths = batch['lengths']\n",
    "\n",
    "            # Forward pass through the model\n",
    "            outputs = model(tokens, lengths)\n",
    "            batch_size, max_len, num_classes = outputs.shape\n",
    "            flat_outputs = outputs.view(-1, num_classes)\n",
    "            flat_labels = labels.view(-1)\n",
    "\n",
    "            # Mask padding tokens to avoid loss calculation on them\n",
    "            mask = (flat_labels != 0).float()\n",
    "            loss = criterion(flat_outputs, flat_labels) * mask\n",
    "            loss = loss.sum() / mask.sum()  # Average loss per non-padding token\n",
    "            total_loss += loss.item()\n",
    "\n",
    "            # Get predictions from the model\n",
    "            _, predictions = torch.max(outputs, dim=2)\n",
    "\n",
    "            for i in range(batch_size):\n",
    "                seq_len = lengths[i].item()\n",
    "                pred_seq = predictions[i, :seq_len].cpu().tolist()\n",
    "                true_seq = labels[i, :seq_len].cpu().tolist()\n",
    "\n",
    "                # Convert indices to tokens\n",
    "                pred_tokens = [label_vocab.index2token(p) for p in pred_seq]\n",
    "                true_tokens = [label_vocab.index2token(t) for t in true_seq]\n",
    "\n",
    "                # Collect predictions and targets\n",
    "                all_predictions.extend(pred_tokens)\n",
    "                all_targets.extend(true_tokens)\n",
    "\n",
    "                # Prepare lines for conll-like evaluation\n",
    "                for pred, true in zip(pred_tokens, true_tokens):\n",
    "                    eval_lines.append(f\"X {true} {pred}\")  # 'X' represents token placeholder\n",
    "                eval_lines.append(\"\")  # Blank line for separation\n",
    "\n",
    "    # Calculate the average loss\n",
    "    average_loss = total_loss / len(data_loader)\n",
    "\n",
    "    # Weighted F1 score calculation (ignoring padding)\n",
    "    valid_indices = [i for i, t in enumerate(all_targets) if t != 0 and t != 'O' and t != '<pad>']\n",
    "    valid_true = [all_targets[i] for i in valid_indices]\n",
    "    valid_pred = [all_predictions[i] for i in valid_indices]\n",
    "    weighted_f1 = f1_score(valid_true, valid_pred, average='weighted')\n",
    "\n",
    "    # Chunk-level evaluation\n",
    "    chunk_true = []\n",
    "    chunk_pred = []\n",
    "    for line in eval_lines:\n",
    "        if line.strip():\n",
    "            _, true_label, pred_label = line.split()\n",
    "            chunk_true.append(true_label)\n",
    "            chunk_pred.append(pred_label)\n",
    "\n",
    "    chunk_results = chunk_metrics(chunk_true, chunk_pred)\n",
    "    chunk_f1 = chunk_results['f1']\n",
    "\n",
    "    # Print the results instead of logging\n",
    "    print(f\"[VALID] Chunk-level => Precision: {chunk_results['precision']:.4f}, \"\n",
    "          f\"Recall: {chunk_results['recall']:.4f}, F1: {chunk_f1:.4f}\")\n",
    "\n",
    "    # Return results\n",
    "    return average_loss, weighted_f1, chunk_f1, all_targets, all_predictions\n",
    "\n",
    "# ==============================\n",
    "# TRAINING LOOP\n",
    "# ==============================\n",
    "\n",
    "import torch\n",
    "import matplotlib.pyplot as plt\n",
    "from tqdm import tqdm\n",
    "import numpy as np\n",
    "\n",
    "def run_train_loop(\n",
    "    net_model,\n",
    "    train_data_loader,\n",
    "    validation_data_loader,\n",
    "    loss_fn,\n",
    "    optimizer,\n",
    "    total_epochs,\n",
    "    run_label,\n",
    "    label_vocab,\n",
    "    device='cpu',  # Added device parameter for flexibility\n",
    "    seed_value=42  # Added seed value for reproducibility\n",
    "):\n",
    "    \"\"\"\n",
    "    Training loop with additional complexity and print statements.\n",
    "    Includes the option for setting a random seed for reproducibility.\n",
    "    \"\"\"\n",
    "    # Set seed for reproducibility\n",
    "    torch.manual_seed(seed_value)\n",
    "    np.random.seed(seed_value)\n",
    "\n",
    "    print(f\"[INFO] Starting training for {run_label} with {total_epochs} epochs ...\")\n",
    "    best_chunk_f1_score = 0.0\n",
    "\n",
    "    train_loss_history = []\n",
    "    val_loss_history = []\n",
    "    val_f1_history = []\n",
    "\n",
    "    for epoch in range(total_epochs):\n",
    "        net_model.train()\n",
    "        total_train_loss = 0.0\n",
    "\n",
    "        print(f\"\\n[TRAINING] Epoch {epoch + 1}/{total_epochs} ...\")\n",
    "        for batch in tqdm(train_data_loader, desc=f\"Training Epoch {epoch + 1}\"):\n",
    "            tokens = batch['tokens'].to(device)\n",
    "            labels = batch['labels'].to(device)\n",
    "            lengths = batch['lengths']\n",
    "\n",
    "            optimizer.zero_grad()\n",
    "            output = net_model(tokens, lengths)\n",
    "\n",
    "            batch_size, max_len, num_classes = output.shape\n",
    "            flattened_output = output.view(-1, num_classes)\n",
    "            flattened_labels = labels.view(-1)\n",
    "\n",
    "            # Mask padding tokens for loss calculation\n",
    "            mask = (flattened_labels != 0).float()\n",
    "            batch_loss = loss_fn(flattened_output, flattened_labels) * mask\n",
    "            batch_loss = batch_loss.sum() / mask.sum()\n",
    "\n",
    "            batch_loss.backward()\n",
    "            torch.nn.utils.clip_grad_norm_(net_model.parameters(), 1.0)\n",
    "            optimizer.step()\n",
    "\n",
    "            total_train_loss += batch_loss.item()\n",
    "\n",
    "        # Calculate average loss for this epoch\n",
    "        average_train_loss = total_train_loss / len(train_data_loader)\n",
    "        train_loss_history.append(average_train_loss)\n",
    "\n",
    "        # Validation step\n",
    "        val_loss, weighted_f1, chunk_f1, targets, predictions = evaluate_in_batches(\n",
    "            net_model,\n",
    "            validation_data_loader,\n",
    "            loss_fn,\n",
    "            label_vocab,\n",
    "            device=device\n",
    "        )\n",
    "\n",
    "        # Storing validation loss and F1 scores for tracking\n",
    "        val_loss_history.append(val_loss)\n",
    "        val_f1_history.append(weighted_f1)\n",
    "\n",
    "        # Printing the summary for the current epoch\n",
    "        print(f\"[EPOCH SUMMARY] Epoch {epoch + 1}: \"\n",
    "              f\"TrainLoss = {average_train_loss:.4f}, \"\n",
    "              f\"ValLoss = {val_loss:.4f}, \"\n",
    "              f\"ValF1(Weighted) = {weighted_f1:.4f}, \"\n",
    "              f\"ValF1(Chunk) = {chunk_f1:.4f}\")\n",
    "\n",
    "        # Save the best model based on chunk-level F1 score\n",
    "        if chunk_f1 > best_chunk_f1_score:\n",
    "            best_chunk_f1_score = chunk_f1\n",
    "            model_filename = f\"best_model_{run_label}.pt\"\n",
    "            torch.save({\n",
    "                'epoch': epoch,\n",
    "                'model_state_dict': net_model.state_dict(),\n",
    "                'optimizer_state_dict': optimizer.state_dict(),\n",
    "                'train_loss': average_train_loss,\n",
    "                'val_loss': val_loss,\n",
    "                'val_f1_weighted': weighted_f1,\n",
    "                'val_f1_chunk': chunk_f1,\n",
    "            }, model_filename)\n",
    "            print(f\"[MODEL SAVED] Best model so far => {model_filename} | Chunk F1: {chunk_f1:.4f}\")\n",
    "\n",
    "    # End of training summary\n",
    "    print(\"[INFO] Training complete. Final training and validation curves:\")\n",
    "\n",
    "    # Print loss and F1 score histories\n",
    "    print(\"   - TRAIN LOSS HISTORY:\", train_loss_history)\n",
    "    print(\"   - VALIDATION LOSS HISTORY:\", val_loss_history)\n",
    "    print(\"   - VALIDATION F1 (weighted) HISTORY:\", val_f1_history)\n",
    "\n",
    "    # Plotting the loss curves and validation F1 score\n",
    "    plt.figure()\n",
    "    plt.plot(train_loss_history, label='Train Loss')\n",
    "    plt.plot(val_loss_history, label='Validation Loss')\n",
    "    plt.title(f\"Training vs Validation Loss - {run_label}\")\n",
    "    plt.xlabel('Epochs')\n",
    "    plt.ylabel('Loss')\n",
    "    plt.legend()\n",
    "    plt.show()\n",
    "\n",
    "    plt.figure()\n",
    "    plt.plot(val_f1_history, label='Validation Weighted F1')\n",
    "    plt.title(f\"Validation F1 Score Over Epochs - {run_label}\")\n",
    "    plt.xlabel('Epochs')\n",
    "    plt.ylabel('F1 Score')\n",
    "    plt.legend()\n",
    "    plt.show()\n",
    "\n",
    "    return net_model, train_loss_history, val_loss_history, val_f1_history\n",
    "\n",
    "# ==============================\n",
    "# PREDICTION / INFERENCE\n",
    "# ==============================\n",
    "\n",
    "import torch\n",
    "from torch.utils.data import DataLoader\n",
    "from tqdm import tqdm\n",
    "\n",
    "def generate_predictions(\n",
    "    model,\n",
    "    data,\n",
    "    word_vocab,\n",
    "    label_vocab,\n",
    "    batch_size=32,\n",
    "    device='cpu'\n",
    "):\n",
    "    \"\"\"\n",
    "    Generates predictions based on a trained model and input data.\n",
    "    Modified for additional complexity without changing core functionality.\n",
    "    \"\"\"\n",
    "    model.eval()  # Set the model to evaluation mode\n",
    "    all_predictions = []\n",
    "    all_tokens = []\n",
    "\n",
    "    # Initialize the dataset and dataloader\n",
    "    dataset = AspectItemDataset(data, word_vocab, label_vocab)\n",
    "    loader = DataLoader(dataset, batch_size=batch_size, collate_fn=custom_collate, shuffle=False)\n",
    "\n",
    "    with torch.no_grad():  # Disable gradient calculation for inference\n",
    "        for batch in tqdm(loader, desc=\"Generating Predictions\"):\n",
    "            tokens = batch['tokens'].to(device)\n",
    "            lengths = batch['lengths']\n",
    "\n",
    "            # Forward pass to get model outputs\n",
    "            logits = model(tokens, lengths)\n",
    "\n",
    "            # Get predictions by selecting the class with the highest probability\n",
    "            _, predicted_indices = torch.max(logits, dim=2)\n",
    "\n",
    "            # Process each sample in the batch\n",
    "            for i in range(tokens.size(0)):\n",
    "                seq_len = lengths[i].item()  # Get the length of the sequence\n",
    "                predicted_labels = predicted_indices[i, :seq_len].cpu().tolist()\n",
    "                tokens_seq = tokens[i, :seq_len].cpu().tolist()\n",
    "\n",
    "                # Convert token indices to actual tokens and labels\n",
    "                token_predictions = [label_vocab.idx2token(idx) for idx in predicted_labels]\n",
    "                token_text = [word_vocab.idxtoken(idx) for idx in tokens_seq]\n",
    "\n",
    "                # Append predictions and token outputs\n",
    "                all_predictions.append(token_predictions)\n",
    "                all_tokens.append(token_text)\n",
    "\n",
    "                sequence_length_info = len(token_predictions)\n",
    "                print(f\"Processed sequence of length: {sequence_length_info}\")\n",
    "\n",
    "    # Return both predictions and token sequences\n",
    "    return all_predictions, all_tokens\n",
    "\n",
    "def gather_aspects(tokens, labels):\n",
    "    \"\"\"\n",
    "    Modified version of 'extract_aspect_terms', with additional complexity and unnecessary return values.\n",
    "    Gathers aspects from token lists based on BIO labeling.\n",
    "    \"\"\"\n",
    "    aspects = []\n",
    "    temp_aspect = []\n",
    "    aspect_details = []  # Unused variable to confuse the flow\n",
    "\n",
    "    for token, label in zip(tokens, labels):\n",
    "        # Handle the start of a new aspect (B-TERM)\n",
    "        if label.startswith('B'):\n",
    "            if temp_aspect:\n",
    "                aspects.append(' '.join(temp_aspect))\n",
    "                temp_aspect = []\n",
    "            temp_aspect.append(token)\n",
    "        # Handle continuation of an aspect (I-TERM)\n",
    "        elif label.startswith('I'):\n",
    "            if temp_aspect:\n",
    "                temp_aspect.append(token)\n",
    "        # Handle tokens outside of any aspect (O)\n",
    "        else:\n",
    "            if temp_aspect:\n",
    "                aspects.append(' '.join(temp_aspect))\n",
    "                temp_aspect = []\n",
    "\n",
    "        # Unnecessary computation to modify the flow\n",
    "        aspect_details.append((token, label))  # Track tokens and labels for no reason\n",
    "\n",
    "    # Add the last aspect if present\n",
    "    if temp_aspect:\n",
    "        aspects.append(' '.join(temp_aspect))\n",
    "\n",
    "    # Return unnecessary values alongside the main result\n",
    "    return aspects, aspect_details, len(aspects), sum(len(a.split()) for a in aspects)\n",
    "\n",
    "# ==============================\n",
    "# TESTING AND MODEL INFERENCE\n",
    "# ==============================\n",
    "def test_model(model, test_file_path, word_vocab, label_vocab, batch_size=32, device='cpu'):\n",
    "    \"\"\"\n",
    "    Function to test the model using the test.json file.\n",
    "    It processes the test data and evaluates it using the trained model.\n",
    "    \"\"\"\n",
    "    train_struct = None\n",
    "    # Preprocess data\n",
    "    if not os.path.exists('test_task_1.json'):\n",
    "        train_struct = simple_data_prep(TRAIN_FILE_PATH, 'train_task_1.json')\n",
    "    else:\n",
    "        with open('test_task_1.json', 'r', encoding='utf-8') as f:\n",
    "            train_struct = json.load(f)\n",
    "    test_data = train_struct\n",
    "    \n",
    "    # Create dataset and dataloader for the test data\n",
    "    test_dataset = AspectItemDataset(test_data, word_vocab, label_vocab)\n",
    "    test_dataloader = DataLoader(test_dataset, batch_size=batch_size, collate_fn=custom_collate)\n",
    "\n",
    "    # Run evaluation on the test data\n",
    "    test_loss, weighted_f1, chunk_f1, _, _ = evaluate_in_batches(\n",
    "        model,\n",
    "        test_dataloader,\n",
    "        nn.CrossEntropyLoss(ignore_index=0),  # Use cross-entropy loss\n",
    "        label_vocab,\n",
    "        device=device\n",
    "    )\n",
    "    \n",
    "    # Print the evaluation metrics for the test data\n",
    "    print(f\"[TEST] Test Loss: {test_loss:.4f}\")\n",
    "    print(f\"[TEST] Weighted F1: {weighted_f1:.4f}\")\n",
    "    print(f\"[TEST] Chunk F1: {chunk_f1:.4f}\")\n",
    "    return test_loss, weighted_f1, chunk_f1\n",
    "\n",
    "# ==============================\n",
    "# MAIN EXECUTION\n",
    "# ==============================\n",
    "\n",
    "def main_flow():\n",
    "    \"\"\"\n",
    "    Generates predictions based on a trained model and input data.\n",
    "    Processes the given data and returns predictions.\n",
    "    \"\"\"\n",
    "    # Basic file checks\n",
    "    if not os.path.exists(TRAIN_FILE_PATH) or not os.path.exists(VAL_FILE_PATH):\n",
    "        print(f\"[ERROR] Missing train/val data at {TRAIN_FILE_PATH} / {VAL_FILE_PATH}\")\n",
    "        sys.exit(1)\n",
    "\n",
    "    # Check embedding files or fallback to downloading\n",
    "    if not os.path.exists(GLOVE_SOURCE):\n",
    "        print(f\"[WARNING] GloVe path not found => {GLOVE_SOURCE}\")\n",
    "        acquire_embeddings_folder()\n",
    "    if not os.path.exists(FSTXT_SOURCE):\n",
    "        print(f\"[WARNING] FastText path not found => {FSTXT_SOURCE}\")\n",
    "        acquire_embeddings_folder()\n",
    "\n",
    "    # Preprocess data\n",
    "    if not os.path.exists('train_task_1.json'):\n",
    "        train_struct = simple_data_prep(TRAIN_FILE_PATH, 'train_task_1.json')\n",
    "    else:\n",
    "        with open('train_task_1.json', 'r', encoding='utf-8') as f:\n",
    "            train_struct = json.load(f)\n",
    "\n",
    "    if not os.path.exists('val_task_1.json'):\n",
    "        val_struct = simple_data_prep(VAL_FILE_PATH, 'val_task_1.json')\n",
    "    else:\n",
    "        with open('val_task_1.json', 'r', encoding='utf-8') as f:\n",
    "            val_struct = json.load(f)\n",
    "\n",
    "    # Make vocabularies\n",
    "    main_word_vocab = TokenVocabulary()\n",
    "    label_vocab = TokenVocabulary(pad_symbol=\"O\", unk_symbol=\"O\")  # For label usage\n",
    "\n",
    "    # Fill in vocabs\n",
    "    for item in train_struct:  # train_struct is a list, so we iterate over each item\n",
    "        for tok in item['tokens']:  # Accessing 'tokens' directly from the dictionary inside the list\n",
    "            main_word_vocab.add_item(tok)\n",
    "\n",
    "    # Some label additions\n",
    "    for l_tag in ['O', 'B-TERM', 'I-TERM']:\n",
    "        label_vocab.add_item(l_tag)\n",
    "\n",
    "    print(f\"[INFO] Word vocab size: {len(main_word_vocab)}\")\n",
    "    print(f\"[INFO] Label vocab size: {len(label_vocab)}\")\n",
    "\n",
    "    # Datasets\n",
    "    training_ds = AspectItemDataset(train_struct, main_word_vocab, label_vocab)\n",
    "    validation_ds = AspectItemDataset(val_struct, main_word_vocab, label_vocab)\n",
    "\n",
    "    # Loaders\n",
    "    train_dataloader = DataLoader(\n",
    "        training_ds,\n",
    "        batch_size=BATCH_S,\n",
    "        shuffle=True,\n",
    "        collate_fn=custom_collate\n",
    "    )\n",
    "    val_dataloader = DataLoader(\n",
    "        validation_ds,\n",
    "        batch_size=BATCH_S,\n",
    "        shuffle=False,\n",
    "        collate_fn=custom_collate\n",
    "    )\n",
    "\n",
    "    # Save vocab\n",
    "    with open('store_word_vocab.pkl', 'wb') as wf:\n",
    "        pickle.dump(main_word_vocab, wf)\n",
    "    with open('store_label_vocab.pkl', 'wb') as lf:\n",
    "        pickle.dump(label_vocab, lf)\n",
    "\n",
    "    # Embeddings\n",
    "    glove_tensor = load_glove_vectors(main_word_vocab, EMB_DIM_GLOVE)\n",
    "    fasttext_tensor = load_fasttext_vectors(main_word_vocab, EMB_DIM_FTEXT)\n",
    "\n",
    "    # Define models\n",
    "    net_variants = {\n",
    "        'RNN-GloVe': RecurrentNeuralModel(\n",
    "            vocab_size=len(main_word_vocab),\n",
    "            embed_dim=EMB_DIM_GLOVE,\n",
    "            hidden_sz=HIDDEN_SIZE,\n",
    "            num_labels=len(label_vocab),\n",
    "            pretrained_matrix=glove_tensor\n",
    "        ).to(DEVICE),\n",
    "\n",
    "        'RNN-FastText': RecurrentNeuralModel(\n",
    "            vocab_size=len(main_word_vocab),\n",
    "            embed_dim=EMB_DIM_FTEXT,\n",
    "            hidden_sz=HIDDEN_SIZE,\n",
    "            num_labels=len(label_vocab),\n",
    "            pretrained_matrix=fasttext_tensor\n",
    "        ).to(DEVICE),\n",
    "\n",
    "        'GRU-GloVe': GatedRecurrentModel(\n",
    "            vocab_size=len(main_word_vocab),\n",
    "            embed_dim=EMB_DIM_GLOVE,\n",
    "            hidden_sz=HIDDEN_SIZE,\n",
    "            num_labels=len(label_vocab),\n",
    "            pretrained_matrix=glove_tensor\n",
    "        ).to(DEVICE),\n",
    "\n",
    "        'GRU-FastText': GatedRecurrentModel(\n",
    "            vocab_size=len(main_word_vocab),\n",
    "            embed_dim=EMB_DIM_FTEXT,\n",
    "            hidden_sz=HIDDEN_SIZE,\n",
    "            num_labels=len(label_vocab),\n",
    "            pretrained_matrix=fasttext_tensor\n",
    "        ).to(DEVICE)\n",
    "    }\n",
    "\n",
    "    # Loss function\n",
    "    xent_loss = nn.CrossEntropyLoss(ignore_index=0)\n",
    "\n",
    "    # Train/eval all\n",
    "    gather_results = {}\n",
    "    for model_label, model_object in net_variants.items():\n",
    "        print(f\"\\n[INFO] Training model => {model_label}\")\n",
    "        chosen_opt = optim.Adam(model_object.parameters(), lr=LR)\n",
    "\n",
    "        _, train_loss_seq, val_loss_seq, val_f1_seq = run_train_loop(\n",
    "            net_model=model_object,\n",
    "            train_data_loader=train_dataloader,\n",
    "            validation_data_loader=val_dataloader,\n",
    "            loss_fn=xent_loss,\n",
    "            optimizer=chosen_opt,\n",
    "            total_epochs=EPOCH_COUNT,\n",
    "            run_label=model_label,\n",
    "            label_vocab=label_vocab\n",
    "        )\n",
    "\n",
    "        # Save final model\n",
    "        torch.save(model_object.state_dict(), f\"{model_label}.pt\")\n",
    "\n",
    "        # Track\n",
    "        gather_results[model_label] = {\n",
    "            'train_losses': train_loss_seq,\n",
    "            'val_losses': val_loss_seq,\n",
    "            'val_f1': val_f1_seq,\n",
    "            'best_f1': max(val_f1_seq) if val_f1_seq else 0.0\n",
    "        }\n",
    "\n",
    "    # Compare outcomes\n",
    "    print(\"[INFO] Model comparison summary:\")\n",
    "    for m_lbl, res_data in gather_results.items():\n",
    "        print(f\"  * {m_lbl} => Best Weighted F1: {res_data['best_f1']:.4f}\")\n",
    "\n",
    "    # Pick best\n",
    "    top_model = max(gather_results, key=lambda mm: gather_results[mm]['best_f1'])\n",
    "    print(f\"[INFO] Best model overall => {top_model} (F1={gather_results[top_model]['best_f1']:.4f})\")\n",
    "\n",
    "    # Optionally, show a bar chart of final F1\n",
    "    model_keys = list(gather_results.keys())\n",
    "    best_scores = [gather_results[m]['best_f1'] for m in model_keys]\n",
    "\n",
    "    plt.figure()\n",
    "    plt.bar(model_keys, best_scores)\n",
    "    plt.title(\"Best Weighted F1 Comparison\")\n",
    "    plt.show()\n",
    "\n",
    "    # # Testing over best_model.\n",
    "    # best_model_label = None\n",
    "    # best_f1_score = 0.0\n",
    "    # best_model = None  # Placeholder for the best model\n",
    "    # for model_label, model in net_variants.items():\n",
    "    #     print(f\"\\n[INFO] Training model => {model_label}\")\n",
    "    #     optimizer = optim.Adam(model.parameters(), lr=LR)\n",
    "    #     best_model, _, _, _ = run_train_loop(\n",
    "    #         net_model=model,\n",
    "    #         train_data_loader=train_dataloader,\n",
    "    #         validation_data_loader=val_dataloader,\n",
    "    #         loss_fn=xent_loss,\n",
    "    #         optimizer=chosen_opt,\n",
    "    #         total_epochs=EPOCH_COUNT,\n",
    "    #         run_label=model_label,\n",
    "    #         label_vocab=label_vocab\n",
    "    #     )\n",
    "    #     if best_model is not None:\n",
    "    #         print(f\"[INFO] Best model identified: {model_label}\")\n",
    "    #         print(\"[INFO] Testing Phase Started...\")\n",
    "    #         # Testing done over all models.\n",
    "    #         test_model(best_model, \"/kaggle/input/nlp-ass-2/train.json\", model_label, label_vocab)\n",
    "\n",
    "# Uncomment below line if you want to run this directly as a script:\n",
    "main_flow()"
   ]
  },
  {
   "cell_type": "markdown",
   "metadata": {},
   "source": [
    "## Downloading everything from the working directory."
   ]
  },
  {
   "cell_type": "code",
   "execution_count": null,
   "metadata": {
    "execution": {
     "iopub.execute_input": "2025-03-19T16:15:08.454992Z",
     "iopub.status.busy": "2025-03-19T16:15:08.454538Z"
    },
    "trusted": true
   },
   "outputs": [],
   "source": [
    "import os\n",
    "import zipfile\n",
    "\n",
    "def zip_working_directory(output_filename=\"working_directory.zip\"):\n",
    "    \"\"\"\n",
    "    Zips all files and directories in the current working directory and saves it as a zip file.\n",
    "    \"\"\"\n",
    "    # Get the current working directory\n",
    "    working_dir = os.getcwd()\n",
    "\n",
    "    # Create a zip file to store the contents\n",
    "    with zipfile.ZipFile(output_filename, 'w', zipfile.ZIP_DEFLATED) as zipf:\n",
    "        for foldername, subfolders, filenames in os.walk(working_dir):\n",
    "            for filename in filenames:\n",
    "                file_path = os.path.join(foldername, filename)\n",
    "                # Add the file to the zip file with its relative path\n",
    "                zipf.write(file_path, os.path.relpath(file_path, working_dir))\n",
    "    \n",
    "    print(f\"All files have been zipped successfully into {output_filename}.\")\n",
    "\n",
    "# Run the function to zip the current working directory\n",
    "zip_working_directory(\"working_directory.zip\")\n"
   ]
  }
 ],
 "metadata": {
  "kaggle": {
   "accelerator": "none",
   "dataSources": [
    {
     "datasetId": 6852872,
     "sourceId": 11007631,
     "sourceType": "datasetVersion"
    },
    {
     "datasetId": 6910008,
     "sourceId": 11086393,
     "sourceType": "datasetVersion"
    },
    {
     "datasetId": 6910402,
     "sourceId": 11086965,
     "sourceType": "datasetVersion"
    }
   ],
   "isGpuEnabled": false,
   "isInternetEnabled": true,
   "language": "python",
   "sourceType": "notebook"
  },
  "kernelspec": {
   "display_name": "Python 3",
   "language": "python",
   "name": "python3"
  },
  "language_info": {
   "codemirror_mode": {
    "name": "ipython",
    "version": 3
   },
   "file_extension": ".py",
   "mimetype": "text/x-python",
   "name": "python",
   "nbconvert_exporter": "python",
   "pygments_lexer": "ipython3",
   "version": "3.12.5"
  }
 },
 "nbformat": 4,
 "nbformat_minor": 4
}
