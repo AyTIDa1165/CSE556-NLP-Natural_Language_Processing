{
 "cells": [
  {
   "cell_type": "markdown",
   "metadata": {},
   "source": [
    "Import Modules"
   ]
  },
  {
   "cell_type": "code",
   "execution_count": null,
   "metadata": {
    "trusted": true
   },
   "outputs": [],
   "source": [
    "import os\n",
    "import logging\n",
    "import torch\n",
    "import torch.nn as nn\n",
    "import torch.nn.functional as F\n",
    "from torch.utils.data import Dataset, DataLoader\n",
    "from transformers import BartTokenizer, BartForConditionalGeneration, ViTModel, ViTFeatureExtractor, AdamW\n",
    "import pandas as pd\n",
    "from nltk.translate.bleu_score import sentence_bleu\n",
    "import matplotlib.pyplot as plt\n",
    "from torch.optim.lr_scheduler import ReduceLROnPlateau\n",
    "import torchvision.transforms as T\n",
    "import seaborn as sns\n",
    "!pip install rouge-score\n",
    "!pip install bert-score\n",
    "from torch.utils.data import DataLoader\n",
    "import pandas as pd\n",
    "from transformers import BartTokenizer\n",
    "from rouge_score import rouge_scorer\n",
    "from nltk.translate.bleu_score import sentence_bleu, SmoothingFunction\n",
    "from bert_score import score as bert_score\n",
    "from torch.utils.data import DataLoader\n",
    "from transformers import BartTokenizer"
   ]
  },
  {
   "cell_type": "markdown",
   "metadata": {},
   "source": [
    "## Model Weights\n",
    "Link: https://drive.google.com/file/d/1CO6yqIIQ_goKJjWL7GSRLR8j09CWNLcH/view"
   ]
  },
  {
   "cell_type": "markdown",
   "metadata": {},
   "source": [
    "Setting Up the Logger"
   ]
  },
  {
   "cell_type": "code",
   "execution_count": null,
   "metadata": {
    "trusted": true
   },
   "outputs": [],
   "source": [
    "logging.basicConfig(\n",
    "    level=logging.DEBUG,\n",
    "    format='%(asctime)s - %(levelname)s - %(message)s',\n",
    "    handlers=[logging.StreamHandler()]\n",
    ")\n",
    "logger = logging.getLogger(__name__)\n"
   ]
  },
  {
   "cell_type": "markdown",
   "metadata": {},
   "source": [
    "Sarcasm Dataset CLASS!"
   ]
  },
  {
   "cell_type": "code",
   "execution_count": null,
   "metadata": {
    "trusted": true
   },
   "outputs": [],
   "source": [
    "class SarcasmDataset(Dataset):\n",
    "    def __init__(self, tsv_file, image_dir, d_pkl, o_pkl, tokenizer, max_length=256):\n",
    "        logger.debug(f\"Loading TSV file from {tsv_file}\")\n",
    "        self.df = pd.read_csv(tsv_file, sep='\\t')\n",
    "        self.image_dir = image_dir\n",
    "        logger.debug(f\"Loading image descriptions from {d_pkl}\")\n",
    "        import pickle\n",
    "        with open(d_pkl, 'rb') as f:\n",
    "            self.img_descriptions = pickle.load(f)\n",
    "        logger.debug(f\"Loading object tokens from {o_pkl}\")\n",
    "        with open(o_pkl, 'rb') as f:\n",
    "            self.obj_tokens = pickle.load(f)\n",
    "        self.tokenizer = tokenizer\n",
    "        self.max_length = max_length\n",
    "\n",
    "        self.augment_transforms = T.Compose([\n",
    "            T.RandomResizedCrop(224),\n",
    "            T.RandomHorizontalFlip(),\n",
    "            T.ColorJitter(brightness=0.2, contrast=0.2)\n",
    "        ])\n",
    "\n",
    "    def __len__(self):\n",
    "        return len(self.df)\n",
    "\n",
    "    def __getitem__(self, idx):\n",
    "        row = self.df.iloc[idx]\n",
    "        pid = str(row['pid'])\n",
    "        caption = row['text']\n",
    "        explanation = row.get('explanation', \"\")\n",
    "        target = row.get('sarcasm_target', \"\")\n",
    "        \n",
    "        img_desc = self.img_descriptions.get(pid, \"\")\n",
    "        obj_tokens = self.obj_tokens.get(pid, \"\")\n",
    "        \n",
    "        concat_text = caption + \" \" + str(img_desc) + \" \" + str(obj_tokens) + \" </s> \" + target\n",
    "        source = self.tokenizer(concat_text, truncation=True, padding='max_length',\n",
    "                                  max_length=self.max_length, return_tensors=\"pt\")\n",
    "        target_encoding = None\n",
    "        if explanation:\n",
    "            target_encoding = self.tokenizer(explanation, truncation=True, padding='max_length',\n",
    "                                             max_length=self.max_length, return_tensors=\"pt\")\n",
    "        \n",
    "        from PIL import Image\n",
    "        img_path = os.path.join(self.image_dir, f\"{pid}.jpg\")\n",
    "        image = Image.open(img_path).convert(\"RGB\")\n",
    "        image = self.augment_transforms(image)\n",
    "        \n",
    "        sample = {\n",
    "            \"pid\": pid,\n",
    "            \"input_ids\": source.input_ids.squeeze(0),\n",
    "            \"attention_mask\": source.attention_mask.squeeze(0),\n",
    "            \"image\": image,\n",
    "        }\n",
    "        if target_encoding is not None:\n",
    "            sample[\"decoder_input_ids\"] = target_encoding.input_ids.squeeze(0)\n",
    "            sample[\"decoder_attention_mask\"] = target_encoding.attention_mask.squeeze(0)\n",
    "            sample[\"labels\"] = target_encoding.input_ids.squeeze(0)\n",
    "        logger.debug(f\"Loaded sample pid={pid}\")\n",
    "        return sample"
   ]
  },
  {
   "cell_type": "markdown",
   "metadata": {},
   "source": [
    "Fusion Class"
   ]
  },
  {
   "cell_type": "code",
   "execution_count": null,
   "metadata": {
    "trusted": true
   },
   "outputs": [],
   "source": [
    "class ConcatFusion(nn.Module):\n",
    "    def __init__(self, hidden_dim, dropout_prob=0.3):\n",
    "        super(ConcatFusion, self).__init__()\n",
    "        self.fc = nn.Sequential(\n",
    "            nn.Linear(2 * hidden_dim, hidden_dim),\n",
    "            nn.ReLU(),\n",
    "            nn.Dropout(dropout_prob)\n",
    "        )\n",
    "        logger.debug(\"Initialized ConcatFusion module\")\n",
    "\n",
    "    def forward(self, text_features, vis_features):\n",
    "        \"\"\"\n",
    "        text_features: Tensor of shape [B, seq_len, hidden_dim]\n",
    "        vis_features: Tensor of shape [B, seq_len, hidden_dim]\n",
    "        \"\"\"\n",
    "        fused = torch.cat([text_features, vis_features], dim=-1)  # [B, seq_len, 2*hidden_dim]!!!!!!!\n",
    "        output = self.fc(fused)  # [B, seq_len, hidden_dim]!!!!!\n",
    "        logger.debug(\"ConcatFusion forward pass complete\")\n",
    "        return output\n"
   ]
  },
  {
   "cell_type": "markdown",
   "metadata": {},
   "source": [
    "TURO MODEL class!!!"
   ]
  },
  {
   "cell_type": "code",
   "execution_count": null,
   "metadata": {
    "trusted": true
   },
   "outputs": [],
   "source": [
    "class TurboModelNewFusion(nn.Module):\n",
    "    def __init__(self, bart_model_name=\"facebook/bart-base\", vit_model_name=\"google/vit-base-patch16-224-in21k\", hidden_dim=768, dropout_prob=0.3):\n",
    "        super(TurboModelNewFusion, self).__init__()\n",
    "        logger.debug(\"Loading BART model and tokenizer\")\n",
    "        self.bart = BartForConditionalGeneration.from_pretrained(bart_model_name)\n",
    "        self.tokenizer = BartTokenizer.from_pretrained(bart_model_name)\n",
    "\n",
    "        logger.debug(\"Loading ViT model and feature extractor\")\n",
    "        self.vit = ViTModel.from_pretrained(vit_model_name)\n",
    "        self.feature_extractor = ViTFeatureExtractor.from_pretrained(vit_model_name)\n",
    "\n",
    "        self.visual_proj = nn.Linear(self.vit.config.hidden_size, hidden_dim)\n",
    "        self.text_self_attn = nn.MultiheadAttention(embed_dim=hidden_dim, num_heads=8, batch_first=True)\n",
    "        self.vis_self_attn = nn.MultiheadAttention(embed_dim=hidden_dim, num_heads=8, batch_first=True)\n",
    "\n",
    "        self.concat_fusion = ConcatFusion(hidden_dim, dropout_prob=dropout_prob)\n",
    "        self.dropout = nn.Dropout(dropout_prob)\n",
    "        logger.debug(\"TurboModelNewFusion initialization complete\")\n",
    "\n",
    "    def forward(self, input_ids, attention_mask, images, decoder_input_ids=None, decoder_attention_mask=None):\n",
    "        encoder_outputs = self.bart.model.encoder(input_ids=input_ids, attention_mask=attention_mask)\n",
    "        E_text = encoder_outputs.last_hidden_state  # [B, seq_len, hidden_dim]!!!!!!!!\n",
    "        logger.debug(\"Encoded text with BART encoder\")\n",
    "\n",
    "        # ViT part.\n",
    "        image_inputs = self.feature_extractor(images=images, return_tensors=\"pt\")\n",
    "        image_inputs = {k: v.to(input_ids.device) for k, v in image_inputs.items()}\n",
    "        vit_outputs = self.vit(**image_inputs)\n",
    "        E_vis = vit_outputs.last_hidden_state  # [B, num_patches, H_vit] !\n",
    "        E_vis = self.visual_proj(E_vis)         # [B, num_patches, hiden_im] ╰(*°▽°*)╯\n",
    "        logger.debug(\"Extracted and projected visual features\")\n",
    "\n",
    "        # self-attention .!_!.\n",
    "        A_t, _ = self.text_self_attn(query=E_text, key=E_text, value=E_text)\n",
    "        A_v, _ = self.vis_self_attn(query=E_vis, key=E_vis, value=E_vis)\n",
    "        logger.debug(\"Computed self-attention for text and visual features\")\n",
    "\n",
    "        E_vis_avg = A_v.mean(dim=1, keepdim=True)   \n",
    "        E_vis_exp = E_vis_avg.expand(-1, E_text.size(1), -1)  \n",
    "\n",
    "        fused_features = self.concat_fusion(A_t, E_vis_exp)\n",
    "        Z = fused_features + E_text\n",
    "        Z = self.dropout(Z)\n",
    "        logger.debug(\"Combined fused features with text encoder output\")\n",
    "\n",
    "        if decoder_input_ids is not None and decoder_attention_mask is not None:\n",
    "            decoder_outputs = self.bart.model.decoder(\n",
    "                input_ids=decoder_input_ids,\n",
    "                attention_mask=decoder_attention_mask,\n",
    "                encoder_hidden_states=Z,\n",
    "                encoder_attention_mask=attention_mask,\n",
    "            )\n",
    "            logits = self.bart.lm_head(decoder_outputs.last_hidden_state)\n",
    "            return logits\n",
    "        else:\n",
    "            encoder_outputs_custom = type('', (), {})()\n",
    "            encoder_outputs_custom.last_hidden_state = Z\n",
    "            generated_ids = self.bart.generate(\n",
    "                input_ids=input_ids,\n",
    "                attention_mask=attention_mask,\n",
    "                encoder_outputs=encoder_outputs_custom,\n",
    "                max_length=128,\n",
    "                num_beams=5,\n",
    "                early_stopping=True\n",
    "            )\n",
    "            logger.debug(\"Generation complete in inference mode\")\n",
    "            return generated_ids"
   ]
  },
  {
   "cell_type": "markdown",
   "metadata": {},
   "source": [
    "TRAIN AND EVAL METHODS!"
   ]
  },
  {
   "cell_type": "code",
   "execution_count": null,
   "metadata": {
    "trusted": true
   },
   "outputs": [],
   "source": [
    "def train_epoch(model, dataloader, optimizer, device):\n",
    "    model.train()\n",
    "    total_loss = 0.0\n",
    "    logger.info(\"Starting training epoch\")\n",
    "    for batch_idx, batch in enumerate(dataloader):\n",
    "        optimizer.zero_grad()\n",
    "        input_ids = batch[\"input_ids\"].to(device)\n",
    "        attention_mask = batch[\"attention_mask\"].to(device)\n",
    "        decoder_input_ids = batch[\"decoder_input_ids\"].to(device)\n",
    "        decoder_attention_mask = batch[\"decoder_attention_mask\"].to(device)\n",
    "        labels = batch[\"labels\"].to(device)\n",
    "        images = batch[\"image\"]\n",
    "\n",
    "        logits = model(input_ids, attention_mask, images, decoder_input_ids, decoder_attention_mask)\n",
    "        shift_logits = logits[:, :-1, :].contiguous()\n",
    "        shift_labels = labels[:, 1:].contiguous()\n",
    "        loss = F.cross_entropy(shift_logits.view(-1, shift_logits.size(-1)),\n",
    "                               shift_labels.view(-1),\n",
    "                               ignore_index=model.tokenizer.pad_token_id)\n",
    "        loss.backward()\n",
    "        torch.nn.utils.clip_grad_norm_(model.parameters(), max_norm=1.0)\n",
    "        optimizer.step()\n",
    "        total_loss += loss.item()\n",
    "        logger.debug(f\"Batch {batch_idx+1}/{len(dataloader)} - Loss: {loss.item():.4f}\")\n",
    "        print(f\"Epoch Batch {batch_idx+1}/{len(dataloader)} - Loss: {loss.item():.4f}\")\n",
    "    avg_loss = total_loss / len(dataloader)\n",
    "    logger.info(f\"Epoch training complete - Average Loss: {avg_loss:.4f}\")\n",
    "    print(f\"Epoch training complete - Average Loss: {avg_loss:.4f}\")\n",
    "    return avg_loss\n",
    "\n",
    "def evaluate(model, dataloader, device):\n",
    "    model.eval()\n",
    "    total_loss = 0.0\n",
    "    logger.info(\"Starting evaluation\")\n",
    "    with torch.no_grad():\n",
    "        for batch_idx, batch in enumerate(dataloader):\n",
    "            input_ids = batch[\"input_ids\"].to(device)\n",
    "            attention_mask = batch[\"attention_mask\"].to(device)\n",
    "            decoder_input_ids = batch[\"decoder_input_ids\"].to(device)\n",
    "            decoder_attention_mask = batch[\"decoder_attention_mask\"].to(device)\n",
    "            labels = batch[\"labels\"].to(device)\n",
    "            images = batch[\"image\"]\n",
    "\n",
    "            logits = model(input_ids, attention_mask, images, decoder_input_ids, decoder_attention_mask)\n",
    "            shift_logits = logits[:, :-1, :].contiguous()\n",
    "            shift_labels = labels[:, 1:].contiguous()\n",
    "            loss = F.cross_entropy(shift_logits.view(-1, shift_logits.size(-1)),\n",
    "                                   shift_labels.view(-1),\n",
    "                                   ignore_index=model.tokenizer.pad_token_id)\n",
    "            total_loss += loss.item()\n",
    "            logger.debug(f\"Eval Batch {batch_idx+1}/{len(dataloader)} - Loss: {loss.item():.4f}\")\n",
    "            print(f\"Eval Batch {batch_idx+1}/{len(dataloader)} - Loss: {loss.item():.4f}\")\n",
    "    avg_loss = total_loss / len(dataloader)\n",
    "    logger.info(f\"Evaluation complete - Average Loss: {avg_loss:.4f}\")\n",
    "    print(f\"Evaluation complete - Average Loss: {avg_loss:.4f}\")\n",
    "    return avg_loss"
   ]
  },
  {
   "cell_type": "markdown",
   "metadata": {},
   "source": [
    "Method Callings for Training! Had called and run this in another file, see that for the incode prints..."
   ]
  },
  {
   "cell_type": "code",
   "execution_count": null,
   "metadata": {
    "trusted": true
   },
   "outputs": [],
   "source": [
    "train_tsv = r\"/kaggle/input/nlpassign3t3/train_df.tsv\"\n",
    "val_tsv = r\"/kaggle/input/nlpassign3t3/val_df.tsv\"\n",
    "image_dir = r\"/kaggle/input/imagesnlpt3/images\"\n",
    "d_pkl = r\"/kaggle/input/nlpassign3t3/D_train.pkl\"\n",
    "o_pkl = r\"/kaggle/input/nlpassign3t3/O_train.pkl\"\n",
    "\n",
    "max_length = 256\n",
    "batch_size = 8\n",
    "num_epochs = 20\n",
    "learning_rate = 1e-4\n",
    "\n",
    "device = torch.device(\"cuda\" if torch.cuda.is_available() else \"cpu\")\n",
    "logger.info(f\"Using device: {device}\")\n",
    "print(f\"Using device: {device}\")\n",
    "\n",
    "tokenizer = BartTokenizer.from_pretrained(\"facebook/bart-base\")\n",
    "\n",
    "train_dataset = SarcasmDataset(train_tsv, image_dir, d_pkl, o_pkl, tokenizer, max_length)\n",
    "val_dataset   = SarcasmDataset(val_tsv, image_dir, d_pkl, o_pkl, tokenizer, max_length)\n",
    "\n",
    "def collate_fn(batch):\n",
    "    collated = {\n",
    "        \"pid\": [item[\"pid\"] for item in batch],\n",
    "        \"image\": [item[\"image\"] for item in batch]\n",
    "    }\n",
    "    for key in [\"input_ids\", \"attention_mask\", \"decoder_input_ids\", \"decoder_attention_mask\", \"labels\"]:\n",
    "        if key in batch[0]:\n",
    "            collated[key] = torch.stack([item[key] for item in batch])\n",
    "    return collated\n",
    "\n",
    "train_loader = DataLoader(train_dataset, batch_size=batch_size, shuffle=True, collate_fn=collate_fn)\n",
    "val_loader = DataLoader(val_dataset, batch_size=batch_size, shuffle=False, collate_fn=collate_fn)\n",
    "\n",
    "model = TurboModelNewFusion(dropout_prob=0.5).to(device)\n",
    "for param in model.vit.parameters():\n",
    "    param.requires_grad = False\n",
    "optimizer = AdamW(model.parameters(), lr=learning_rate, weight_decay=1e-3)\n",
    "scheduler = ReduceLROnPlateau(optimizer, mode='min', factor=0.5, patience=2, verbose=True)\n",
    "\n",
    "logger.info(\"Starting training process\")\n",
    "print(\"Starting training process\")\n",
    "\n",
    "train_loss_list = []\n",
    "val_loss_list = []\n",
    "\n",
    "for epoch in range(num_epochs):\n",
    "    print(f\"\\nEpoch {epoch+1}/{num_epochs} started\")\n",
    "    logger.info(f\"Epoch {epoch+1}/{num_epochs} started\")\n",
    "    train_loss = train_epoch(model, train_loader, optimizer, device)\n",
    "    val_loss = evaluate(model, val_loader, device)\n",
    "    train_loss_list.append(train_loss)\n",
    "    val_loss_list.append(val_loss)\n",
    "    print(f\"Epoch {epoch+1}/{num_epochs} - Train Loss: {train_loss:.4f} - Val Loss: {val_loss:.4f}\")\n",
    "    logger.info(f\"Epoch {epoch+1}/{num_epochs} - Train Loss: {train_loss:.4f} - Val Loss: {val_loss:.4f}\")\n",
    "    scheduler.step(val_loss)\n",
    "    checkpoint_path = f\"model_checkpoint_epoch{epoch+1}.pth\"\n",
    "    torch.save(model.state_dict(), checkpoint_path)\n",
    "    logger.info(f\"Saved checkpoint for epoch {epoch+1} at {checkpoint_path}\")\n",
    "    print(f\"Saved checkpoint for epoch {epoch+1} at {checkpoint_path}\")\n",
    "\n",
    "plt.figure(figsize=(10, 6))\n",
    "plt.plot(range(1, num_epochs+1), train_loss_list, label=\"Training Loss\")\n",
    "plt.plot(range(1, num_epochs+1), val_loss_list, label=\"Validation Loss\")\n",
    "plt.xlabel(\"Epoch\")\n",
    "plt.ylabel(\"Loss\")\n",
    "plt.title(\"Training and Validation Loss\")\n",
    "plt.legend()\n",
    "loss_plot_path = \"loss_plot.png\"\n",
    "plt.savefig(loss_plot_path)\n",
    "plt.close()\n",
    "logger.info(f\"Saved loss plot to {loss_plot_path}\")\n",
    "print(f\"Saved loss plot to {loss_plot_path}\")\n",
    "final_checkpoint = f\"model_checkpoint_epoch{num_epochs}.pth\"\n",
    "model.load_state_dict(torch.load(final_checkpoint, map_location=device))\n",
    "logger.info(f\"Loaded final checkpoint: {final_checkpoint}\")\n",
    "print(f\"Loaded final checkpoint: {final_checkpoint}\")\n",
    "\n",
    "test_model(model, val_loader, device, output_file=\"test_explanations.tsv\")"
   ]
  },
  {
   "cell_type": "markdown",
   "metadata": {},
   "source": []
  },
  {
   "cell_type": "markdown",
   "metadata": {},
   "source": [
    "Used agaion by testing and loss, evals"
   ]
  },
  {
   "cell_type": "code",
   "execution_count": 10,
   "metadata": {
    "execution": {
     "iopub.execute_input": "2025-04-06T09:52:21.032000Z",
     "iopub.status.busy": "2025-04-06T09:52:21.031658Z",
     "iopub.status.idle": "2025-04-06T10:35:37.055016Z",
     "shell.execute_reply": "2025-04-06T10:35:37.053891Z",
     "shell.execute_reply.started": "2025-04-06T09:52:21.031976Z"
    },
    "trusted": true
   },
   "outputs": [
    {
     "name": "stdout",
     "output_type": "stream",
     "text": [
      "Requirement already satisfied: rouge-score in /usr/local/lib/python3.10/dist-packages (0.1.2)\n",
      "Requirement already satisfied: absl-py in /usr/local/lib/python3.10/dist-packages (from rouge-score) (1.4.0)\n",
      "Requirement already satisfied: nltk in /usr/local/lib/python3.10/dist-packages (from rouge-score) (3.2.4)\n",
      "Requirement already satisfied: numpy in /usr/local/lib/python3.10/dist-packages (from rouge-score) (1.26.4)\n",
      "Requirement already satisfied: six>=1.14.0 in /usr/local/lib/python3.10/dist-packages (from rouge-score) (1.17.0)\n",
      "Requirement already satisfied: mkl_fft in /usr/local/lib/python3.10/dist-packages (from numpy->rouge-score) (1.3.8)\n",
      "Requirement already satisfied: mkl_random in /usr/local/lib/python3.10/dist-packages (from numpy->rouge-score) (1.2.4)\n",
      "Requirement already satisfied: mkl_umath in /usr/local/lib/python3.10/dist-packages (from numpy->rouge-score) (0.1.1)\n",
      "Requirement already satisfied: mkl in /usr/local/lib/python3.10/dist-packages (from numpy->rouge-score) (2025.0.1)\n",
      "Requirement already satisfied: tbb4py in /usr/local/lib/python3.10/dist-packages (from numpy->rouge-score) (2022.0.0)\n",
      "Requirement already satisfied: mkl-service in /usr/local/lib/python3.10/dist-packages (from numpy->rouge-score) (2.4.1)\n",
      "Requirement already satisfied: intel-openmp>=2024 in /usr/local/lib/python3.10/dist-packages (from mkl->numpy->rouge-score) (2024.2.0)\n",
      "Requirement already satisfied: tbb==2022.* in /usr/local/lib/python3.10/dist-packages (from mkl->numpy->rouge-score) (2022.0.0)\n",
      "Requirement already satisfied: tcmlib==1.* in /usr/local/lib/python3.10/dist-packages (from tbb==2022.*->mkl->numpy->rouge-score) (1.2.0)\n",
      "Requirement already satisfied: intel-cmplr-lib-rt in /usr/local/lib/python3.10/dist-packages (from mkl_umath->numpy->rouge-score) (2024.2.0)\n",
      "Requirement already satisfied: intel-cmplr-lib-ur==2024.2.0 in /usr/local/lib/python3.10/dist-packages (from intel-openmp>=2024->mkl->numpy->rouge-score) (2024.2.0)\n",
      "Requirement already satisfied: bert-score in /usr/local/lib/python3.10/dist-packages (0.3.13)\n",
      "Requirement already satisfied: torch>=1.0.0 in /usr/local/lib/python3.10/dist-packages (from bert-score) (2.5.1+cu121)\n",
      "Requirement already satisfied: pandas>=1.0.1 in /usr/local/lib/python3.10/dist-packages (from bert-score) (2.2.3)\n",
      "Requirement already satisfied: transformers>=3.0.0 in /usr/local/lib/python3.10/dist-packages (from bert-score) (4.47.0)\n",
      "Requirement already satisfied: numpy in /usr/local/lib/python3.10/dist-packages (from bert-score) (1.26.4)\n",
      "Requirement already satisfied: requests in /usr/local/lib/python3.10/dist-packages (from bert-score) (2.32.3)\n",
      "Requirement already satisfied: tqdm>=4.31.1 in /usr/local/lib/python3.10/dist-packages (from bert-score) (4.67.1)\n",
      "Requirement already satisfied: matplotlib in /usr/local/lib/python3.10/dist-packages (from bert-score) (3.7.5)\n",
      "Requirement already satisfied: packaging>=20.9 in /usr/local/lib/python3.10/dist-packages (from bert-score) (24.2)\n",
      "Requirement already satisfied: python-dateutil>=2.8.2 in /usr/local/lib/python3.10/dist-packages (from pandas>=1.0.1->bert-score) (2.9.0.post0)\n",
      "Requirement already satisfied: pytz>=2020.1 in /usr/local/lib/python3.10/dist-packages (from pandas>=1.0.1->bert-score) (2025.1)\n",
      "Requirement already satisfied: tzdata>=2022.7 in /usr/local/lib/python3.10/dist-packages (from pandas>=1.0.1->bert-score) (2025.1)\n",
      "Requirement already satisfied: mkl_fft in /usr/local/lib/python3.10/dist-packages (from numpy->bert-score) (1.3.8)\n",
      "Requirement already satisfied: mkl_random in /usr/local/lib/python3.10/dist-packages (from numpy->bert-score) (1.2.4)\n",
      "Requirement already satisfied: mkl_umath in /usr/local/lib/python3.10/dist-packages (from numpy->bert-score) (0.1.1)\n",
      "Requirement already satisfied: mkl in /usr/local/lib/python3.10/dist-packages (from numpy->bert-score) (2025.0.1)\n",
      "Requirement already satisfied: tbb4py in /usr/local/lib/python3.10/dist-packages (from numpy->bert-score) (2022.0.0)\n",
      "Requirement already satisfied: mkl-service in /usr/local/lib/python3.10/dist-packages (from numpy->bert-score) (2.4.1)\n",
      "Requirement already satisfied: filelock in /usr/local/lib/python3.10/dist-packages (from torch>=1.0.0->bert-score) (3.17.0)\n",
      "Requirement already satisfied: typing-extensions>=4.8.0 in /usr/local/lib/python3.10/dist-packages (from torch>=1.0.0->bert-score) (4.12.2)\n",
      "Requirement already satisfied: networkx in /usr/local/lib/python3.10/dist-packages (from torch>=1.0.0->bert-score) (3.4.2)\n",
      "Requirement already satisfied: jinja2 in /usr/local/lib/python3.10/dist-packages (from torch>=1.0.0->bert-score) (3.1.4)\n",
      "Requirement already satisfied: fsspec in /usr/local/lib/python3.10/dist-packages (from torch>=1.0.0->bert-score) (2024.12.0)\n",
      "Requirement already satisfied: sympy==1.13.1 in /usr/local/lib/python3.10/dist-packages (from torch>=1.0.0->bert-score) (1.13.1)\n",
      "Requirement already satisfied: mpmath<1.4,>=1.1.0 in /usr/local/lib/python3.10/dist-packages (from sympy==1.13.1->torch>=1.0.0->bert-score) (1.3.0)\n",
      "Requirement already satisfied: huggingface-hub<1.0,>=0.24.0 in /usr/local/lib/python3.10/dist-packages (from transformers>=3.0.0->bert-score) (0.29.0)\n",
      "Requirement already satisfied: pyyaml>=5.1 in /usr/local/lib/python3.10/dist-packages (from transformers>=3.0.0->bert-score) (6.0.2)\n",
      "Requirement already satisfied: regex!=2019.12.17 in /usr/local/lib/python3.10/dist-packages (from transformers>=3.0.0->bert-score) (2024.11.6)\n",
      "Requirement already satisfied: tokenizers<0.22,>=0.21 in /usr/local/lib/python3.10/dist-packages (from transformers>=3.0.0->bert-score) (0.21.0)\n",
      "Requirement already satisfied: safetensors>=0.4.1 in /usr/local/lib/python3.10/dist-packages (from transformers>=3.0.0->bert-score) (0.4.5)\n",
      "Requirement already satisfied: contourpy>=1.0.1 in /usr/local/lib/python3.10/dist-packages (from matplotlib->bert-score) (1.3.1)\n",
      "Requirement already satisfied: cycler>=0.10 in /usr/local/lib/python3.10/dist-packages (from matplotlib->bert-score) (0.12.1)\n",
      "Requirement already satisfied: fonttools>=4.22.0 in /usr/local/lib/python3.10/dist-packages (from matplotlib->bert-score) (4.55.3)\n",
      "Requirement already satisfied: kiwisolver>=1.0.1 in /usr/local/lib/python3.10/dist-packages (from matplotlib->bert-score) (1.4.7)\n",
      "Requirement already satisfied: pillow>=6.2.0 in /usr/local/lib/python3.10/dist-packages (from matplotlib->bert-score) (11.0.0)\n",
      "Requirement already satisfied: pyparsing>=2.3.1 in /usr/local/lib/python3.10/dist-packages (from matplotlib->bert-score) (3.2.0)\n",
      "Requirement already satisfied: charset-normalizer<4,>=2 in /usr/local/lib/python3.10/dist-packages (from requests->bert-score) (3.4.1)\n",
      "Requirement already satisfied: idna<4,>=2.5 in /usr/local/lib/python3.10/dist-packages (from requests->bert-score) (3.10)\n",
      "Requirement already satisfied: urllib3<3,>=1.21.1 in /usr/local/lib/python3.10/dist-packages (from requests->bert-score) (2.3.0)\n",
      "Requirement already satisfied: certifi>=2017.4.17 in /usr/local/lib/python3.10/dist-packages (from requests->bert-score) (2025.1.31)\n",
      "Requirement already satisfied: six>=1.5 in /usr/local/lib/python3.10/dist-packages (from python-dateutil>=2.8.2->pandas>=1.0.1->bert-score) (1.17.0)\n",
      "Requirement already satisfied: MarkupSafe>=2.0 in /usr/local/lib/python3.10/dist-packages (from jinja2->torch>=1.0.0->bert-score) (3.0.2)\n",
      "Requirement already satisfied: intel-openmp>=2024 in /usr/local/lib/python3.10/dist-packages (from mkl->numpy->bert-score) (2024.2.0)\n",
      "Requirement already satisfied: tbb==2022.* in /usr/local/lib/python3.10/dist-packages (from mkl->numpy->bert-score) (2022.0.0)\n",
      "Requirement already satisfied: tcmlib==1.* in /usr/local/lib/python3.10/dist-packages (from tbb==2022.*->mkl->numpy->bert-score) (1.2.0)\n",
      "Requirement already satisfied: intel-cmplr-lib-rt in /usr/local/lib/python3.10/dist-packages (from mkl_umath->numpy->bert-score) (2024.2.0)\n",
      "Requirement already satisfied: intel-cmplr-lib-ur==2024.2.0 in /usr/local/lib/python3.10/dist-packages (from intel-openmp>=2024->mkl->numpy->bert-score) (2024.2.0)\n",
      "Using device: cuda\n"
     ]
    },
    {
     "data": {
      "application/vnd.jupyter.widget-view+json": {
       "model_id": "2b20ad7fcc4e4e0a971c4fa669c2f7ff",
       "version_major": 2,
       "version_minor": 0
      },
      "text/plain": [
       "model.safetensors:   0%|          | 0.00/558M [00:00<?, ?B/s]"
      ]
     },
     "metadata": {},
     "output_type": "display_data"
    },
    {
     "data": {
      "application/vnd.jupyter.widget-view+json": {
       "model_id": "d564817b1c9f42d08e6feeb37bac7f12",
       "version_major": 2,
       "version_minor": 0
      },
      "text/plain": [
       "config.json:   0%|          | 0.00/502 [00:00<?, ?B/s]"
      ]
     },
     "metadata": {},
     "output_type": "display_data"
    },
    {
     "data": {
      "application/vnd.jupyter.widget-view+json": {
       "model_id": "7df2c594516f47bdb8bf078660b5b870",
       "version_major": 2,
       "version_minor": 0
      },
      "text/plain": [
       "model.safetensors:   0%|          | 0.00/346M [00:00<?, ?B/s]"
      ]
     },
     "metadata": {},
     "output_type": "display_data"
    },
    {
     "data": {
      "application/vnd.jupyter.widget-view+json": {
       "model_id": "ceeb6e0cb6ba497492930d0b8f9ba84b",
       "version_major": 2,
       "version_minor": 0
      },
      "text/plain": [
       "preprocessor_config.json:   0%|          | 0.00/160 [00:00<?, ?B/s]"
      ]
     },
     "metadata": {},
     "output_type": "display_data"
    },
    {
     "name": "stderr",
     "output_type": "stream",
     "text": [
      "/usr/local/lib/python3.10/dist-packages/transformers/models/vit/feature_extraction_vit.py:28: FutureWarning: The class ViTFeatureExtractor is deprecated and will be removed in version 5 of Transformers. Please use ViTImageProcessor instead.\n",
      "  warnings.warn(\n"
     ]
    },
    {
     "name": "stdout",
     "output_type": "stream",
     "text": [
      "\n",
      "--- Epoch 1 --- loading /kaggle/input/nlpt3/transformers/default/1/model_checkpoint_epoch1.pth\n"
     ]
    },
    {
     "name": "stderr",
     "output_type": "stream",
     "text": [
      "<ipython-input-10-98fbad0c730c>:368: FutureWarning: You are using `torch.load` with `weights_only=False` (the current default value), which uses the default pickle module implicitly. It is possible to construct malicious pickle data which will execute arbitrary code during unpickling (See https://github.com/pytorch/pytorch/blob/main/SECURITY.md#untrusted-models for more details). In a future release, the default value for `weights_only` will be flipped to `True`. This limits the functions that could be executed during unpickling. Arbitrary objects will no longer be allowed to be loaded via this mode unless they are explicitly allowlisted by the user via `torch.serialization.add_safe_globals`. We recommend you start setting `weights_only=True` for any use case where you don't have full control of the loaded file. Please open an issue on GitHub for any issues related to this experimental feature.\n",
      "  state = torch.load(ckpt, map_location=device)\n"
     ]
    },
    {
     "data": {
      "application/vnd.jupyter.widget-view+json": {
       "model_id": "3ce1e3567ae14f0f9598f72a9c6a3c89",
       "version_major": 2,
       "version_minor": 0
      },
      "text/plain": [
       "tokenizer_config.json:   0%|          | 0.00/25.0 [00:00<?, ?B/s]"
      ]
     },
     "metadata": {},
     "output_type": "display_data"
    },
    {
     "data": {
      "application/vnd.jupyter.widget-view+json": {
       "model_id": "9624c0cdc1f74ba289807dd12bd0113c",
       "version_major": 2,
       "version_minor": 0
      },
      "text/plain": [
       "config.json:   0%|          | 0.00/482 [00:00<?, ?B/s]"
      ]
     },
     "metadata": {},
     "output_type": "display_data"
    },
    {
     "data": {
      "application/vnd.jupyter.widget-view+json": {
       "model_id": "76490f72c0974a26a61f50b8ae9080e2",
       "version_major": 2,
       "version_minor": 0
      },
      "text/plain": [
       "vocab.json:   0%|          | 0.00/899k [00:00<?, ?B/s]"
      ]
     },
     "metadata": {},
     "output_type": "display_data"
    },
    {
     "data": {
      "application/vnd.jupyter.widget-view+json": {
       "model_id": "08098319ec1649c8a6eeabdcde66930d",
       "version_major": 2,
       "version_minor": 0
      },
      "text/plain": [
       "merges.txt:   0%|          | 0.00/456k [00:00<?, ?B/s]"
      ]
     },
     "metadata": {},
     "output_type": "display_data"
    },
    {
     "data": {
      "application/vnd.jupyter.widget-view+json": {
       "model_id": "3bbc09d19f2f410bb60f553f91603109",
       "version_major": 2,
       "version_minor": 0
      },
      "text/plain": [
       "tokenizer.json:   0%|          | 0.00/1.36M [00:00<?, ?B/s]"
      ]
     },
     "metadata": {},
     "output_type": "display_data"
    },
    {
     "data": {
      "application/vnd.jupyter.widget-view+json": {
       "model_id": "e6db307f9f694f429cd9641650450873",
       "version_major": 2,
       "version_minor": 0
      },
      "text/plain": [
       "model.safetensors:   0%|          | 0.00/1.42G [00:00<?, ?B/s]"
      ]
     },
     "metadata": {},
     "output_type": "display_data"
    },
    {
     "name": "stderr",
     "output_type": "stream",
     "text": [
      "Some weights of RobertaModel were not initialized from the model checkpoint at roberta-large and are newly initialized: ['roberta.pooler.dense.bias', 'roberta.pooler.dense.weight']\n",
      "You should probably TRAIN this model on a down-stream task to be able to use it for predictions and inference.\n"
     ]
    },
    {
     "name": "stdout",
     "output_type": "stream",
     "text": [
      "Epoch 1 ▶ Train Loss: 1.5660  |  ROUGE-1: 0.4934, BLEU-1: 0.3349, METEOR: 0.3972, BERTScore: 0.9085\n",
      "\n",
      "--- Epoch 2 --- loading /kaggle/input/nlpt3/transformers/default/1/model_checkpoint_epoch2.pth\n"
     ]
    },
    {
     "name": "stderr",
     "output_type": "stream",
     "text": [
      "Some weights of RobertaModel were not initialized from the model checkpoint at roberta-large and are newly initialized: ['roberta.pooler.dense.bias', 'roberta.pooler.dense.weight']\n",
      "You should probably TRAIN this model on a down-stream task to be able to use it for predictions and inference.\n"
     ]
    },
    {
     "name": "stdout",
     "output_type": "stream",
     "text": [
      "Epoch 2 ▶ Train Loss: 1.0850  |  ROUGE-1: 0.5112, BLEU-1: 0.3597, METEOR: 0.4234, BERTScore: 0.9108\n",
      "\n",
      "--- Epoch 3 --- loading /kaggle/input/nlpt3/transformers/default/1/model_checkpoint_epoch3.pth\n"
     ]
    },
    {
     "name": "stderr",
     "output_type": "stream",
     "text": [
      "Some weights of RobertaModel were not initialized from the model checkpoint at roberta-large and are newly initialized: ['roberta.pooler.dense.bias', 'roberta.pooler.dense.weight']\n",
      "You should probably TRAIN this model on a down-stream task to be able to use it for predictions and inference.\n"
     ]
    },
    {
     "name": "stdout",
     "output_type": "stream",
     "text": [
      "Epoch 3 ▶ Train Loss: 0.7805  |  ROUGE-1: 0.5142, BLEU-1: 0.3506, METEOR: 0.4000, BERTScore: 0.9106\n",
      "\n",
      "--- Epoch 4 --- loading /kaggle/input/nlpt3/transformers/default/1/model_checkpoint_epoch4.pth\n"
     ]
    },
    {
     "name": "stderr",
     "output_type": "stream",
     "text": [
      "Some weights of RobertaModel were not initialized from the model checkpoint at roberta-large and are newly initialized: ['roberta.pooler.dense.bias', 'roberta.pooler.dense.weight']\n",
      "You should probably TRAIN this model on a down-stream task to be able to use it for predictions and inference.\n"
     ]
    },
    {
     "name": "stdout",
     "output_type": "stream",
     "text": [
      "Epoch 4 ▶ Train Loss: 0.5417  |  ROUGE-1: 0.4929, BLEU-1: 0.3421, METEOR: 0.4018, BERTScore: 0.9052\n",
      "\n",
      "--- Epoch 5 --- loading /kaggle/input/nlpt3/transformers/default/1/model_checkpoint_epoch5.pth\n"
     ]
    },
    {
     "name": "stderr",
     "output_type": "stream",
     "text": [
      "Some weights of RobertaModel were not initialized from the model checkpoint at roberta-large and are newly initialized: ['roberta.pooler.dense.bias', 'roberta.pooler.dense.weight']\n",
      "You should probably TRAIN this model on a down-stream task to be able to use it for predictions and inference.\n"
     ]
    },
    {
     "name": "stdout",
     "output_type": "stream",
     "text": [
      "Epoch 5 ▶ Train Loss: 0.3482  |  ROUGE-1: 0.5128, BLEU-1: 0.3628, METEOR: 0.4163, BERTScore: 0.9107\n",
      "\n",
      "--- Epoch 6 --- loading /kaggle/input/nlpt3/transformers/default/1/model_checkpoint_epoch6.pth\n"
     ]
    },
    {
     "name": "stderr",
     "output_type": "stream",
     "text": [
      "Some weights of RobertaModel were not initialized from the model checkpoint at roberta-large and are newly initialized: ['roberta.pooler.dense.bias', 'roberta.pooler.dense.weight']\n",
      "You should probably TRAIN this model on a down-stream task to be able to use it for predictions and inference.\n"
     ]
    },
    {
     "name": "stdout",
     "output_type": "stream",
     "text": [
      "Epoch 6 ▶ Train Loss: 0.2238  |  ROUGE-1: 0.4828, BLEU-1: 0.3382, METEOR: 0.4040, BERTScore: 0.9047\n",
      "\n",
      "--- Epoch 7 --- loading /kaggle/input/nlpt3/transformers/default/1/model_checkpoint_epoch7.pth\n"
     ]
    },
    {
     "name": "stderr",
     "output_type": "stream",
     "text": [
      "Some weights of RobertaModel were not initialized from the model checkpoint at roberta-large and are newly initialized: ['roberta.pooler.dense.bias', 'roberta.pooler.dense.weight']\n",
      "You should probably TRAIN this model on a down-stream task to be able to use it for predictions and inference.\n"
     ]
    },
    {
     "name": "stdout",
     "output_type": "stream",
     "text": [
      "Epoch 7 ▶ Train Loss: 0.1374  |  ROUGE-1: 0.4700, BLEU-1: 0.3162, METEOR: 0.3797, BERTScore: 0.9027\n",
      "\n",
      "--- Epoch 8 --- loading /kaggle/input/nlpt3/transformers/default/1/model_checkpoint_epoch8.pth\n"
     ]
    },
    {
     "name": "stderr",
     "output_type": "stream",
     "text": [
      "Some weights of RobertaModel were not initialized from the model checkpoint at roberta-large and are newly initialized: ['roberta.pooler.dense.bias', 'roberta.pooler.dense.weight']\n",
      "You should probably TRAIN this model on a down-stream task to be able to use it for predictions and inference.\n"
     ]
    },
    {
     "name": "stdout",
     "output_type": "stream",
     "text": [
      "Epoch 8 ▶ Train Loss: 0.1011  |  ROUGE-1: 0.4817, BLEU-1: 0.3307, METEOR: 0.3889, BERTScore: 0.9055\n",
      "\n",
      "--- Epoch 9 --- loading /kaggle/input/nlpt3/transformers/default/1/model_checkpoint_epoch9.pth\n"
     ]
    },
    {
     "name": "stderr",
     "output_type": "stream",
     "text": [
      "Some weights of RobertaModel were not initialized from the model checkpoint at roberta-large and are newly initialized: ['roberta.pooler.dense.bias', 'roberta.pooler.dense.weight']\n",
      "You should probably TRAIN this model on a down-stream task to be able to use it for predictions and inference.\n"
     ]
    },
    {
     "name": "stdout",
     "output_type": "stream",
     "text": [
      "Epoch 9 ▶ Train Loss: 0.0810  |  ROUGE-1: 0.4901, BLEU-1: 0.3404, METEOR: 0.3989, BERTScore: 0.9051\n",
      "\n",
      "--- Epoch 10 --- loading /kaggle/input/nlpt3/transformers/default/1/model_checkpoint_epoch10.pth\n"
     ]
    },
    {
     "name": "stderr",
     "output_type": "stream",
     "text": [
      "Some weights of RobertaModel were not initialized from the model checkpoint at roberta-large and are newly initialized: ['roberta.pooler.dense.bias', 'roberta.pooler.dense.weight']\n",
      "You should probably TRAIN this model on a down-stream task to be able to use it for predictions and inference.\n"
     ]
    },
    {
     "name": "stdout",
     "output_type": "stream",
     "text": [
      "Epoch 10 ▶ Train Loss: 0.0565  |  ROUGE-1: 0.4823, BLEU-1: 0.3445, METEOR: 0.4123, BERTScore: 0.9062\n",
      "\n",
      "--- Epoch 11 --- loading /kaggle/input/nlpt3/transformers/default/1/model_checkpoint_epoch11.pth\n"
     ]
    },
    {
     "name": "stderr",
     "output_type": "stream",
     "text": [
      "Some weights of RobertaModel were not initialized from the model checkpoint at roberta-large and are newly initialized: ['roberta.pooler.dense.bias', 'roberta.pooler.dense.weight']\n",
      "You should probably TRAIN this model on a down-stream task to be able to use it for predictions and inference.\n"
     ]
    },
    {
     "name": "stdout",
     "output_type": "stream",
     "text": [
      "Epoch 11 ▶ Train Loss: 0.0480  |  ROUGE-1: 0.5044, BLEU-1: 0.3572, METEOR: 0.4130, BERTScore: 0.9093\n",
      "\n",
      "--- Epoch 12 --- loading /kaggle/input/nlpt3/transformers/default/1/model_checkpoint_epoch12.pth\n"
     ]
    },
    {
     "name": "stderr",
     "output_type": "stream",
     "text": [
      "Some weights of RobertaModel were not initialized from the model checkpoint at roberta-large and are newly initialized: ['roberta.pooler.dense.bias', 'roberta.pooler.dense.weight']\n",
      "You should probably TRAIN this model on a down-stream task to be able to use it for predictions and inference.\n"
     ]
    },
    {
     "name": "stdout",
     "output_type": "stream",
     "text": [
      "Epoch 12 ▶ Train Loss: 0.0491  |  ROUGE-1: 0.4791, BLEU-1: 0.3261, METEOR: 0.3870, BERTScore: 0.9023\n",
      "\n",
      "--- Epoch 13 --- loading /kaggle/input/nlpt3/transformers/default/1/model_checkpoint_epoch13.pth\n"
     ]
    },
    {
     "name": "stderr",
     "output_type": "stream",
     "text": [
      "Some weights of RobertaModel were not initialized from the model checkpoint at roberta-large and are newly initialized: ['roberta.pooler.dense.bias', 'roberta.pooler.dense.weight']\n",
      "You should probably TRAIN this model on a down-stream task to be able to use it for predictions and inference.\n"
     ]
    },
    {
     "name": "stdout",
     "output_type": "stream",
     "text": [
      "Epoch 13 ▶ Train Loss: 0.0425  |  ROUGE-1: 0.4909, BLEU-1: 0.3527, METEOR: 0.4074, BERTScore: 0.9045\n",
      "\n",
      "--- Epoch 14 --- loading /kaggle/input/nlpt3/transformers/default/1/model_checkpoint_epoch14.pth\n"
     ]
    },
    {
     "name": "stderr",
     "output_type": "stream",
     "text": [
      "Some weights of RobertaModel were not initialized from the model checkpoint at roberta-large and are newly initialized: ['roberta.pooler.dense.bias', 'roberta.pooler.dense.weight']\n",
      "You should probably TRAIN this model on a down-stream task to be able to use it for predictions and inference.\n"
     ]
    },
    {
     "name": "stdout",
     "output_type": "stream",
     "text": [
      "Epoch 14 ▶ Train Loss: 0.0420  |  ROUGE-1: 0.4845, BLEU-1: 0.3483, METEOR: 0.4235, BERTScore: 0.9052\n",
      "\n",
      "--- Epoch 15 --- loading /kaggle/input/nlpt3/transformers/default/1/model_checkpoint_epoch15.pth\n"
     ]
    },
    {
     "name": "stderr",
     "output_type": "stream",
     "text": [
      "Some weights of RobertaModel were not initialized from the model checkpoint at roberta-large and are newly initialized: ['roberta.pooler.dense.bias', 'roberta.pooler.dense.weight']\n",
      "You should probably TRAIN this model on a down-stream task to be able to use it for predictions and inference.\n"
     ]
    },
    {
     "name": "stdout",
     "output_type": "stream",
     "text": [
      "Epoch 15 ▶ Train Loss: 0.0329  |  ROUGE-1: 0.4837, BLEU-1: 0.3417, METEOR: 0.4038, BERTScore: 0.9071\n",
      "\n",
      "--- Epoch 16 --- loading /kaggle/input/nlpt3/transformers/default/1/model_checkpoint_epoch16.pth\n"
     ]
    },
    {
     "name": "stderr",
     "output_type": "stream",
     "text": [
      "Some weights of RobertaModel were not initialized from the model checkpoint at roberta-large and are newly initialized: ['roberta.pooler.dense.bias', 'roberta.pooler.dense.weight']\n",
      "You should probably TRAIN this model on a down-stream task to be able to use it for predictions and inference.\n"
     ]
    },
    {
     "name": "stdout",
     "output_type": "stream",
     "text": [
      "Epoch 16 ▶ Train Loss: 0.0346  |  ROUGE-1: 0.4623, BLEU-1: 0.3251, METEOR: 0.3811, BERTScore: 0.9031\n",
      "\n",
      "--- Epoch 17 --- loading /kaggle/input/nlpt3/transformers/default/1/model_checkpoint_epoch17.pth\n"
     ]
    },
    {
     "name": "stderr",
     "output_type": "stream",
     "text": [
      "Some weights of RobertaModel were not initialized from the model checkpoint at roberta-large and are newly initialized: ['roberta.pooler.dense.bias', 'roberta.pooler.dense.weight']\n",
      "You should probably TRAIN this model on a down-stream task to be able to use it for predictions and inference.\n"
     ]
    },
    {
     "name": "stdout",
     "output_type": "stream",
     "text": [
      "Epoch 17 ▶ Train Loss: 0.0352  |  ROUGE-1: 0.4716, BLEU-1: 0.3327, METEOR: 0.4014, BERTScore: 0.9004\n",
      "\n",
      "--- Epoch 18 --- loading /kaggle/input/nlpt3/transformers/default/1/model_checkpoint_epoch18.pth\n"
     ]
    },
    {
     "name": "stderr",
     "output_type": "stream",
     "text": [
      "Some weights of RobertaModel were not initialized from the model checkpoint at roberta-large and are newly initialized: ['roberta.pooler.dense.bias', 'roberta.pooler.dense.weight']\n",
      "You should probably TRAIN this model on a down-stream task to be able to use it for predictions and inference.\n"
     ]
    },
    {
     "name": "stdout",
     "output_type": "stream",
     "text": [
      "Epoch 18 ▶ Train Loss: 0.0316  |  ROUGE-1: 0.4456, BLEU-1: 0.3064, METEOR: 0.3615, BERTScore: 0.9006\n",
      "\n",
      "--- Epoch 19 --- loading /kaggle/input/nlpt3/transformers/default/1/model_checkpoint_epoch19.pth\n"
     ]
    },
    {
     "name": "stderr",
     "output_type": "stream",
     "text": [
      "Some weights of RobertaModel were not initialized from the model checkpoint at roberta-large and are newly initialized: ['roberta.pooler.dense.bias', 'roberta.pooler.dense.weight']\n",
      "You should probably TRAIN this model on a down-stream task to be able to use it for predictions and inference.\n"
     ]
    },
    {
     "name": "stdout",
     "output_type": "stream",
     "text": [
      "Epoch 19 ▶ Train Loss: 0.0325  |  ROUGE-1: 0.4771, BLEU-1: 0.3417, METEOR: 0.3993, BERTScore: 0.9047\n",
      "\n",
      "--- Epoch 20 --- loading /kaggle/input/nlpt3/transformers/default/1/model_checkpoint_epoch20.pth\n"
     ]
    },
    {
     "name": "stderr",
     "output_type": "stream",
     "text": [
      "Some weights of RobertaModel were not initialized from the model checkpoint at roberta-large and are newly initialized: ['roberta.pooler.dense.bias', 'roberta.pooler.dense.weight']\n",
      "You should probably TRAIN this model on a down-stream task to be able to use it for predictions and inference.\n"
     ]
    },
    {
     "name": "stdout",
     "output_type": "stream",
     "text": [
      "Epoch 20 ▶ Train Loss: 0.0237  |  ROUGE-1: 0.4514, BLEU-1: 0.3196, METEOR: 0.3680, BERTScore: 0.9018\n",
      "\n",
      "Saved all results to checkpoint_eval_results.csv\n"
     ]
    }
   ],
   "source": [
    "class SharedFusion(nn.Module):\n",
    "    def __init__(self, hidden_dim):\n",
    "        super(SharedFusion, self).__init__()\n",
    "        self.W_v = nn.Linear(hidden_dim, hidden_dim)\n",
    "        self.W_t = nn.Linear(hidden_dim, hidden_dim)\n",
    "        self.b_v = nn.Parameter(torch.zeros(hidden_dim))\n",
    "        self.b_t = nn.Parameter(torch.zeros(hidden_dim))\n",
    "        self.alpha1 = nn.Parameter(torch.tensor(1.0))\n",
    "        self.alpha2 = nn.Parameter(torch.tensor(1.0))\n",
    "        self.beta1  = nn.Parameter(torch.tensor(1.0))\n",
    "        self.beta2  = nn.Parameter(torch.tensor(1.0))\n",
    "        logger.debug(\"Initialized SharedFusion module\")\n",
    "\n",
    "    def forward(self, E_v, E_t, A_v, A_t):\n",
    "        F_tv = A_t * E_v     # Text-guided visual fusion!\n",
    "        F_vt = A_v * E_t     # Visual-guided text fusion!\n",
    "\n",
    "        G_v = torch.sigmoid(self.W_v(E_v) + self.b_v)\n",
    "        G_t = torch.sigmoid(self.W_t(E_t) + self.b_t)\n",
    "\n",
    "        F_v = G_v * E_v + (1 - G_v) * F_tv\n",
    "        F_t = G_t * E_t + (1 - G_t) * F_vt\n",
    "\n",
    "        F1 = F_vt\n",
    "        F2 = F_tv\n",
    "\n",
    "        F_SF = self.alpha1 * F1 + self.alpha2 * F2 + self.beta1 * F_v + self.beta2 * F_t\n",
    "        logger.debug(\"SharedFusion forward pass complete\")\n",
    "        return F_SF\n",
    "\n",
    "\n",
    "class SarcasmDataset(Dataset):\n",
    "    def __init__(self, tsv_file, image_dir, d_pkl, o_pkl, tokenizer, max_length=256):\n",
    "        logger.debug(f\"Loading TSV file from {tsv_file}\")\n",
    "        self.df = pd.read_csv(tsv_file, sep='\\t')\n",
    "        self.image_dir = image_dir\n",
    "        logger.debug(f\"Loading image descriptions from {d_pkl}\")\n",
    "        with open(d_pkl, 'rb') as f:\n",
    "            import pickle\n",
    "            self.img_descriptions = pickle.load(f)\n",
    "        logger.debug(f\"Loading object tokens from {o_pkl}\")\n",
    "        with open(o_pkl, 'rb') as f:\n",
    "            self.obj_tokens = pickle.load(f)\n",
    "        self.tokenizer = tokenizer\n",
    "        self.max_length = max_length\n",
    "\n",
    "    def __len__(self):\n",
    "        return len(self.df)\n",
    "\n",
    "    def __getitem__(self, idx):\n",
    "        row = self.df.iloc[idx]\n",
    "        pid = str(row['pid'])\n",
    "        caption = row['text']\n",
    "        explanation = row.get('explanation', \"\")\n",
    "        target = row.get('sarcasm_target', \"\")\n",
    "\n",
    "        img_desc = self.img_descriptions.get(pid, \"\")\n",
    "        obj_tokens = self.obj_tokens.get(pid, \"\")\n",
    "\n",
    "        concat_text = caption + \" \" + str(img_desc) + \" \" + str(obj_tokens) + \" </s> \" + target\n",
    "        source = self.tokenizer(concat_text, truncation=True, padding='max_length',\n",
    "                                max_length=self.max_length, return_tensors=\"pt\")\n",
    "        target_encoding = None\n",
    "        if explanation:\n",
    "            target_encoding = self.tokenizer(explanation, truncation=True, padding='max_length',\n",
    "                                             max_length=self.max_length, return_tensors=\"pt\")\n",
    "\n",
    "        from PIL import Image\n",
    "        img_path = os.path.join(self.image_dir, f\"{pid}.jpg\")\n",
    "        image = Image.open(img_path).convert(\"RGB\")\n",
    "\n",
    "        sample = {\n",
    "            \"pid\": pid,\n",
    "            \"input_ids\": source.input_ids.squeeze(0),\n",
    "            \"attention_mask\": source.attention_mask.squeeze(0),\n",
    "            \"image\": image,\n",
    "        }\n",
    "        if target_encoding is not None:\n",
    "            sample[\"decoder_input_ids\"] = target_encoding.input_ids.squeeze(0)\n",
    "            sample[\"decoder_attention_mask\"] = target_encoding.attention_mask.squeeze(0)\n",
    "            sample[\"labels\"] = target_encoding.input_ids.squeeze(0)\n",
    "        logger.debug(f\"Loaded sample pid={pid}\")\n",
    "        return sample\n",
    "\n",
    "from transformers.modeling_outputs import BaseModelOutput\n",
    "\n",
    "class TurboModel(nn.Module):\n",
    "    def __init__(\n",
    "        self,\n",
    "        bart_model_name: str = \"facebook/bart-base\",\n",
    "        vit_model_name: str = \"google/vit-base-patch16-224-in21k\",\n",
    "        hidden_dim: int = 768\n",
    "    ):\n",
    "        super(TurboModel, self).__init__()\n",
    "        logger.debug(\"Loading BART model and tokenizer\")\n",
    "        self.bart = BartForConditionalGeneration.from_pretrained(bart_model_name)\n",
    "        self.tokenizer = BartTokenizer.from_pretrained(bart_model_name)\n",
    "\n",
    "        logger.debug(\"Loading ViT model and feature extractor\")\n",
    "        self.vit = ViTModel.from_pretrained(vit_model_name)\n",
    "        self.feature_extractor = ViTFeatureExtractor.from_pretrained(vit_model_name)\n",
    "\n",
    "        self.visual_proj = nn.Linear(self.vit.config.hidden_size, hidden_dim)\n",
    "        self.text_self_attn = nn.MultiheadAttention(embed_dim=hidden_dim, num_heads=8, batch_first=True)\n",
    "        self.vis_self_attn = nn.MultiheadAttention(embed_dim=hidden_dim, num_heads=8, batch_first=True)\n",
    "\n",
    "        self.shared_fusion = SharedFusion(hidden_dim)\n",
    "        logger.debug(\"TurboModel initialization complete\")\n",
    "\n",
    "    def forward(\n",
    "        self,\n",
    "        input_ids,\n",
    "        attention_mask,\n",
    "        images,\n",
    "        decoder_input_ids=None,\n",
    "        decoder_attention_mask=None\n",
    "    ):\n",
    "        # Tex-Encode\n",
    "        encoder_outputs = self.bart.model.encoder(\n",
    "            input_ids=input_ids,\n",
    "            attention_mask=attention_mask\n",
    "        )\n",
    "        E_text = encoder_outputs.last_hidden_state \n",
    "        logger.debug(\"Encoded text with BART encoder\")\n",
    "\n",
    "        # Viz Features extract and proj!\n",
    "        image_inputs = self.feature_extractor(images=images, return_tensors=\"pt\")\n",
    "        image_inputs = {k: v.to(input_ids.device) for k, v in image_inputs.items()}\n",
    "        vit_outputs = self.vit(**image_inputs)\n",
    "        E_vis = self.visual_proj(vit_outputs.last_hidden_state) \n",
    "        logger.debug(\"Extracted and projected visual features\")\n",
    "\n",
    "        # St-Attn on each mod\n",
    "        A_t, _ = self.text_self_attn(E_text, E_text, E_text)\n",
    "        A_v, _ = self.vis_self_attn(E_vis, E_vis, E_vis)\n",
    "        logger.debug(\"Computed self-attention for text and visual features\")\n",
    "\n",
    "        # Viz stat and txt L expnasion\n",
    "        E_vis_avg = E_vis.mean(dim=1, keepdim=True)\n",
    "        A_v_avg   = A_v.mean(dim=1, keepdim=True)\n",
    "        E_vis_exp = E_vis_avg.expand(-1, E_text.size(1), -1)\n",
    "        A_v_exp   = A_v_avg.expand(-1, E_text.size(1), -1)\n",
    "        logger.debug(\"Averaged and expanded visual features to match text sequence length\")\n",
    "\n",
    "        #  The best GOAT PART- FUSIONNNNN!!!\n",
    "        fusion_out = self.shared_fusion(E_vis_exp, E_text, A_v_exp, A_t)\n",
    "        Z = fusion_out + E_text\n",
    "        logger.debug(\"Combined fusion output with text encoder output\")\n",
    "\n",
    "        if decoder_input_ids is not None and decoder_attention_mask is not None:\n",
    "            dec_outs = self.bart.model.decoder(\n",
    "                input_ids=decoder_input_ids,\n",
    "                attention_mask=decoder_attention_mask,\n",
    "                encoder_hidden_states=Z,\n",
    "                encoder_attention_mask=attention_mask,\n",
    "            )\n",
    "            logits = self.bart.lm_head(dec_outs.last_hidden_state)\n",
    "            return logits\n",
    "\n",
    "        encoder_outputs_custom = BaseModelOutput(last_hidden_state=Z)\n",
    "        generated_ids = self.bart.generate(\n",
    "            input_ids=input_ids,\n",
    "            attention_mask=attention_mask,\n",
    "            encoder_outputs=encoder_outputs_custom,\n",
    "            max_length=128,\n",
    "            num_beams=5,\n",
    "            early_stopping=True\n",
    "        )\n",
    "        logger.debug(\"Generation complete in inference mode\")\n",
    "        return generated_ids\n",
    "\n",
    "\n",
    "def collate_fn(batch):\n",
    "    collated = {\n",
    "        \"pid\": [item[\"pid\"] for item in batch],\n",
    "        \"image\": [item[\"image\"] for item in batch]\n",
    "    }\n",
    "    for key in [\"input_ids\", \"attention_mask\", \"decoder_input_ids\", \"decoder_attention_mask\", \"labels\"]:\n",
    "        if key in batch[0]:\n",
    "            collated[key] = torch.stack([item[key] for item in batch])\n",
    "    return collated\n",
    "\n",
    "def evaluate_loss(model, dataloader, device):\n",
    "    model.eval()\n",
    "    total_loss = 0.0\n",
    "    with torch.no_grad():\n",
    "        for batch in dataloader:\n",
    "            input_ids  = batch[\"input_ids\"].to(device)\n",
    "            attention_mask = batch[\"attention_mask\"].to(device)\n",
    "            decoder_input_ids = batch[\"decoder_input_ids\"].to(device)\n",
    "            decoder_attention_mask = batch[\"decoder_attention_mask\"].to(device)\n",
    "            labels = batch[\"labels\"].to(device)\n",
    "            images = batch[\"image\"]\n",
    "\n",
    "            logits = model(input_ids, attention_mask, images,\n",
    "                           decoder_input_ids, decoder_attention_mask)\n",
    "            shift_logits = logits[:, :-1, :].contiguous()\n",
    "            shift_labels = labels[:, 1:].contiguous()\n",
    "\n",
    "            loss = F.cross_entropy(\n",
    "                shift_logits.view(-1, shift_logits.size(-1)),\n",
    "                shift_labels.view(-1),\n",
    "                ignore_index=model.tokenizer.pad_token_id,\n",
    "                reduction='mean'\n",
    "            )\n",
    "            total_loss += loss.item()\n",
    "    return total_loss / len(dataloader)\n",
    "# IMplementing a SImple METEOR as the nltk one was not working due to some wordnet dependency issue...＜（＾－＾）＞!!!!\n",
    "def simple_meteor(ref: str, hyp: str) -> float:\n",
    "    \"\"\"\n",
    "    - unigram matches\n",
    "    - precision p = |matches|/|hyp|\n",
    "    - recall    r = |matches|/|ref|\n",
    "    - fmean = (10 * p * r) / (r + 9p)\n",
    "    \"\"\"\n",
    "    ref_tokens = ref.split()\n",
    "    hyp_tokens = hyp.split()\n",
    "    if not ref_tokens or not hyp_tokens:\n",
    "        return 0.0\n",
    "    matches = sum(1 for w in hyp_tokens if w in ref_tokens)\n",
    "    p = matches / len(hyp_tokens)\n",
    "    r = matches / len(ref_tokens)\n",
    "    if p + r == 0:\n",
    "        return 0.0\n",
    "    return (10 * p * r) / (r + 9 * p)\n",
    "\n",
    "def evaluate_metrics(model, dataloader, device):\n",
    "    model.eval()\n",
    "    candidates, references = [], []\n",
    "    with torch.no_grad():\n",
    "        for batch in dataloader:\n",
    "            input_ids = batch[\"input_ids\"].to(device)\n",
    "            attention_mask = batch[\"attention_mask\"].to(device)\n",
    "            images = batch[\"image\"]\n",
    "\n",
    "            gen_ids = model(input_ids, attention_mask, images)\n",
    "            gen_texts = model.tokenizer.batch_decode(gen_ids, skip_special_tokens=True)\n",
    "            candidates.extend(gen_texts)\n",
    "\n",
    "            if \"labels\" in batch:\n",
    "                ref_texts = model.tokenizer.batch_decode(batch[\"labels\"], skip_special_tokens=True)\n",
    "                references.extend(ref_texts)\n",
    "\n",
    "    n = len(candidates)\n",
    "    smoothie = SmoothingFunction().method4\n",
    "\n",
    "    # ROUGE\n",
    "    rouge = rouge_scorer.RougeScorer(['rouge1','rouge2','rougeL'], use_stemmer=True)\n",
    "    r1 = r2 = rL = 0.0\n",
    "    for ref, cand in zip(references, candidates):\n",
    "        sc = rouge.score(ref, cand)\n",
    "        r1 += sc['rouge1'].fmeasure\n",
    "        r2 += sc['rouge2'].fmeasure\n",
    "        rL += sc['rougeL'].fmeasure\n",
    "    r1, r2, rL = r1/n, r2/n, rL/n\n",
    "\n",
    "    # BLEU‑1…4\n",
    "    weights = [(1,0,0,0), (0.5,0.5,0,0), (0.33,0.33,0.33,0), (0.25,0.25,0.25,0.25)]\n",
    "    bleus = []\n",
    "    for w in weights:\n",
    "        bleus.append(\n",
    "            sum(sentence_bleu([ref.split()], cand.split(), weights=w, smoothing_function=smoothie)\n",
    "                for ref, cand in zip(references, candidates)) / n\n",
    "        )\n",
    "    bleu1, bleu2, bleu3, bleu4 = bleus\n",
    "\n",
    "    # METEOR- SIMPLE!!\n",
    "    meteor = sum(simple_meteor(r, c) for r, c in zip(references, candidates)) / n\n",
    "\n",
    "    # BERTScore\n",
    "    P, R, F1 = bert_score(candidates, references, lang=\"en\", verbose=False)\n",
    "    bertsc = F1.mean().item()\n",
    "\n",
    "    return {\n",
    "        'rouge1': r1, 'rouge2': r2, 'rougeL': rL,\n",
    "        'bleu1': bleu1, 'bleu2': bleu2, 'bleu3': bleu3, 'bleu4': bleu4,\n",
    "        'meteor': meteor, 'bertscore': bertsc\n",
    "    }\n",
    "\n",
    "if __name__ == \"__main__\":\n",
    "    train_tsv      = \"/kaggle/input/nlpassign3t3/train_df.tsv\"\n",
    "    val_tsv        = \"/kaggle/input/nlpassign3t3/val_df.tsv\"\n",
    "    image_dir      = \"/kaggle/input/imagesnlpt3/images\"\n",
    "    d_pkl          = \"/kaggle/input/nlpassign3t3/D_train.pkl\"\n",
    "    o_pkl          = \"/kaggle/input/nlpassign3t3/O_train.pkl\"\n",
    "    checkpoint_dir = \"/kaggle/input/nlpt3/transformers/default/1\"\n",
    "    num_epochs     = 20\n",
    "    batch_size     = 8\n",
    "\n",
    "    device = torch.device(\"cuda\" if torch.cuda.is_available() else \"cpu\")\n",
    "    print(f\"Using device: {device}\")\n",
    "\n",
    "    tokenizer = BartTokenizer.from_pretrained(\"facebook/bart-base\")\n",
    "    if tokenizer.pad_token is None:\n",
    "        tokenizer.pad_token = tokenizer.eos_token\n",
    "\n",
    "    train_ds = SarcasmDataset(train_tsv, image_dir, d_pkl, o_pkl, tokenizer)\n",
    "    val_ds   = SarcasmDataset(val_tsv,   image_dir, d_pkl, o_pkl, tokenizer)\n",
    "    train_loader = DataLoader(train_ds, batch_size=batch_size, shuffle=False, collate_fn=collate_fn)\n",
    "    val_loader   = DataLoader(val_ds,   batch_size=batch_size, shuffle=False, collate_fn=collate_fn)\n",
    "\n",
    "    model = TurboModel().to(device)\n",
    "    model.tokenizer = tokenizer\n",
    "\n",
    "    records = []\n",
    "    for epoch in range(1, num_epochs+1):\n",
    "        ckpt = os.path.join(checkpoint_dir, f\"model_checkpoint_epoch{epoch}.pth\")\n",
    "        print(f\"\\n--- Epoch {epoch} --- loading {ckpt}\")\n",
    "        state = torch.load(ckpt, map_location=device)\n",
    "        model.load_state_dict(state)\n",
    "\n",
    "        tr_loss = evaluate_loss(model, train_loader, device)\n",
    "        val_met = evaluate_metrics(model, val_loader, device)\n",
    "\n",
    "        print(f\"Epoch {epoch} ▶ Train Loss: {tr_loss:.4f}  |  \"\n",
    "              f\"ROUGE-1: {val_met['rouge1']:.4f}, BLEU-1: {val_met['bleu1']:.4f}, \"\n",
    "              f\"METEOR: {val_met['meteor']:.4f}, BERTScore: {val_met['bertscore']:.4f}\")\n",
    "\n",
    "        rec = {'epoch': epoch, 'train_loss': tr_loss}\n",
    "        rec.update(val_met)\n",
    "        records.append(rec)\n",
    "\n",
    "    df = pd.DataFrame(records)\n",
    "    df.to_csv(\"checkpoint_eval_results.csv\", index=False)\n",
    "    print(\"\\nSaved all results to checkpoint_eval_results.csv\")"
   ]
  },
  {
   "cell_type": "markdown",
   "metadata": {},
   "source": [
    "Testing!"
   ]
  },
  {
   "cell_type": "markdown",
   "metadata": {},
   "source": [
    "Method to Eval on the test data!"
   ]
  },
  {
   "cell_type": "code",
   "execution_count": null,
   "metadata": {
    "trusted": true
   },
   "outputs": [],
   "source": [
    "def test_model(model, dataloader, device, print_examples=False, num_examples=5):\n",
    "    model.eval()\n",
    "    all_pids, candidates, references = [], [], []\n",
    "    with torch.no_grad():\n",
    "        for batch_idx, batch in enumerate(dataloader):\n",
    "            input_ids = batch[\"input_ids\"].to(device)\n",
    "            attention_mask = batch[\"attention_mask\"].to(device)\n",
    "            images = batch[\"image\"]\n",
    "            pids = batch.get(\"pid\", [None] * len(images))\n",
    "\n",
    "            generated_ids = model(input_ids, attention_mask, images)\n",
    "            gen_texts = model.tokenizer.batch_decode(generated_ids, skip_special_tokens=True)\n",
    "\n",
    "            all_pids.extend(pids)\n",
    "            candidates.extend(gen_texts)\n",
    "\n",
    "            if \"labels\" in batch:\n",
    "                ref_texts = model.tokenizer.batch_decode(batch[\"labels\"], skip_special_tokens=True)\n",
    "                references.extend(ref_texts)\n",
    "\n",
    "            print(f\"Processed test batch {batch_idx+1}/{len(dataloader)}\")\n",
    "    if print_examples:\n",
    "        print(\"\\nSample Generated Explanations:\\n\")\n",
    "        for i in range(min(num_examples, len(candidates))):\n",
    "            pid = all_pids[i]\n",
    "            print(f\"PID: {pid}\")\n",
    "            print(f\"Generated: {candidates[i]}\")\n",
    "            if references:\n",
    "                print(f\"Reference: {references[i]}\")\n",
    "            print()"
   ]
  },
  {
   "cell_type": "markdown",
   "metadata": {},
   "source": [
    "PLotting! and few examples!"
   ]
  },
  {
   "cell_type": "code",
   "execution_count": 22,
   "metadata": {
    "execution": {
     "iopub.execute_input": "2025-04-06T11:22:42.951063Z",
     "iopub.status.busy": "2025-04-06T11:22:42.950739Z",
     "iopub.status.idle": "2025-04-06T11:23:05.368088Z",
     "shell.execute_reply": "2025-04-06T11:23:05.367344Z",
     "shell.execute_reply.started": "2025-04-06T11:22:42.951040Z"
    },
    "trusted": true
   },
   "outputs": [
    {
     "name": "stderr",
     "output_type": "stream",
     "text": [
      "/usr/local/lib/python3.10/dist-packages/seaborn/_oldcore.py:1119: FutureWarning: use_inf_as_na option is deprecated and will be removed in a future version. Convert inf values to NaN before operating instead.\n",
      "  with pd.option_context('mode.use_inf_as_na', True):\n",
      "/usr/local/lib/python3.10/dist-packages/seaborn/_oldcore.py:1119: FutureWarning: use_inf_as_na option is deprecated and will be removed in a future version. Convert inf values to NaN before operating instead.\n",
      "  with pd.option_context('mode.use_inf_as_na', True):\n"
     ]
    },
    {
     "data": {
      "image/png": "[encoded data removed]",
      "text/plain": [
       "<Figure size 800x500 with 1 Axes>"
      ]
     },
     "metadata": {},
     "output_type": "display_data"
    },
    {
     "name": "stderr",
     "output_type": "stream",
     "text": [
      "/usr/local/lib/python3.10/dist-packages/seaborn/_oldcore.py:1119: FutureWarning: use_inf_as_na option is deprecated and will be removed in a future version. Convert inf values to NaN before operating instead.\n",
      "  with pd.option_context('mode.use_inf_as_na', True):\n",
      "/usr/local/lib/python3.10/dist-packages/seaborn/_oldcore.py:1119: FutureWarning: use_inf_as_na option is deprecated and will be removed in a future version. Convert inf values to NaN before operating instead.\n",
      "  with pd.option_context('mode.use_inf_as_na', True):\n",
      "/usr/local/lib/python3.10/dist-packages/seaborn/_oldcore.py:1119: FutureWarning: use_inf_as_na option is deprecated and will be removed in a future version. Convert inf values to NaN before operating instead.\n",
      "  with pd.option_context('mode.use_inf_as_na', True):\n",
      "/usr/local/lib/python3.10/dist-packages/seaborn/_oldcore.py:1119: FutureWarning: use_inf_as_na option is deprecated and will be removed in a future version. Convert inf values to NaN before operating instead.\n",
      "  with pd.option_context('mode.use_inf_as_na', True):\n",
      "/usr/local/lib/python3.10/dist-packages/seaborn/_oldcore.py:1119: FutureWarning: use_inf_as_na option is deprecated and will be removed in a future version. Convert inf values to NaN before operating instead.\n",
      "  with pd.option_context('mode.use_inf_as_na', True):\n",
      "/usr/local/lib/python3.10/dist-packages/seaborn/_oldcore.py:1119: FutureWarning: use_inf_as_na option is deprecated and will be removed in a future version. Convert inf values to NaN before operating instead.\n",
      "  with pd.option_context('mode.use_inf_as_na', True):\n",
      "/usr/local/lib/python3.10/dist-packages/seaborn/_oldcore.py:1119: FutureWarning: use_inf_as_na option is deprecated and will be removed in a future version. Convert inf values to NaN before operating instead.\n",
      "  with pd.option_context('mode.use_inf_as_na', True):\n",
      "/usr/local/lib/python3.10/dist-packages/seaborn/_oldcore.py:1119: FutureWarning: use_inf_as_na option is deprecated and will be removed in a future version. Convert inf values to NaN before operating instead.\n",
      "  with pd.option_context('mode.use_inf_as_na', True):\n",
      "/usr/local/lib/python3.10/dist-packages/seaborn/_oldcore.py:1119: FutureWarning: use_inf_as_na option is deprecated and will be removed in a future version. Convert inf values to NaN before operating instead.\n",
      "  with pd.option_context('mode.use_inf_as_na', True):\n",
      "/usr/local/lib/python3.10/dist-packages/seaborn/_oldcore.py:1119: FutureWarning: use_inf_as_na option is deprecated and will be removed in a future version. Convert inf values to NaN before operating instead.\n",
      "  with pd.option_context('mode.use_inf_as_na', True):\n",
      "/usr/local/lib/python3.10/dist-packages/seaborn/_oldcore.py:1119: FutureWarning: use_inf_as_na option is deprecated and will be removed in a future version. Convert inf values to NaN before operating instead.\n",
      "  with pd.option_context('mode.use_inf_as_na', True):\n",
      "/usr/local/lib/python3.10/dist-packages/seaborn/_oldcore.py:1119: FutureWarning: use_inf_as_na option is deprecated and will be removed in a future version. Convert inf values to NaN before operating instead.\n",
      "  with pd.option_context('mode.use_inf_as_na', True):\n",
      "/usr/local/lib/python3.10/dist-packages/seaborn/_oldcore.py:1119: FutureWarning: use_inf_as_na option is deprecated and will be removed in a future version. Convert inf values to NaN before operating instead.\n",
      "  with pd.option_context('mode.use_inf_as_na', True):\n",
      "/usr/local/lib/python3.10/dist-packages/seaborn/_oldcore.py:1119: FutureWarning: use_inf_as_na option is deprecated and will be removed in a future version. Convert inf values to NaN before operating instead.\n",
      "  with pd.option_context('mode.use_inf_as_na', True):\n",
      "/usr/local/lib/python3.10/dist-packages/seaborn/_oldcore.py:1119: FutureWarning: use_inf_as_na option is deprecated and will be removed in a future version. Convert inf values to NaN before operating instead.\n",
      "  with pd.option_context('mode.use_inf_as_na', True):\n",
      "/usr/local/lib/python3.10/dist-packages/seaborn/_oldcore.py:1119: FutureWarning: use_inf_as_na option is deprecated and will be removed in a future version. Convert inf values to NaN before operating instead.\n",
      "  with pd.option_context('mode.use_inf_as_na', True):\n",
      "/usr/local/lib/python3.10/dist-packages/seaborn/_oldcore.py:1119: FutureWarning: use_inf_as_na option is deprecated and will be removed in a future version. Convert inf values to NaN before operating instead.\n",
      "  with pd.option_context('mode.use_inf_as_na', True):\n",
      "/usr/local/lib/python3.10/dist-packages/seaborn/_oldcore.py:1119: FutureWarning: use_inf_as_na option is deprecated and will be removed in a future version. Convert inf values to NaN before operating instead.\n",
      "  with pd.option_context('mode.use_inf_as_na', True):\n"
     ]
    },
    {
     "data": {
      "image/png": "[encoded data removed]",
      "text/plain": [
       "<Figure size 1200x800 with 1 Axes>"
      ]
     },
     "metadata": {},
     "output_type": "display_data"
    },
    {
     "name": "stdout",
     "output_type": "stream",
     "text": [
      "Using device: cuda\n"
     ]
    },
    {
     "name": "stderr",
     "output_type": "stream",
     "text": [
      "/usr/local/lib/python3.10/dist-packages/transformers/models/vit/feature_extraction_vit.py:28: FutureWarning: The class ViTFeatureExtractor is deprecated and will be removed in version 5 of Transformers. Please use ViTImageProcessor instead.\n",
      "  warnings.warn(\n"
     ]
    },
    {
     "name": "stdout",
     "output_type": "stream",
     "text": [
      "Loading checkpoint: /kaggle/input/nlpt3/transformers/default/1/model_checkpoint_epoch11.pth\n"
     ]
    },
    {
     "name": "stderr",
     "output_type": "stream",
     "text": [
      "<ipython-input-22-62096f38a898>:107: FutureWarning: You are using `torch.load` with `weights_only=False` (the current default value), which uses the default pickle module implicitly. It is possible to construct malicious pickle data which will execute arbitrary code during unpickling (See https://github.com/pytorch/pytorch/blob/main/SECURITY.md#untrusted-models for more details). In a future release, the default value for `weights_only` will be flipped to `True`. This limits the functions that could be executed during unpickling. Arbitrary objects will no longer be allowed to be loaded via this mode unless they are explicitly allowlisted by the user via `torch.serialization.add_safe_globals`. We recommend you start setting `weights_only=True` for any use case where you don't have full control of the loaded file. Please open an issue on GitHub for any issues related to this experimental feature.\n",
      "  state = torch.load(ckpt_path, map_location=device)\n"
     ]
    },
    {
     "name": "stdout",
     "output_type": "stream",
     "text": [
      "Processed test batch 1/22\n",
      "Processed test batch 2/22\n",
      "Processed test batch 3/22\n",
      "Processed test batch 4/22\n",
      "Processed test batch 5/22\n",
      "Processed test batch 6/22\n",
      "Processed test batch 7/22\n",
      "Processed test batch 8/22\n",
      "Processed test batch 9/22\n",
      "Processed test batch 10/22\n",
      "Processed test batch 11/22\n",
      "Processed test batch 12/22\n",
      "Processed test batch 13/22\n",
      "Processed test batch 14/22\n",
      "Processed test batch 15/22\n",
      "Processed test batch 16/22\n",
      "Processed test batch 17/22\n",
      "Processed test batch 18/22\n",
      "Processed test batch 19/22\n",
      "Processed test batch 20/22\n",
      "Processed test batch 21/22\n",
      "Processed test batch 22/22\n",
      "\n",
      "Sample Generated Explanations:\n",
      "\n",
      "PID: 707133908291231744\n",
      "Generated:  author is pissed at <user> for such awful network in malad.\n",
      "Reference: the author is pissed at <user> for not getting network in malad.\n",
      "\n",
      "PID: 893773347026210242_185243426\n",
      "Generated:  author hates waiting for an hour on the tarmac for a gate to come open in snowy, windy Chicago.\n",
      "Reference: nothing worst than waiting for an hour on the tarmac for a gate to come open in snowy, windy chicago.\n",
      "\n",
      "PID: 708994813983596544\n",
      "Generated:  author doesn't like spring.\n",
      "Reference: nobody likes getting one hour of their life sucked away.\n",
      "\n",
      "PID: 904624565145538560\n",
      "Generated: ody would want to have a salivary gland biopsy on monday morning.\n",
      "Reference: having a salivary gland biopsy on monday morning is not a good way to start the new week.\n",
      "\n",
      "PID: 697929589562146817\n",
      "Generated: 's not going to be scorching hot this w-end, the high on saturday is - 30.\n",
      "Reference: the author is worried that the weekend is going to be freezing with a high of -1 and windchill probably -30.\n",
      "\n"
     ]
    }
   ],
   "source": [
    "def plot_metrics(csv_path=\"/kaggle/working/checkpoint_eval_results.csv\"):\n",
    "    df = pd.read_csv(csv_path)\n",
    "    sns.set(style=\"whitegrid\")\n",
    "\n",
    "    plt.figure(figsize=(8, 5))\n",
    "    sns.lineplot(data=df, x=\"epoch\", y=\"train_loss\", marker=\"o\", color=\"tab:blue\")\n",
    "    plt.title(\"Training Loss over Epochs\")\n",
    "    plt.xlabel(\"Epoch\")\n",
    "    plt.ylabel(\"Train Loss\")\n",
    "    plt.savefig(\"train_loss.png\", dpi=300)\n",
    "    plt.show()\n",
    "\n",
    "    metrics = [\"rouge1\", \"rouge2\", \"rougeL\", \"bleu1\", \"bleu2\", \"bleu3\", \"bleu4\", \"meteor\", \"bertscore\"]\n",
    "    plt.figure(figsize=(12, 8))\n",
    "    for metric in metrics:\n",
    "        sns.lineplot(data=df, x=\"epoch\", y=metric, marker=\"o\", label=metric)\n",
    "    plt.title(\"Validation Metrics over Epochs\")\n",
    "    plt.xlabel(\"Epoch\")\n",
    "    plt.ylabel(\"Score\")\n",
    "    plt.legend(bbox_to_anchor=(1.05, 1), loc=\"upper left\")\n",
    "    plt.tight_layout()\n",
    "    plt.savefig(\"val_metrics.png\", dpi=300)\n",
    "    plt.show()\n",
    "\n",
    "def show_last_epoch_examples(\n",
    "    checkpoint_dir=\"/kaggle/input/nlpt3/transformers/default/1\",\n",
    "    val_tsv=\"/kaggle/input/nlpassign3t3/val_df.tsv\",\n",
    "    image_dir=\"/kaggle/input/imagesnlpt3/images\",\n",
    "    d_pkl=\"/kaggle/input/nlpassign3t3/D_train.pkl\",\n",
    "    o_pkl=\"/kaggle/input/nlpassign3t3/O_train.pkl\",\n",
    "    batch_size=8,\n",
    "    num_examples=5\n",
    "):\n",
    "    device = torch.device(\"cuda\" if torch.cuda.is_available() else \"cpu\")\n",
    "    print(f\"Using device: {device}\")\n",
    "    tokenizer = BartTokenizer.from_pretrained(\"facebook/bart-base\")\n",
    "    if tokenizer.pad_token is None:\n",
    "        tokenizer.pad_token = tokenizer.eos_token\n",
    "\n",
    "    model = TurboModel().to(device)\n",
    "    ckpt_path = \"/kaggle/input/nlpt3/transformers/default/1/model_checkpoint_epoch11.pth\"\n",
    "    print(f\"Loading checkpoint: {ckpt_path}\")\n",
    "    state = torch.load(ckpt_path, map_location=device)\n",
    "    model.load_state_dict(state)\n",
    "    model.tokenizer = tokenizer\n",
    "\n",
    "    val_ds = SarcasmDataset(val_tsv, image_dir, d_pkl, o_pkl, tokenizer)\n",
    "    val_loader = DataLoader(val_ds, batch_size=batch_size, shuffle=False, collate_fn=collate_fn)\n",
    "    test_model(model, val_loader, device, print_examples=True, num_examples=num_examples)\n",
    "    \n",
    "\n",
    "plot_metrics()\n",
    "show_last_epoch_examples()"
   ]
  }
 ],
 "metadata": {
  "kaggle": {
   "accelerator": "gpu",
   "dataSources": [
    {
     "datasetId": 7021135,
     "sourceId": 11238448,
     "sourceType": "datasetVersion"
    },
    {
     "datasetId": 7021325,
     "sourceId": 11238693,
     "sourceType": "datasetVersion"
    },
    {
     "isSourceIdPinned": true,
     "modelId": 293215,
     "modelInstanceId": 272235,
     "sourceId": 323135,
     "sourceType": "modelInstanceVersion"
    }
   ],
   "dockerImageVersionId": 30919,
   "isGpuEnabled": true,
   "isInternetEnabled": true,
   "language": "python",
   "sourceType": "notebook"
  },
  "kernelspec": {
   "display_name": "Python 3",
   "language": "python",
   "name": "python3"
  },
  "language_info": {
   "codemirror_mode": {
    "name": "ipython",
    "version": 3
   },
   "file_extension": ".py",
   "mimetype": "text/x-python",
   "name": "python",
   "nbconvert_exporter": "python",
   "pygments_lexer": "ipython3",
   "version": "3.10.12"
  }
 },
 "nbformat": 4,
 "nbformat_minor": 4
}
