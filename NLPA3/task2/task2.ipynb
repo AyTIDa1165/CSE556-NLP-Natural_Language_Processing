{
 "cells": [
  {
   "cell_type": "code",
   "execution_count": 27,
   "metadata": {},
   "outputs": [],
   "source": [
    "import pandas as pd\n",
    "import contractions\n",
    "import re\n",
    "import csv\n",
    "import torch\n",
    "from torch.utils.data import Dataset, DataLoader\n",
    "from transformers import T5Tokenizer, T5ForConditionalGeneration, BartTokenizer, BartForConditionalGeneration\n",
    "from tqdm import tqdm\n",
    "from sklearn.model_selection import train_test_split\n",
    "import matplotlib.pyplot as plt\n",
    "from nltk.translate.bleu_score import sentence_bleu, SmoothingFunction\n",
    "from rouge_score import rouge_scorer\n",
    "import bert_score"
   ]
  },
  {
   "cell_type": "code",
   "execution_count": 28,
   "metadata": {},
   "outputs": [],
   "source": [
    "def clean_text(text):\n",
    "    if not isinstance(text, str):\n",
    "        return \"\"\n",
    "    \n",
    "    # Remove URLs\n",
    "    text = re.sub(r'(http[s]?://\\S+|www\\.\\S+)', '', text)\n",
    "\n",
    "    # Remove special characters\n",
    "    text = re.sub(r'[^\\w\\s]', '', text)\n",
    "    \n",
    "    # Split numbers and chars\n",
    "    text = re.sub(r'(?<=\\d)(?=[a-zA-Z])|(?<=[a-zA-Z])(?=\\d)', ' ', text)\n",
    "    \n",
    "    # Convert to lowercase\n",
    "    text = text.lower()\n",
    "    \n",
    "    # Remove extra spaces\n",
    "    text = re.sub(r'\\s+', ' ', text).strip()\n",
    "    \n",
    "    return text"
   ]
  },
  {
   "cell_type": "code",
   "execution_count": 29,
   "metadata": {},
   "outputs": [],
   "source": [
    "def expand(text):\n",
    "    with open('abbreviations.csv', mode='r', encoding='utf-8') as file:\n",
    "        reader = csv.reader(file)\n",
    "        abbreviations = {rows[0]: rows[1] for rows in reader}\n",
    "\n",
    "    words = text.split()\n",
    "    for i in range(len(words)):\n",
    "        word = words[i].lower()\n",
    "        if word in abbreviations:\n",
    "            if (word != 'pm') or (word == 'pm' and i > 0 and words[i-1].isalpha()):\n",
    "                words[i] = abbreviations[word]\n",
    "    return ' '.join(words)"
   ]
  },
  {
   "cell_type": "code",
   "execution_count": 30,
   "metadata": {},
   "outputs": [],
   "source": [
    "def preprocessing(path):\n",
    "    try:\n",
    "        df = pd.read_csv(path)\n",
    "        output_file = path.split('.')[0] + '_preprocessed.csv'\n",
    "\n",
    "        with open(output_file, 'w', newline='', encoding='utf-8') as f:\n",
    "            f.write(','.join(df.columns) + '\\n')\n",
    "\n",
    "            for index, row in df.iterrows():\n",
    "                # Process text\n",
    "                text = contractions.fix(row['Social Media Post'])\n",
    "                text = expand(text)\n",
    "                text = clean_text(text)\n",
    "                row['Social Media Post'] = text\n",
    "\n",
    "                # Quote column 1 and 2\n",
    "                row[df.columns[1]] = f'\"{str(row[df.columns[1]]).replace(\"\\\"\", \"\\\"\\\"\")}\"'\n",
    "                row[df.columns[2]] = f'\"{str(row[df.columns[2]]).replace(\"\\\"\", \"\\\"\\\"\")}\"'\n",
    "\n",
    "                f.write(','.join(str(row[col]) for col in df.columns) + '\\n')\n",
    "\n",
    "    except Exception as e:\n",
    "        print(f\"Error: {e}\")"
   ]
  },
  {
   "cell_type": "code",
   "execution_count": 31,
   "metadata": {},
   "outputs": [],
   "source": [
    "preprocessing('CLAN_data.csv')"
   ]
  },
  {
   "cell_type": "code",
   "execution_count": 32,
   "metadata": {},
   "outputs": [],
   "source": [
    "MODEL_NAME_T5 = \"t5-small\"\n",
    "MODEL_NAME_BART = \"facebook/bart-base\"\n",
    "MAX_INPUT_LEN = 256\n",
    "MAX_TARGET_LEN = 256\n",
    "BATCH_SIZE = 8\n",
    "EPOCHS = 5\n",
    "LEARNING_RATE = 3e-4\n",
    "DEVICE = torch.device(\"cuda\" if torch.cuda.is_available() else \"cpu\")\n",
    "PROMPT = \"Normalize Claim: \""
   ]
  },
  {
   "cell_type": "code",
   "execution_count": 33,
   "metadata": {},
   "outputs": [
    {
     "name": "stdout",
     "output_type": "stream",
     "text": [
      "Train size: 1967 | Val size: 422 | Test size: 422\n"
     ]
    }
   ],
   "source": [
    "df = pd.read_csv(\"CLAN_data_preprocessed.csv\")\n",
    "df = df.dropna(subset=[\"Social Media Post\", \"Normalized Claim\"])\n",
    "df[\"input_text\"] = PROMPT + df[\"Social Media Post\"]\n",
    "df[\"target_text\"] = df[\"Normalized Claim\"]\n",
    "\n",
    "df_train, df_temp = train_test_split(df, test_size=0.30, random_state=42)\n",
    "df_val, df_test = train_test_split(df_temp, test_size=0.5, random_state=42)\n",
    "\n",
    "print(f\"Train size: {len(df_train)} | Val size: {len(df_val)} | Test size: {len(df_test)}\")"
   ]
  },
  {
   "cell_type": "code",
   "execution_count": 34,
   "metadata": {},
   "outputs": [],
   "source": [
    "class Dataset(Dataset):\n",
    "    def __init__(self, dataframe, tokenizer):\n",
    "        self.tokenizer = tokenizer\n",
    "        self.inputs = dataframe[\"input_text\"].tolist()\n",
    "        self.targets = dataframe[\"target_text\"].tolist()\n",
    "        self.pids = dataframe[\"PID\"].tolist()\n",
    "\n",
    "    def __len__(self):\n",
    "        return len(self.inputs)\n",
    "\n",
    "    def __getitem__(self, idx):\n",
    "        input_enc = self.tokenizer(self.inputs[idx], truncation=True, padding=\"max_length\", max_length=MAX_INPUT_LEN, return_tensors=\"pt\")\n",
    "        target_enc = self.tokenizer(self.targets[idx], truncation=True, padding=\"max_length\", max_length=MAX_TARGET_LEN, return_tensors=\"pt\")\n",
    "\n",
    "        return {\n",
    "            \"input_ids\": input_enc[\"input_ids\"].squeeze(),\n",
    "            \"attention_mask\": input_enc[\"attention_mask\"].squeeze(),\n",
    "            \"labels\": target_enc[\"input_ids\"].squeeze(),\n",
    "            \"pid\": self.pids[idx]\n",
    "        }\n"
   ]
  },
  {
   "cell_type": "code",
   "execution_count": 35,
   "metadata": {},
   "outputs": [],
   "source": [
    "def get_dataloaders(tokenizer):\n",
    "    train_dataset = Dataset(df_train, tokenizer)\n",
    "    val_dataset = Dataset(df_val, tokenizer)\n",
    "    test_dataset = Dataset(df_test, tokenizer)\n",
    "\n",
    "    train_loader = DataLoader(train_dataset, batch_size=BATCH_SIZE, shuffle=True)\n",
    "    val_loader = DataLoader(val_dataset, batch_size=BATCH_SIZE)\n",
    "    test_loader = DataLoader(test_dataset, batch_size=BATCH_SIZE)\n",
    "\n",
    "    return train_loader, val_loader, test_loader\n"
   ]
  },
  {
   "cell_type": "code",
   "execution_count": 36,
   "metadata": {},
   "outputs": [],
   "source": [
    "def train(model, train_loader, val_loader, model_path):\n",
    "\n",
    "    model = model.to(DEVICE)\n",
    "    optimizer = torch.optim.AdamW(model.parameters(), lr=LEARNING_RATE)   \n",
    "    train_loss_log, val_loss_log = [], []\n",
    "    best_val_loss = float(\"inf\")\n",
    "\n",
    "    for epoch in range(EPOCHS):\n",
    "        # training loop\n",
    "        model.train()\n",
    "        train_loss = 0\n",
    "        print(f\"\\nEpoch {epoch + 1}/{EPOCHS}\")\n",
    "        for batch in tqdm(train_loader):\n",
    "            input_ids = batch[\"input_ids\"].to(DEVICE)\n",
    "            attention_mask = batch[\"attention_mask\"].to(DEVICE)\n",
    "            labels = batch[\"labels\"].to(DEVICE)\n",
    "\n",
    "            outputs = model(input_ids=input_ids, attention_mask=attention_mask, labels=labels)\n",
    "            loss = outputs.loss\n",
    "\n",
    "            optimizer.zero_grad()\n",
    "            loss.backward()\n",
    "            optimizer.step()\n",
    "\n",
    "            train_loss += loss.item()\n",
    "\n",
    "        avg_train_loss = train_loss / len(train_loader)\n",
    "        train_loss_log.append(avg_train_loss)\n",
    "        print(f\"Average Loss: {avg_train_loss:.4f}\")\n",
    "\n",
    "        # validation loop\n",
    "        model.eval()\n",
    "        val_loss = 0\n",
    "        with torch.no_grad():\n",
    "            for batch in val_loader:\n",
    "                input_ids = batch[\"input_ids\"].to(DEVICE)\n",
    "                attention_mask = batch[\"attention_mask\"].to(DEVICE)\n",
    "                labels = batch[\"labels\"].to(DEVICE)\n",
    "\n",
    "                outputs = model(input_ids=input_ids, attention_mask=attention_mask, labels=labels)\n",
    "                val_loss += outputs.loss.item()\n",
    "\n",
    "        avg_val_loss = val_loss / len(val_loader)\n",
    "        val_loss_log.append(avg_val_loss)\n",
    "        print(f\"Validation Loss: {avg_val_loss:.4f}\")\n",
    "\n",
    "        # Save model if validation improves\n",
    "        if avg_val_loss < best_val_loss:\n",
    "            best_val_loss = avg_val_loss\n",
    "            torch.save(model.state_dict(), model_path)\n",
    "\n",
    "    print(\"Training complete.\")\n",
    "    return train_loss_log, val_loss_log"
   ]
  },
  {
   "cell_type": "code",
   "execution_count": 37,
   "metadata": {},
   "outputs": [],
   "source": [
    "def get_loss_curve(train_loss_log, val_loss_log, title):\n",
    "    plt.figure(figsize=(8, 5))\n",
    "    plt.plot(train_loss_log, label=\"Training Loss\", marker='o')\n",
    "    plt.plot(val_loss_log, label=\"Validation Loss\", marker='o')\n",
    "    plt.xlabel(\"Epoch\")\n",
    "    plt.ylabel(\"Loss\")\n",
    "    plt.title(title)\n",
    "    plt.legend()\n",
    "    plt.grid(True)\n",
    "    plt.tight_layout()\n",
    "    plt.show()"
   ]
  },
  {
   "cell_type": "code",
   "execution_count": 38,
   "metadata": {},
   "outputs": [],
   "source": [
    "def test(model, test_loader, tokenizer, model_path):\n",
    "    model.load_state_dict(torch.load(model_path, map_location=DEVICE))\n",
    "    model = model.to(DEVICE)\n",
    "    model.eval()\n",
    "\n",
    "    results = []\n",
    "\n",
    "    with torch.no_grad():\n",
    "        for batch in tqdm(test_loader):\n",
    "            input_ids = batch[\"input_ids\"].to(DEVICE)\n",
    "            attention_mask = batch[\"attention_mask\"].to(DEVICE)\n",
    "\n",
    "            outputs = model.generate(\n",
    "                input_ids=input_ids,\n",
    "                attention_mask=attention_mask,\n",
    "                max_length=MAX_TARGET_LEN\n",
    "            )\n",
    "\n",
    "            decoded_preds = tokenizer.batch_decode(outputs, skip_special_tokens=True)\n",
    "\n",
    "            # Gather batch data (non-tensor info)\n",
    "            pids = [pid.item() if torch.is_tensor(pid) else pid for pid in batch[\"pid\"]]\n",
    "\n",
    "            for pid, pred in zip(pids, decoded_preds):\n",
    "                results.append({\n",
    "                    \"PID\": pid,\n",
    "                    \"Generated Claim\": pred\n",
    "                })\n",
    "\n",
    "    # Save as CSV\n",
    "    df_out = pd.DataFrame(results)\n",
    "    return df_out\n"
   ]
  },
  {
   "cell_type": "code",
   "execution_count": 39,
   "metadata": {},
   "outputs": [],
   "source": [
    "def eval(df_test, df_out):\n",
    "    df_eval = pd.merge(df_test, df_out, on=\"PID\")\n",
    "    # Initialize evaluators\n",
    "    rouge = rouge_scorer.RougeScorer(['rougeL'], use_stemmer=True)\n",
    "    smooth_fn = SmoothingFunction().method1\n",
    "\n",
    "    # Store scores\n",
    "    rouge_l_scores = []\n",
    "    bleu_scores = []\n",
    "\n",
    "    references = []\n",
    "    candidates = []\n",
    "\n",
    "    for _, row in df_eval.iterrows():\n",
    "        ref = row[\"Normalized Claim\"].strip()\n",
    "        pred = row[\"Generated Claim\"].strip()\n",
    "\n",
    "        # ROUGE-L\n",
    "        score = rouge.score(ref, pred)\n",
    "        rouge_l_scores.append(score[\"rougeL\"].fmeasure)\n",
    "\n",
    "        # BLEU-4\n",
    "        ref_tokens = ref.split()\n",
    "        pred_tokens = pred.split()\n",
    "        bleu = sentence_bleu([ref_tokens], pred_tokens, smoothing_function=smooth_fn)\n",
    "        bleu_scores.append(bleu)\n",
    "\n",
    "        # For BERTScore\n",
    "        references.append(ref)\n",
    "        candidates.append(pred)\n",
    "\n",
    "    # BERTScore\n",
    "    P, R, F1 = bert_score.score(candidates, references, lang=\"en\", verbose=True)\n",
    "    bertscore_f1 = F1.tolist()\n",
    "\n",
    "    # Print average scores\n",
    "    rouge_l = sum(rouge_l_scores)/len(rouge_l_scores)\n",
    "    bleu_4 = sum(bleu_scores)/len(bleu_scores)\n",
    "    bertscore = sum(bertscore_f1)/len(bertscore_f1)\n",
    "    return rouge_l, bleu_4, bertscore\n"
   ]
  },
  {
   "cell_type": "code",
   "execution_count": 40,
   "metadata": {},
   "outputs": [],
   "source": [
    "def demo(model_name, model, tokenizer):\n",
    "    print(f\"Demo for {model_name}\")\n",
    "    preprocessing('test.csv')\n",
    "    df = pd.read_csv(\"test_preprocessed.csv\")\n",
    "    df = df.dropna(subset=[\"Social Media Post\", \"Normalized Claim\"])\n",
    "    df[\"input_text\"] = PROMPT + df[\"Social Media Post\"]\n",
    "    df[\"target_text\"] = df[\"Normalized Claim\"]\n",
    "    dataset = Dataset(df, tokenizer)\n",
    "    dataloader = DataLoader(dataset, batch_size=BATCH_SIZE)\n",
    "    df_out = test(model, dataloader, tokenizer, model_name +'.pt')\n",
    "    df_out.to_csv(model_name + '.csv', index=False)\n",
    "    rouge_l, bleu_4, bertscore = eval(df, df_out)\n",
    "    print(f\"\\nAverage ROUGE-L: {rouge_l:.4f}\")\n",
    "    print(f\"Average BLEU-4:  {bleu_4:.4f}\")\n",
    "    print(f\"Average BERTScore F1: {bertscore:.4f}\")"
   ]
  },
  {
   "cell_type": "markdown",
   "metadata": {},
   "source": [
    "## T5"
   ]
  },
  {
   "cell_type": "code",
   "execution_count": 41,
   "metadata": {},
   "outputs": [],
   "source": [
    "tokenizer = T5Tokenizer.from_pretrained(MODEL_NAME_T5)\n",
    "train_loader, val_loader, test_loader = get_dataloaders(tokenizer)\n",
    "model = T5ForConditionalGeneration.from_pretrained(MODEL_NAME_T5)"
   ]
  },
  {
   "cell_type": "code",
   "execution_count": 43,
   "metadata": {},
   "outputs": [
    {
     "name": "stdout",
     "output_type": "stream",
     "text": [
      "Demo for t5_finetuned\n"
     ]
    },
    {
     "name": "stderr",
     "output_type": "stream",
     "text": [
      "100%|██████████| 13/13 [00:07<00:00,  1.64it/s]\n",
      "Some weights of RobertaModel were not initialized from the model checkpoint at roberta-large and are newly initialized: ['pooler.dense.bias', 'pooler.dense.weight']\n",
      "You should probably TRAIN this model on a down-stream task to be able to use it for predictions and inference.\n"
     ]
    },
    {
     "name": "stdout",
     "output_type": "stream",
     "text": [
      "calculating scores...\n",
      "computing bert embedding.\n"
     ]
    },
    {
     "data": {
      "application/vnd.jupyter.widget-view+json": {
       "model_id": "58b362834dbd4e78858effb1f91fdf5a",
       "version_major": 2,
       "version_minor": 0
      },
      "text/plain": [
       "  0%|          | 0/4 [00:00<?, ?it/s]"
      ]
     },
     "metadata": {},
     "output_type": "display_data"
    },
    {
     "name": "stdout",
     "output_type": "stream",
     "text": [
      "computing greedy matching.\n"
     ]
    },
    {
     "data": {
      "application/vnd.jupyter.widget-view+json": {
       "model_id": "ff9346c5741e4438b30103d805953218",
       "version_major": 2,
       "version_minor": 0
      },
      "text/plain": [
       "  0%|          | 0/2 [00:00<?, ?it/s]"
      ]
     },
     "metadata": {},
     "output_type": "display_data"
    },
    {
     "name": "stdout",
     "output_type": "stream",
     "text": [
      "done in 6.38 seconds, 15.68 sentences/sec\n",
      "\n",
      "Average ROUGE-L: 0.2983\n",
      "Average BLEU-4:  0.0864\n",
      "Average BERTScore F1: 0.8711\n"
     ]
    }
   ],
   "source": [
    "demo('t5_finetuned', model, tokenizer)"
   ]
  },
  {
   "cell_type": "code",
   "execution_count": null,
   "metadata": {},
   "outputs": [],
   "source": [
    "train_loss_log, val_loss_log = train(model, train_loader,val_loader, 't5_finetuned.pt')"
   ]
  },
  {
   "cell_type": "code",
   "execution_count": null,
   "metadata": {},
   "outputs": [],
   "source": [
    "get_loss_curve(train_loss_log, val_loss_log, 'T5 Loss Curve')"
   ]
  },
  {
   "cell_type": "code",
   "execution_count": 70,
   "metadata": {},
   "outputs": [
    {
     "name": "stderr",
     "output_type": "stream",
     "text": [
      "100%|██████████| 53/53 [00:33<00:00,  1.56it/s]"
     ]
    },
    {
     "name": "stdout",
     "output_type": "stream",
     "text": [
      "Saved predictions to 't5_predictions.csv'\n"
     ]
    },
    {
     "name": "stderr",
     "output_type": "stream",
     "text": [
      "\n"
     ]
    }
   ],
   "source": [
    "df_out = test(model, test_loader, tokenizer, 't5_finetuned.pt')\n",
    "df_out.to_csv('t5_predictions.csv', index=False)\n",
    "print(\"Saved predictions to 't5_predictions.csv'\")"
   ]
  },
  {
   "cell_type": "code",
   "execution_count": null,
   "metadata": {},
   "outputs": [],
   "source": [
    "try:\n",
    "    df_out\n",
    "except NameError:\n",
    "    df_out = pd.read_csv(\"t5_predictions.csv\")\n",
    "rouge_l, bleu_4, bertscore = eval(df_test, df_out)\n",
    "print(f\"\\nAverage ROUGE-L: {rouge_l:.4f}\")\n",
    "print(f\"Average BLEU-4:  {bleu_4:.4f}\")\n",
    "print(f\"Average BERTScore F1: {bertscore:.4f}\")"
   ]
  },
  {
   "cell_type": "markdown",
   "metadata": {},
   "source": [
    "## BART"
   ]
  },
  {
   "cell_type": "code",
   "execution_count": 44,
   "metadata": {},
   "outputs": [],
   "source": [
    "tokenizer = BartTokenizer.from_pretrained(MODEL_NAME_BART)\n",
    "train_loader, val_loader, test_loader = get_dataloaders(tokenizer)\n",
    "model = BartForConditionalGeneration.from_pretrained(MODEL_NAME_BART)"
   ]
  },
  {
   "cell_type": "code",
   "execution_count": 45,
   "metadata": {},
   "outputs": [
    {
     "name": "stdout",
     "output_type": "stream",
     "text": [
      "Demo for bart_finetuned\n"
     ]
    },
    {
     "name": "stderr",
     "output_type": "stream",
     "text": [
      "100%|██████████| 13/13 [01:31<00:00,  7.03s/it]\n",
      "Some weights of RobertaModel were not initialized from the model checkpoint at roberta-large and are newly initialized: ['pooler.dense.bias', 'pooler.dense.weight']\n",
      "You should probably TRAIN this model on a down-stream task to be able to use it for predictions and inference.\n"
     ]
    },
    {
     "name": "stdout",
     "output_type": "stream",
     "text": [
      "calculating scores...\n",
      "computing bert embedding.\n"
     ]
    },
    {
     "data": {
      "application/vnd.jupyter.widget-view+json": {
       "model_id": "8860faff68864525a8c5c727f18e07eb",
       "version_major": 2,
       "version_minor": 0
      },
      "text/plain": [
       "  0%|          | 0/4 [00:00<?, ?it/s]"
      ]
     },
     "metadata": {},
     "output_type": "display_data"
    },
    {
     "name": "stdout",
     "output_type": "stream",
     "text": [
      "computing greedy matching.\n"
     ]
    },
    {
     "data": {
      "application/vnd.jupyter.widget-view+json": {
       "model_id": "21d2ba8d5bd84bbc842fb6cd2bdaeecc",
       "version_major": 2,
       "version_minor": 0
      },
      "text/plain": [
       "  0%|          | 0/2 [00:00<?, ?it/s]"
      ]
     },
     "metadata": {},
     "output_type": "display_data"
    },
    {
     "name": "stdout",
     "output_type": "stream",
     "text": [
      "done in 1.86 seconds, 53.78 sentences/sec\n",
      "\n",
      "Average ROUGE-L: 0.2706\n",
      "Average BLEU-4:  0.0794\n",
      "Average BERTScore F1: 0.8714\n"
     ]
    }
   ],
   "source": [
    "demo('bart_finetuned', model, tokenizer)"
   ]
  },
  {
   "cell_type": "code",
   "execution_count": 18,
   "metadata": {},
   "outputs": [
    {
     "name": "stdout",
     "output_type": "stream",
     "text": [
      "\n",
      "Epoch 1/5\n"
     ]
    },
    {
     "name": "stderr",
     "output_type": "stream",
     "text": [
      "100%|██████████| 246/246 [17:08<00:00,  4.18s/it]\n"
     ]
    },
    {
     "name": "stdout",
     "output_type": "stream",
     "text": [
      "Average Loss: 0.9341\n",
      "Validation Loss: 0.3820\n",
      "\n",
      "Epoch 2/5\n"
     ]
    },
    {
     "name": "stderr",
     "output_type": "stream",
     "text": [
      "100%|██████████| 246/246 [17:30<00:00,  4.27s/it]\n"
     ]
    },
    {
     "name": "stdout",
     "output_type": "stream",
     "text": [
      "Average Loss: 0.2943\n",
      "Validation Loss: 0.2642\n",
      "\n",
      "Epoch 3/5\n"
     ]
    },
    {
     "name": "stderr",
     "output_type": "stream",
     "text": [
      "100%|██████████| 246/246 [18:07<00:00,  4.42s/it]\n"
     ]
    },
    {
     "name": "stdout",
     "output_type": "stream",
     "text": [
      "Average Loss: 0.1836\n",
      "Validation Loss: 0.2677\n",
      "\n",
      "Epoch 4/5\n"
     ]
    },
    {
     "name": "stderr",
     "output_type": "stream",
     "text": [
      "100%|██████████| 246/246 [21:10<00:00,  5.16s/it]\n"
     ]
    },
    {
     "name": "stdout",
     "output_type": "stream",
     "text": [
      "Average Loss: 0.1685\n",
      "Validation Loss: 0.3074\n",
      "\n",
      "Epoch 5/5\n"
     ]
    },
    {
     "name": "stderr",
     "output_type": "stream",
     "text": [
      "100%|██████████| 246/246 [20:50<00:00,  5.08s/it]\n"
     ]
    },
    {
     "name": "stdout",
     "output_type": "stream",
     "text": [
      "Average Loss: 0.1343\n",
      "Validation Loss: 0.3048\n",
      "Training complete.\n"
     ]
    }
   ],
   "source": [
    "train_loss_log, val_loss_log = train(model, train_loader,val_loader, 'bart_finetuned.pt')\n",
    "df_out.to_csv('bart_predictions.csv', index=False)\n",
    "print(\"Saved predictions to 'bart_predictions.csv'\")"
   ]
  },
  {
   "cell_type": "code",
   "execution_count": 19,
   "metadata": {},
   "outputs": [
    {
     "data": {
      "image/png": "[encoded data removed]",
      "text/plain": [
       "<Figure size 800x500 with 1 Axes>"
      ]
     },
     "metadata": {},
     "output_type": "display_data"
    }
   ],
   "source": [
    "get_loss_curve(train_loss_log, val_loss_log, 'BART Loss Curve')"
   ]
  },
  {
   "cell_type": "code",
   "execution_count": 46,
   "metadata": {},
   "outputs": [
    {
     "name": "stderr",
     "output_type": "stream",
     "text": [
      "100%|██████████| 53/53 [00:41<00:00,  1.27it/s]"
     ]
    },
    {
     "name": "stdout",
     "output_type": "stream",
     "text": [
      "Saved predictions to 'bart_predictions.csv'\n"
     ]
    },
    {
     "name": "stderr",
     "output_type": "stream",
     "text": [
      "\n"
     ]
    }
   ],
   "source": [
    "df_out = test(model, test_loader, tokenizer, 'bart_finetuned.pt')\n",
    "df_out.to_csv('bart_predictions.csv', index=False)\n",
    "print(\"Saved predictions to 'bart_predictions.csv'\")"
   ]
  },
  {
   "cell_type": "code",
   "execution_count": null,
   "metadata": {},
   "outputs": [],
   "source": [
    "try:\n",
    "    df_out\n",
    "except NameError:\n",
    "    df_out = pd.read_csv(\"bart_predictions.csv\")\n",
    "\n",
    "rouge_l, bleu_4, bertscore = eval(df_test, df_out)\n",
    "print(f\"\\nAverage ROUGE-L: {rouge_l:.4f}\")\n",
    "print(f\"Average BLEU-4:  {bleu_4:.4f}\")\n",
    "print(f\"Average BERTScore F1: {bertscore:.4f}\")"
   ]
  }
 ],
 "metadata": {
  "kernelspec": {
   "display_name": "Python 3",
   "language": "python",
   "name": "python3"
  },
  "language_info": {
   "codemirror_mode": {
    "name": "ipython",
    "version": 3
   },
   "file_extension": ".py",
   "mimetype": "text/x-python",
   "name": "python",
   "nbconvert_exporter": "python",
   "pygments_lexer": "ipython3",
   "version": "3.12.5"
  }
 },
 "nbformat": 4,
 "nbformat_minor": 2
}
