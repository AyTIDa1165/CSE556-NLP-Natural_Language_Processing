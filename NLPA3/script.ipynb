{
 "cells": [
  {
   "cell_type": "code",
   "execution_count": 50,
   "metadata": {},
   "outputs": [],
   "source": [
    "import pandas as pd\n",
    "import contractions\n",
    "from torch.utils.data import Dataset, DataLoader\n",
    "from google import genai\n",
    "import os\n",
    "from dotenv import load_dotenv\n",
    "import time\n",
    "import re\n",
    "import csv"
   ]
  },
  {
   "cell_type": "code",
   "execution_count": 51,
   "metadata": {},
   "outputs": [],
   "source": [
    "def clean_text(text):\n",
    "    if not isinstance(text, str):\n",
    "        return \"\"\n",
    "    \n",
    "    # Remove URLs\n",
    "    text = re.sub(r'(http[s]?://\\S+|www\\.\\S+)', '', text)\n",
    "\n",
    "    # Remove special characters\n",
    "    text = re.sub(r'[^\\w\\s]', '', text)\n",
    "    \n",
    "    # Split numbers and chars\n",
    "    text = re.sub(r'(?<=\\d)(?=[a-zA-Z])|(?<=[a-zA-Z])(?=\\d)', ' ', text)\n",
    "    \n",
    "    # Convert to lowercase\n",
    "    text = text.lower()\n",
    "    \n",
    "    # Remove extra spaces\n",
    "    text = re.sub(r'\\s+', ' ', text).strip()\n",
    "    \n",
    "    return text"
   ]
  },
  {
   "cell_type": "code",
   "execution_count": 52,
   "metadata": {},
   "outputs": [],
   "source": [
    "def expand(text):\n",
    "    with open('abbreviations.csv', mode='r', encoding='utf-8') as file:\n",
    "        reader = csv.reader(file)\n",
    "        abbreviations = {rows[0]: rows[1] for rows in reader}\n",
    "\n",
    "    words = text.split()\n",
    "    for i in range(len(words)):\n",
    "        word = words[i].lower()\n",
    "        if word in abbreviations:\n",
    "            if (word != 'pm') or (word == 'pm' and i > 0 and words[i-1].isalpha()):\n",
    "                words[i] = abbreviations[word]\n",
    "    return ' '.join(words)"
   ]
  },
  {
   "cell_type": "code",
   "execution_count": 53,
   "metadata": {},
   "outputs": [],
   "source": [
    "def preprocessing(path):\n",
    "    try:\n",
    "        df = pd.read_csv(path)\n",
    "        output_file = 'CLAN_data_preprocessed.csv'\n",
    "\n",
    "        with open(output_file, 'w', newline='', encoding='utf-8') as f:\n",
    "            f.write(','.join(df.columns) + '\\n')\n",
    "\n",
    "            for index, row in df.iterrows():\n",
    "                # Process text\n",
    "                text = contractions.fix(row['Social Media Post'])\n",
    "                text = expand(text)\n",
    "                text = clean_text(text)\n",
    "                row['Social Media Post'] = text\n",
    "\n",
    "                # Quote column 1 and 2\n",
    "                row[df.columns[1]] = f'\"{str(row[df.columns[1]]).replace(\"\\\"\", \"\\\"\\\"\")}\"'\n",
    "                row[df.columns[2]] = f'\"{str(row[df.columns[2]]).replace(\"\\\"\", \"\\\"\\\"\")}\"'\n",
    "\n",
    "                f.write(','.join(str(row[col]) for col in df.columns) + '\\n')\n",
    "\n",
    "    except Exception as e:\n",
    "        print(f\"Error: {e}\")\n"
   ]
  },
  {
   "cell_type": "code",
   "execution_count": 54,
   "metadata": {},
   "outputs": [],
   "source": [
    "preprocessing('CLAN_data.csv')"
   ]
  },
  {
   "cell_type": "code",
   "execution_count": 55,
   "metadata": {},
   "outputs": [
    {
     "name": "stdout",
     "output_type": "stream",
     "text": [
      "PID                                                                  2\n",
      "Social Media Post    important announcement coronavirus last evenin...\n",
      "Normalized Claim     If someone with the new coronavirus sneezes, i...\n",
      "Name: 1, dtype: object\n"
     ]
    }
   ],
   "source": [
    "df = pd.read_csv('CLAN_data_preprocessed.csv')\n",
    "print(df.loc[1])"
   ]
  }
 ],
 "metadata": {
  "kernelspec": {
   "display_name": "Python 3",
   "language": "python",
   "name": "python3"
  },
  "language_info": {
   "codemirror_mode": {
    "name": "ipython",
    "version": 3
   },
   "file_extension": ".py",
   "mimetype": "text/x-python",
   "name": "python",
   "nbconvert_exporter": "python",
   "pygments_lexer": "ipython3",
   "version": "3.12.5"
  }
 },
 "nbformat": 4,
 "nbformat_minor": 2
}
