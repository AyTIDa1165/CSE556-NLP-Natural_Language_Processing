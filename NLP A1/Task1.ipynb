{
 "cells": [
  {
   "cell_type": "code",
   "execution_count": 11,
   "metadata": {},
   "outputs": [],
   "source": [
    "import pandas as pd"
   ]
  },
  {
   "cell_type": "code",
   "execution_count": 12,
   "metadata": {},
   "outputs": [],
   "source": [
    "def preprocessing(text):\n",
    "    preprocessed_text = text.lower()\n",
    "    preprocessed_text = \" \".join(\"\".join(c if c.isalpha() else ' ' for c in word) for word in preprocessed_text.split())\n",
    "    preprocessed_text = \" \".join(preprocessed_text.split())\n",
    "    return preprocessed_text"
   ]
  },
  {
   "cell_type": "code",
   "execution_count": 13,
   "metadata": {},
   "outputs": [],
   "source": [
    "df = pd.read_csv(\"corpus.txt\", header=None, names=[\"text\"])\n",
    "text = df['text'].tolist()\n",
    "preprocessed_text = [preprocessing(sentence) for sentence in text]\n",
    "split_text = [sentence.split() for sentence in preprocessed_text]\n",
    "corpus = list(set([word for sentence in split_text for word in sentence]))\n",
    "split_corpus = [[word[0]] + ['##' + char for char in word[1:]] for word in corpus]\n",
    "vocabulary = list(set([char for split in split_corpus for char in split]))\n",
    "vocabulary_size = 1000"
   ]
  },
  {
   "cell_type": "code",
   "execution_count": 14,
   "metadata": {},
   "outputs": [],
   "source": [
    "def score(pairs, tokens, pair):\n",
    "    (token1, token2) = pair\n",
    "    return (pairs[pair] / (tokens[token1] * tokens[token2]))"
   ]
  },
  {
   "cell_type": "code",
   "execution_count": 15,
   "metadata": {},
   "outputs": [],
   "source": [
    "for _ in range(vocabulary_size):\n",
    "    pairs = {}\n",
    "    tokens = {}\n",
    "    for split in split_corpus:\n",
    "        for token in split:\n",
    "            tokens[token] = tokens.get(token, 0) + 1\n",
    "            tokens[token] += 1\n",
    "\n",
    "    for split in split_corpus:\n",
    "        for idx in range(len(split) - 1):\n",
    "            pair = (split[idx], split[idx+1])\n",
    "            pairs[pair] = pairs.get(pair, 0) + 1\n",
    "            pairs[pair] += 1\n",
    "\n",
    "    if(len(pairs) == 0):\n",
    "        break\n",
    "    \n",
    "    max_pair = max(pairs, key=lambda pair: score(pairs, tokens, pair))\n",
    "    max_token = max_pair[0] + max_pair[1][2:]\n",
    "    vocabulary.append(max_token)\n",
    "\n",
    "    updated_split_corpus = []\n",
    "    for split in split_corpus:\n",
    "        updated_split = []\n",
    "        idx = 0\n",
    "        while idx < len(split):\n",
    "            if idx+1 < len(split) and split[idx] == max_pair[0] and split[idx+1] == max_pair[1]:\n",
    "                updated_split.append(max_token)\n",
    "                idx += 2\n",
    "            else:\n",
    "                updated_split.append(split[idx])\n",
    "                idx += 1\n",
    "        updated_split_corpus.append(updated_split)\n",
    "    split_corpus = updated_split_corpus"
   ]
  },
  {
   "cell_type": "code",
   "execution_count": 16,
   "metadata": {},
   "outputs": [
    {
     "name": "stdout",
     "output_type": "stream",
     "text": [
      "Vocabulary written to vocabulary.txt\n"
     ]
    }
   ],
   "source": [
    "file_path = \"vocabulary.txt\"\n",
    "\n",
    "with open(file_path, \"w\", encoding=\"utf-8\") as f:\n",
    "    for token in vocabulary:\n",
    "        f.write(token + \"\\n\")\n",
    "\n",
    "print(f\"Vocabulary written to {file_path}\")\n"
   ]
  },
  {
   "cell_type": "code",
   "execution_count": 17,
   "metadata": {},
   "outputs": [],
   "source": [
    "tokenized_text = []\n",
    "for sentence in split_text:\n",
    "    tokenized_sentence = []\n",
    "    for word in sentence:\n",
    "        start_idx = 0\n",
    "        while start_idx < len(word):\n",
    "            marker = '##' if start_idx != 0 else ''\n",
    "            end_idx = len(word)-1\n",
    "            error_flag = True\n",
    "            while end_idx >= start_idx:\n",
    "                if marker + word[start_idx:end_idx+1] in vocabulary:\n",
    "                    tokenized_sentence.append(marker + word[start_idx:end_idx+1])\n",
    "                    start_idx = end_idx+1\n",
    "                    error_flag = False\n",
    "                    break\n",
    "                else:\n",
    "                    end_idx -= 1\n",
    "            if error_flag:\n",
    "                print(f\"Error in tokenizing {word}\")\n",
    "                break\n",
    "    tokenized_text.append(tokenized_sentence)"
   ]
  },
  {
   "cell_type": "code",
   "execution_count": 18,
   "metadata": {},
   "outputs": [
    {
     "name": "stdout",
     "output_type": "stream",
     "text": [
      "Corpus written to tokenized.txt\n"
     ]
    }
   ],
   "source": [
    "file_path = \"tokenized.txt\"\n",
    "\n",
    "with open(file_path, \"w\", encoding=\"utf-8\") as f:\n",
    "    for sentence in tokenized_text:\n",
    "        f.write(\" \".join(sentence) + \"\\n\")\n",
    "\n",
    "print(f\"Corpus written to {file_path}\")\n"
   ]
  }
 ],
 "metadata": {
  "kernelspec": {
   "display_name": "Python 3",
   "language": "python",
   "name": "python3"
  },
  "language_info": {
   "codemirror_mode": {
    "name": "ipython",
    "version": 3
   },
   "file_extension": ".py",
   "mimetype": "text/x-python",
   "name": "python",
   "nbconvert_exporter": "python",
   "pygments_lexer": "ipython3",
   "version": "3.12.5"
  }
 },
 "nbformat": 4,
 "nbformat_minor": 2
}
