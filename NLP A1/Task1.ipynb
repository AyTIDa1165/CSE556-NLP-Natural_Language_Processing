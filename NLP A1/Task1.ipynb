{
 "cells": [
  {
   "cell_type": "code",
   "execution_count": 146,
   "metadata": {},
   "outputs": [],
   "source": [
    "import numpy as np\n",
    "import pandas as pd\n"
   ]
  },
  {
   "cell_type": "code",
   "execution_count": 147,
   "metadata": {},
   "outputs": [],
   "source": [
    "df = pd.read_csv(\"corpus.txt\", header=None, names=[\"text\"])\n",
    "sentences = df['text'].tolist()\n",
    "sentences = ['huggingface', 'hugging face', 'hug hugger', 'learning learner learners learn']\n",
    "corpus = list(set([word for sentence in sentences for word in sentence.split()]))\n",
    "split_corpus = [[word[0]] + ['##' + char for char in word[1:]] for word in corpus]\n",
    "vocabulary = list(set([char for split in split_corpus for char in split]))\n",
    "vocabulary_size = 1000"
   ]
  },
  {
   "cell_type": "code",
   "execution_count": 148,
   "metadata": {},
   "outputs": [],
   "source": [
    "def score(pairs, tokens, pair):\n",
    "    (token1, token2) = pair\n",
    "    return (pairs[pair] / (tokens[token1] * tokens[token2]))"
   ]
  },
  {
   "cell_type": "code",
   "execution_count": 149,
   "metadata": {},
   "outputs": [],
   "source": [
    "for _ in range(vocabulary_size):\n",
    "    pairs = {}\n",
    "    tokens = {}\n",
    "    for split in split_corpus:\n",
    "        for token in split:\n",
    "            tokens[token] = tokens.get(token, 0) + 1\n",
    "            tokens[token] += 1\n",
    "\n",
    "    for split in split_corpus:\n",
    "        for idx in range(len(split) - 1):\n",
    "            pair = (split[idx], split[idx+1])\n",
    "            pairs[pair] = pairs.get(pair, 0) + 1\n",
    "            pairs[pair] += 1\n",
    "\n",
    "    if(len(pairs) == 0):\n",
    "        break\n",
    "    \n",
    "    max_pair = max(pairs, key=lambda pair: score(pairs, tokens, pair))\n",
    "    max_token = max_pair[0] + max_pair[1][2:]\n",
    "    vocabulary.append(max_token)\n",
    "\n",
    "    updated_split_corpus = []\n",
    "    for split in split_corpus:\n",
    "        updated_split = []\n",
    "        idx = 0\n",
    "        while idx < len(split):\n",
    "            if idx+1 < len(split) and split[idx] == max_pair[0] and split[idx+1] == max_pair[1]:\n",
    "                updated_split.append(max_token)\n",
    "                idx += 2\n",
    "            else:\n",
    "                updated_split.append(split[idx])\n",
    "                idx += 1\n",
    "        updated_split_corpus.append(updated_split)\n",
    "    split_corpus = updated_split_corpus"
   ]
  },
  {
   "cell_type": "code",
   "execution_count": 151,
   "metadata": {},
   "outputs": [
    {
     "name": "stdout",
     "output_type": "stream",
     "text": [
      "[['learning'], ['huggingface'], ['hugging'], ['learners'], ['hugger'], ['learn'], ['learner'], ['face'], ['hug']]\n"
     ]
    }
   ],
   "source": [
    "print(split_corpus)"
   ]
  },
  {
   "cell_type": "code",
   "execution_count": 150,
   "metadata": {},
   "outputs": [
    {
     "name": "stdout",
     "output_type": "stream",
     "text": [
      "['##g', '##s', '##i', '##e', '##f', 'l', 'f', '##a', '##n', 'h', '##u', '##r', '##c', 'hu', '##fa', '##fac', 'fa', 'fac', '##ar', '##rs', '##arn', '##in', 'le', 'learn', '##face', '##ers', '##er', 'face', 'learners', 'learner', 'learnin', 'learning', 'hug', '##gin', '##ging', '##ger', '##gingface', 'huggingface', 'hugging', 'hugger']\n"
     ]
    }
   ],
   "source": [
    "print(vocabulary)"
   ]
  }
 ],
 "metadata": {
  "kernelspec": {
   "display_name": "Python 3",
   "language": "python",
   "name": "python3"
  },
  "language_info": {
   "codemirror_mode": {
    "name": "ipython",
    "version": 3
   },
   "file_extension": ".py",
   "mimetype": "text/x-python",
   "name": "python",
   "nbconvert_exporter": "python",
   "pygments_lexer": "ipython3",
   "version": "3.12.5"
  }
 },
 "nbformat": 4,
 "nbformat_minor": 2
}
